{
 "cells": [
  {
   "cell_type": "code",
   "execution_count": 1,
   "metadata": {},
   "outputs": [],
   "source": [
    "import numpy as np\n",
    "import matplotlib.pyplot as plt\n",
    "%matplotlib inline\n",
    "out_dir = '/Users/tanshi/Desktop/SIP/'\n",
    "execfile(out_dir+'plot_routines.py')"
   ]
  },
  {
   "cell_type": "code",
   "execution_count": 2,
   "metadata": {},
   "outputs": [
    {
     "name": "stdout",
     "output_type": "stream",
     "text": [
      "[ 1.018  0.685  0.992 ... -0.402 -0.389 -0.614]\n",
      "1997\n",
      "[20.595 20.217 21.284 ... 23.994 24.281 24.396]\n",
      "1997\n",
      "[0.091 0.111 0.131 ... 2.915 3.515 4.315]\n"
     ]
    }
   ],
   "source": [
    "UV_besancon = np.loadtxt(out_dir+'besancanCMDdata.txt', usecols=(0),unpack=True)\n",
    "print UV_besancon\n",
    "print len(UV_besancon)\n",
    "\n",
    "mv_besancon = np.loadtxt(out_dir+'besancanCMDdata.txt', usecols=(1),unpack=True)\n",
    "print mv_besancon\n",
    "print len(mv_besancon)\n",
    "\n",
    "distance_besancon = np.loadtxt(out_dir+'besancanCMDdata.txt', usecols=(2),unpack=True)\n",
    "print distance_besancon"
   ]
  },
  {
   "cell_type": "code",
   "execution_count": 3,
   "metadata": {},
   "outputs": [
    {
     "name": "stdout",
     "output_type": "stream",
     "text": [
      "[18.984 18.491 18.097 17.774 17.51  17.285 17.082 16.883 16.684 16.478\n",
      " 16.257 16.012 15.742 15.462 15.178 14.909 14.658 14.222 13.865 13.557\n",
      " 13.281 13.023 12.783 12.554 12.342 12.149 11.977 11.834 11.714 11.615\n",
      " 11.544 11.476 11.406 11.336 11.27  11.207 11.148 11.09  11.036 10.982\n",
      " 10.682 10.241  9.814  9.433  9.19   8.986  8.793  8.616  8.446  8.286\n",
      "  8.126  7.968  7.795  7.589  7.388  7.183  6.951]\n"
     ]
    }
   ],
   "source": [
    "Mv_6 = np.loadtxt('Table_Mass_0.6.txt',usecols=(3),unpack=True)\n",
    "print(Mv_6)"
   ]
  },
  {
   "cell_type": "code",
   "execution_count": 4,
   "metadata": {},
   "outputs": [
    {
     "name": "stdout",
     "output_type": "stream",
     "text": [
      "[ 1.113  0.944  0.813  0.702  0.604  0.522  0.453  0.39   0.33   0.272\n",
      "  0.211  0.146  0.075  0.    -0.076 -0.149 -0.216 -0.335 -0.439 -0.515\n",
      " -0.563 -0.591 -0.602 -0.603 -0.597 -0.588 -0.582 -0.582 -0.587 -0.591\n",
      " -0.596 -0.603 -0.616 -0.633 -0.652 -0.672 -0.694 -0.715 -0.736 -0.757\n",
      " -0.87  -1.005 -1.106 -1.166 -1.196 -1.213 -1.225 -1.234 -1.241 -1.247\n",
      " -1.253 -1.257 -1.261 -1.264 -1.268 -1.271 -1.274]\n",
      "[ 1.418  1.423  1.384  1.336  1.285  1.234  1.189  1.143  1.099  1.052\n",
      "  1.002  0.948  0.887  0.823  0.757  0.694  0.636  0.533  0.445  0.374\n",
      "  0.322  0.283  0.255  0.236  0.224  0.215  0.207  0.197  0.187  0.177\n",
      "  0.167  0.154  0.138  0.12   0.102  0.082  0.065  0.049  0.034  0.021\n",
      " -0.046 -0.127 -0.193 -0.237 -0.26  -0.275 -0.286 -0.294 -0.301 -0.306\n",
      " -0.312 -0.316 -0.32  -0.324 -0.327 -0.33  -0.333]\n",
      "[ 2.531  2.367  2.197  2.038  1.889  1.756  1.642  1.533  1.429  1.324\n",
      "  1.213  1.094  0.962  0.823  0.681  0.545  0.42   0.198  0.006 -0.141\n",
      " -0.241 -0.308 -0.347 -0.367 -0.373 -0.373 -0.375 -0.385 -0.4   -0.414\n",
      " -0.429 -0.449 -0.478 -0.513 -0.55  -0.59  -0.629 -0.666 -0.702 -0.736\n",
      " -0.916 -1.132 -1.299 -1.403 -1.456 -1.488 -1.511 -1.528 -1.542 -1.553\n",
      " -1.565 -1.573 -1.581 -1.588 -1.595 -1.601 -1.607]\n"
     ]
    }
   ],
   "source": [
    "UB_6 = np.loadtxt('Table_Mass_0.6.txt', usecols=(4),unpack=True)\n",
    "print(UB_6)\n",
    "\n",
    "BV_6 = np.loadtxt('Table_Mass_0.6.txt', usecols=(5),unpack=True)\n",
    "print(BV_6)\n",
    "\n",
    "UV_6 = UB_6 + BV_6\n",
    "print(UV_6)"
   ]
  },
  {
   "cell_type": "code",
   "execution_count": 5,
   "metadata": {},
   "outputs": [],
   "source": [
    "# fig=plt.figure(figsize=(10,10))\n",
    "# plt.scatter(UV_besancon, mv_besancon, c='black',edgecolors='none',s=20,alpha=0.5)\n",
    "# plt.scatter(UV_6, Mv_6, c='green',edgecolors='none',s=20,alpha=0.5)\n",
    "# plt.ylim(25,5)\n",
    "# plt.xlabel('V-I')\n",
    "# plt.ylabel('mv')"
   ]
  },
  {
   "cell_type": "code",
   "execution_count": 6,
   "metadata": {},
   "outputs": [
    {
     "name": "stdout",
     "output_type": "stream",
     "text": [
      "[15.85654545 15.186      15.80336364 ... 11.69985714 11.802\n",
      " 11.17069231]\n",
      "1997\n"
     ]
    }
   ],
   "source": [
    "Mv_wd = np.array([])\n",
    "for j in range(len(UV_besancon)):\n",
    "    check = False\n",
    "    for i in range(len(UV_6)):\n",
    "        if (UV_besancon[j] < UV_6[i]) and (UV_besancon[j] > UV_6[i+1]):\n",
    "            weight1 = ((UV_6[i] - UV_besancon[j]) / (UV_6[i] - UV_6[i+1])) * 100\n",
    "            weight2 = ((UV_besancon[j] - UV_6[i+1]) / (UV_6[i] - UV_6[i+1])) * 100\n",
    "            Mv_wd = np.append(Mv_wd, ((Mv_6[i]*weight2) + (Mv_6[i+1]*weight1)) / (weight1 + weight2))\n",
    "            check = True\n",
    "        elif (UV_besancon[j] == UV_6[i]):\n",
    "            Mv_wd = np.append(Mv_wd, Mv_6[i])\n",
    "            check = True\n",
    "            break\n",
    "print(Mv_wd)\n",
    "print(len(Mv_wd))\n",
    "# for i in range(len(Mv_wd)):\n",
    "#     print Mv_wd[i]"
   ]
  },
  {
   "cell_type": "code",
   "execution_count": 7,
   "metadata": {},
   "outputs": [
    {
     "name": "stdout",
     "output_type": "stream",
     "text": [
      "1997\n",
      "1997\n",
      "4.416330212344653\n",
      "[0.091 0.111 0.131 ... 2.915 3.515 4.315]\n"
     ]
    }
   ],
   "source": [
    "# Using distance modulus equation to solve for D in pc given mv and Mv\n",
    "# Distance Modulus: mv - Mv = 5logD - 5\n",
    "print len(mv_besancon)\n",
    "print len(Mv_wd)\n",
    "distance_wd_kpc = np.array([])\n",
    "for i in range(len(mv_besancon)):\n",
    "    distance_wd_kpc = np.append(distance_wd_kpc, (10 ** (((mv_besancon[i] - Mv_wd[i]) + 5) / 5)/1000))\n",
    "print np.max(distance_wd_kpc)\n",
    "print(distance_besancon)"
   ]
  },
  {
   "cell_type": "code",
   "execution_count": 8,
   "metadata": {},
   "outputs": [
    {
     "name": "stdout",
     "output_type": "stream",
     "text": [
      "6.9849505676309604\n"
     ]
    }
   ],
   "source": [
    "# for i in range (len(distance_besancon)):\n",
    "#     print abs(distance_wd_kpc[i] - distance_besancon[i])/distance_besancon[i]*100\n",
    "# print \n",
    "print np.mean(abs(distance_wd_kpc - distance_besancon)/distance_besancon*100)"
   ]
  },
  {
   "cell_type": "code",
   "execution_count": null,
   "metadata": {},
   "outputs": [],
   "source": []
  }
 ],
 "metadata": {
  "kernelspec": {
   "display_name": "Python 2",
   "language": "python",
   "name": "python2"
  },
  "language_info": {
   "codemirror_mode": {
    "name": "ipython",
    "version": 2
   },
   "file_extension": ".py",
   "mimetype": "text/x-python",
   "name": "python",
   "nbconvert_exporter": "python",
   "pygments_lexer": "ipython2",
   "version": "2.7.15"
  }
 },
 "nbformat": 4,
 "nbformat_minor": 2
}
