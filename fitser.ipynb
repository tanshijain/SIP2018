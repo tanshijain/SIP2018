{
 "cells": [
  {
   "cell_type": "code",
   "execution_count": 1,
   "metadata": {},
   "outputs": [],
   "source": [
    "from astropy.io import fits\n",
    "from astropy.table import Table\n",
    "import matplotlib.pyplot as plt\n",
    "%matplotlib inline"
   ]
  },
  {
   "cell_type": "code",
   "execution_count": 2,
   "metadata": {},
   "outputs": [],
   "source": [
    "script_dir = '/Users/tanshi/Desktop/SIP/'\n",
    "fits_dir = '/Users/tanshi/Desktop/SIP/fitsfiles/'\n",
    "execfile(script_dir+'plot_routines.py')"
   ]
  },
  {
   "cell_type": "code",
   "execution_count": 3,
   "metadata": {},
   "outputs": [],
   "source": [
    "#things to open\n",
    "c1a = fits.open(fits_dir + 'zspec.c1a.fits')\n",
    "c2a = fits.open(fits_dir + 'zspec.c2a.fits')\n",
    "e5a = fits.open(fits_dir + 'zspec.E5a.fits')\n",
    "e6a = fits.open(fits_dir + 'zspec.E6a.fits')\n",
    "e7a = fits.open(fits_dir + 'zspec.E7a.fits')\n",
    "gn0a = fits.open(fits_dir + 'zspec.GN0a.fits')\n",
    "gn2a = fits.open(fits_dir + 'zspec.GN2a.fits')\n",
    "gs0d_0 = fits.open(fits_dir + 'zspec.gs0d_0.fits')\n",
    "gs1d_0 = fits.open(fits_dir + 'zspec.gs1d_0.fits')"
   ]
  },
  {
   "cell_type": "code",
   "execution_count": 4,
   "metadata": {},
   "outputs": [
    {
     "name": "stdout",
     "output_type": "stream",
     "text": [
      "Filename: /Users/tanshi/Desktop/SIP/fitsfiles/zspec.E6a.fits\n",
      "No.    Name      Ver    Type      Cards   Dimensions   Format\n",
      "  0  PRIMARY       1 PrimaryHDU       4   ()      \n",
      "  1                1 BinTableHDU     91   28R x 35C   [4A, 17A, 12A, 2A, 3A, 10A, D, E, E, E, J, E, 21A, 10J, 35E, 35E, 595A, J, 10E, E, E, I, 51A, 11A, 11A, I, E, E, 40A, 41A, 26A, A, E, E, E]   \n"
     ]
    }
   ],
   "source": [
    "#check info of file\n",
    "hdulist = e6a\n",
    "hdulist.info()"
   ]
  },
  {
   "cell_type": "code",
   "execution_count": 5,
   "metadata": {},
   "outputs": [
    {
     "name": "stdout",
     "output_type": "stream",
     "text": [
      "ColDefs(\n",
      "    name = 'CLASS'; format = '4A'\n",
      "    name = 'SUBCLASS'; format = '17A'\n",
      "    name = 'OBJNAME'; format = '12A'\n",
      "    name = 'SLITNAME'; format = '2A'\n",
      "    name = 'MASKNAME'; format = '3A'\n",
      "    name = 'DATE'; format = '10A'\n",
      "    name = 'MJD'; format = 'D'\n",
      "    name = 'Z'; format = 'E'\n",
      "    name = 'Z_ERR'; format = 'E'\n",
      "    name = 'RCHI2'; format = 'E'\n",
      "    name = 'DOF'; format = 'J'\n",
      "    name = 'RCHI2DIFF'; format = 'E'\n",
      "    name = 'TFILE'; format = '21A'\n",
      "    name = 'TCOLUMN'; format = '10J'\n",
      "    name = 'TMPL_RCHI2'; format = '35E'\n",
      "    name = 'TMPL_Z'; format = '35E'\n",
      "    name = 'TMPL_TFILE'; format = '595A'; dim = '(17, 35)'\n",
      "    name = 'NPOLY'; format = 'J'\n",
      "    name = 'THETA'; format = '10E'\n",
      "    name = 'VDISP'; format = 'E'\n",
      "    name = 'VDISP_ERR'; format = 'E'\n",
      "    name = 'ZQUALITY'; format = 'I'\n",
      "    name = 'EIGENDIR'; format = '51A'\n",
      "    name = 'RA'; format = '11A'\n",
      "    name = 'DEC'; format = '11A'\n",
      "    name = 'PRI'; format = 'I'\n",
      "    name = 'IMAG'; format = 'E'\n",
      "    name = 'RMAG'; format = 'E'\n",
      "    name = 'SPEC1D_FILE'; format = '40A'\n",
      "    name = 'ZSPEC1D_FILE'; format = '41A'\n",
      "    name = 'SPEC2D_FILE'; format = '26A'\n",
      "    name = 'COMMENT'; format = 'A'\n",
      "    name = 'AIRMASS'; format = 'E'\n",
      "    name = 'SN'; format = 'E'\n",
      "    name = 'ABAND'; format = 'E'\n",
      ")\n"
     ]
    }
   ],
   "source": [
    "#print columns\n",
    "print(hdulist[1].columns)"
   ]
  },
  {
   "cell_type": "code",
   "execution_count": 6,
   "metadata": {
    "scrolled": true
   },
   "outputs": [
    {
     "name": "stdout",
     "output_type": "stream",
     "text": [
      "(4, '11940       ')\n",
      "(2, '151         ')\n",
      "(4, '3845        ')\n",
      "(0, '4117        ')\n",
      "(0, '4864        ')\n",
      "(2, '6514        ')\n",
      "(4, '7398        ')\n",
      "(4, '9359        ')\n",
      "(4, '418         ')\n",
      "(4, '676         ')\n",
      "(0, 'irac085569  ')\n",
      "(0, 'irac085710_1')\n",
      "(4, 'irac085957  ')\n",
      "(3, 'irac086079  ')\n",
      "(0, 'irac086403  ')\n",
      "(4, 'irac086918  ')\n",
      "(4, 'irac087381  ')\n",
      "(3, 'irac087455  ')\n",
      "(2, 'irac087472_1')\n",
      "(4, 'irac089049  ')\n",
      "(4, 'irac089419  ')\n",
      "(4, 'irac089628_1')\n",
      "(0, 'irac091340  ')\n",
      "(4, 'irac092217  ')\n",
      "(4, 'irac093577  ')\n",
      "(3, 'irac097926  ')\n",
      "(2, 'irac102920  ')\n",
      "(0, 'irac103366  ')\n",
      "['11940       ', '151         ', '3845        ', '6514        ', '7398        ', '9359        ', '418         ', '676         ', 'irac085957  ', 'irac086079  ', 'irac086918  ', 'irac087381  ', 'irac087455  ', 'irac087472_1', 'irac089049  ', 'irac089419  ', 'irac089628_1', 'irac092217  ', 'irac093577  ', 'irac097926  ', 'irac102920  ']\n",
      "['4117        ', '4864        ', 'irac085569  ', 'irac085710_1', 'irac086403  ', 'irac091340  ', 'irac103366  ']\n"
     ]
    }
   ],
   "source": [
    "#get table\n",
    "data = Table(hdulist[1].data)\n",
    "star = []\n",
    "other = []\n",
    "for i in range (0,len(Table(hdulist[1].data))):\n",
    "    print((Table(hdulist[1].data)['ZQUALITY'][i],Table(hdulist[1].data)['OBJNAME'][i]))\n",
    "    if (((Table(hdulist[1].data)['ZQUALITY'][i]) == 0)):\n",
    "        other.append((Table(hdulist[1].data)['OBJNAME'][i]))\n",
    "    else:\n",
    "        star.append((Table(hdulist[1].data)['OBJNAME'][i]))  \n",
    "print(star)\n",
    "print(other)"
   ]
  },
  {
   "cell_type": "code",
   "execution_count": 7,
   "metadata": {},
   "outputs": [
    {
     "data": {
      "text/html": [
       "&lt;Table length=28&gt;\n",
       "<table id=\"table120736004112\" class=\"table-striped table-bordered table-condensed\">\n",
       "<thead><tr><th>CLASS</th><th>SUBCLASS</th><th>OBJNAME</th><th>SLITNAME</th><th>MASKNAME</th><th>DATE</th><th>MJD</th><th>Z</th><th>Z_ERR</th><th>RCHI2</th><th>DOF</th><th>RCHI2DIFF</th><th>TFILE</th><th>TCOLUMN [10]</th><th>TMPL_RCHI2 [35]</th><th>TMPL_Z [35]</th><th>TMPL_TFILE [35]</th><th>NPOLY</th><th>THETA [10]</th><th>VDISP</th><th>VDISP_ERR</th><th>ZQUALITY</th><th>EIGENDIR</th><th>RA</th><th>DEC</th><th>PRI</th><th>IMAG</th><th>RMAG</th><th>SPEC1D_FILE</th><th>ZSPEC1D_FILE</th><th>SPEC2D_FILE</th><th>COMMENT</th><th>AIRMASS</th><th>SN</th><th>ABAND</th></tr></thead>\n",
       "<thead><tr><th>str4</th><th>str17</th><th>str12</th><th>str2</th><th>str3</th><th>str10</th><th>float64</th><th>float32</th><th>float32</th><th>float32</th><th>int32</th><th>float32</th><th>str21</th><th>int32</th><th>float32</th><th>float32</th><th>str17</th><th>int32</th><th>float32</th><th>float32</th><th>float32</th><th>int16</th><th>str51</th><th>str11</th><th>str11</th><th>int16</th><th>float32</th><th>float32</th><th>str40</th><th>str41</th><th>str26</th><th>str1</th><th>float32</th><th>float32</th><th>float32</th></tr></thead>\n",
       "<tr><td>STAR</td><td>HD066665 B1V</td><td>11940</td><td>0</td><td>E6a</td><td>2017-04-03</td><td>57846.420526</td><td>-0.000608325</td><td>2.94588e-05</td><td>0.7246123</td><td>9215</td><td>0.0</td><td>deimos_templates.fits</td><td>0 .. -1</td><td>0.7246123 .. 0.0</td><td>-0.000608325 .. 0.0</td><td>HD066665 B1V      ..</td><td>4</td><td>0.5188152 .. 0.0</td><td>0.0</td><td>0.0</td><td>4</td><td>/data/d/ekirby/idl/mgidl/mg_deimos_1012//templates/</td><td>14:20:44.10</td><td>+53:02:40.5</td><td>1</td><td>0.0</td><td>0.0</td><td>/E6a/spec1d.E6a.000.11940.fits.gz</td><td>/E6a/zspec1d.E6a.000.11940.fits.gz</td><td>/E6a/slit.E6a.000R.fits.gz</td><td></td><td>1.291891</td><td>11.951209</td><td>-6.443262e-05</td></tr>\n",
       "<tr><td>STAR</td><td>HD237846 F8</td><td>151</td><td>1</td><td>E6a</td><td>2017-04-03</td><td>57846.420526</td><td>0.00053465366</td><td>5.8274523e-05</td><td>0.6260185</td><td>7850</td><td>0.0</td><td>deimos_templates.fits</td><td>6 .. -1</td><td>0.6260185 .. 0.0</td><td>0.00053465366 .. 0.0</td><td>HD237846 F8       ..</td><td>4</td><td>-151.08708 .. 0.0</td><td>0.0</td><td>0.0</td><td>2</td><td>/data/d/ekirby/idl/mgidl/mg_deimos_1012//templates/</td><td>14:20:38.73</td><td>+52:57:33.9</td><td>1</td><td>0.0</td><td>0.0</td><td>/E6a/spec1d.E6a.001.151.fits.gz</td><td>/E6a/zspec1d.E6a.001.151.fits.gz</td><td>/E6a/slit.E6a.001R.fits.gz</td><td></td><td>1.291891</td><td>0.7400238</td><td>-5.0783157e-05</td></tr>\n",
       "<tr><td>STAR</td><td>HD164136 F2II</td><td>3845</td><td>2</td><td>E6a</td><td>2017-04-03</td><td>57846.420526</td><td>-0.0006854534</td><td>1.0945191e-05</td><td>2.0694876</td><td>8602</td><td>0.0</td><td>deimos_templates.fits</td><td>17 .. -1</td><td>2.0694876 .. 0.0</td><td>-0.0006854534 .. 0.0</td><td>HD164136 F2II     ..</td><td>4</td><td>0.44944292 .. 0.0</td><td>0.0</td><td>0.0</td><td>4</td><td>/data/d/ekirby/idl/mgidl/mg_deimos_1012//templates/</td><td>14:20:47.04</td><td>+53:00:31.8</td><td>1</td><td>0.0</td><td>0.0</td><td>/E6a/spec1d.E6a.002.3845.fits.gz</td><td>/E6a/zspec1d.E6a.002.3845.fits.gz</td><td>/E6a/slit.E6a.002R.fits.gz</td><td></td><td>1.291891</td><td>28.777712</td><td>-1.9967556e-05</td></tr>\n",
       "<tr><td>STAR</td><td>HD066665 B1V</td><td>4117</td><td>3</td><td>E6a</td><td>2017-04-03</td><td>57846.420526</td><td>-0.003223896</td><td>7.6695236e-05</td><td>2.80584</td><td>8512</td><td>0.0</td><td>deimos_templates.fits</td><td>0 .. -1</td><td>2.80584 .. 0.0</td><td>-0.003223896 .. 0.0</td><td>HD066665 B1V      ..</td><td>4</td><td>0.8078719 .. 0.0</td><td>0.0</td><td>0.0</td><td>0</td><td>/data/d/ekirby/idl/mgidl/mg_deimos_1012//templates/</td><td>14:20:37.25</td><td>+52:58:51.2</td><td>1</td><td>0.0</td><td>0.0</td><td>/E6a/spec1d.E6a.003.4117.fits.gz</td><td>/E6a/zspec1d.E6a.003.4117.fits.gz</td><td>/E6a/slit.E6a.003R.fits.gz</td><td></td><td>1.291891</td><td>12.038062</td><td>-2.7894974e-05</td></tr>\n",
       "<tr><td>STAR</td><td>HD113285 M8III</td><td>4864</td><td>4</td><td>E6a</td><td>2017-04-03</td><td>57846.420526</td><td>-0.0034106374</td><td>-1.0</td><td>0.65806174</td><td>8825</td><td>0.0</td><td>deimos_templates.fits</td><td>13 .. -1</td><td>0.65806174 .. 0.0</td><td>-0.0034106374 .. 0.0</td><td>HD113285 M8III    ..</td><td>4</td><td>-19.180218 .. 0.0</td><td>0.0</td><td>0.0</td><td>0</td><td>/data/d/ekirby/idl/mgidl/mg_deimos_1012//templates/</td><td>14:20:41.68</td><td>+52:59:59.6</td><td>1</td><td>0.0</td><td>0.0</td><td>/E6a/spec1d.E6a.004.4864.fits.gz</td><td>/E6a/zspec1d.E6a.004.4864.fits.gz</td><td>/E6a/slit.E6a.004R.fits.gz</td><td></td><td>1.291891</td><td>1.0611222</td><td>5.5789948e-05</td></tr>\n",
       "<tr><td>STAR</td><td>SAO96548 C7</td><td>6514</td><td>5</td><td>E6a</td><td>2017-04-03</td><td>57846.420526</td><td>-0.003327608</td><td>-1.0</td><td>0.51482904</td><td>8279</td><td>0.0</td><td>deimos_templates.fits</td><td>29 .. -1</td><td>0.51482904 .. 0.0</td><td>-0.003327608 .. 0.0</td><td>SAO96548 C7       ..</td><td>4</td><td>0.32593873 .. 0.0</td><td>0.0</td><td>0.0</td><td>2</td><td>/data/d/ekirby/idl/mgidl/mg_deimos_1012//templates/</td><td>14:20:28.80</td><td>+52:58:17.7</td><td>1</td><td>0.0</td><td>0.0</td><td>/E6a/spec1d.E6a.005.6514.fits.gz</td><td>/E6a/zspec1d.E6a.005.6514.fits.gz</td><td>/E6a/slit.E6a.005R.fits.gz</td><td></td><td>1.291891</td><td>1.775772</td><td>-1.4781952e-05</td></tr>\n",
       "<tr><td>STAR</td><td>HD164136 F2II</td><td>7398</td><td>6</td><td>E6a</td><td>2017-04-03</td><td>57846.420526</td><td>-0.00036662817</td><td>1.1191199e-05</td><td>2.0059178</td><td>8899</td><td>0.0</td><td>deimos_templates.fits</td><td>17 .. -1</td><td>2.0059178 .. 0.0</td><td>-0.00036662817 .. 0.0</td><td>HD164136 F2II     ..</td><td>4</td><td>0.33692527 .. 0.0</td><td>0.0</td><td>0.0</td><td>4</td><td>/data/d/ekirby/idl/mgidl/mg_deimos_1012//templates/</td><td>14:20:54.96</td><td>+53:03:7.9</td><td>1</td><td>0.0</td><td>0.0</td><td>/E6a/spec1d.E6a.006.7398.fits.gz</td><td>/E6a/zspec1d.E6a.006.7398.fits.gz</td><td>/E6a/slit.E6a.006R.fits.gz</td><td></td><td>1.291891</td><td>30.31276</td><td>-5.5253506e-05</td></tr>\n",
       "<tr><td>STAR</td><td>HD65900 A1V</td><td>9359</td><td>7</td><td>E6a</td><td>2017-04-03</td><td>57846.420526</td><td>-7.8737736e-05</td><td>6.162063e-05</td><td>0.64998484</td><td>9219</td><td>0.0</td><td>deimos_templates.fits</td><td>16 .. -1</td><td>0.64998484 .. 0.0</td><td>-7.8737736e-05 .. 0.0</td><td>HD65900 A1V       ..</td><td>4</td><td>0.89594716 .. 0.0</td><td>0.0</td><td>0.0</td><td>4</td><td>/data/d/ekirby/idl/mgidl/mg_deimos_1012//templates/</td><td>14:20:52.62</td><td>+53:03:26.4</td><td>1</td><td>0.0</td><td>0.0</td><td>/E6a/spec1d.E6a.007.9359.fits.gz</td><td>/E6a/zspec1d.E6a.007.9359.fits.gz</td><td>/E6a/slit.E6a.007R.fits.gz</td><td></td><td>1.291891</td><td>3.704986</td><td>3.7908554e-05</td></tr>\n",
       "<tr><td>STAR</td><td>HD088230 K7V</td><td>418</td><td>9</td><td>E6a</td><td>2017-04-03</td><td>57846.420526</td><td>0.00041985512</td><td>2.0369771e-05</td><td>1.6153631</td><td>7955</td><td>0.0</td><td>deimos_templates.fits</td><td>11 .. -1</td><td>1.6153631 .. 0.0</td><td>0.00041985512 .. 0.0</td><td>HD088230 K7V      ..</td><td>4</td><td>0.30405968 .. 0.0</td><td>0.0</td><td>0.0</td><td>4</td><td>/data/d/ekirby/idl/mgidl/mg_deimos_1012//templates/</td><td>14:20:39.13</td><td>+52:57:46.5</td><td>1</td><td>0.0</td><td>0.0</td><td>/E6a/spec1d.E6a.009.418.fits.gz</td><td>/E6a/zspec1d.E6a.009.418.fits.gz</td><td>/E6a/slit.E6a.009R.fits.gz</td><td></td><td>1.291891</td><td>16.040478</td><td>7.05719e-05</td></tr>\n",
       "<tr><td>STAR</td><td>HD65900 A1V</td><td>676</td><td>10</td><td>E6a</td><td>2017-04-03</td><td>57846.420526</td><td>-0.0006816387</td><td>1.2418169e-05</td><td>36.830433</td><td>8124</td><td>0.0</td><td>deimos_templates.fits</td><td>16 .. -1</td><td>36.830433 .. 0.0</td><td>0.0031694174 .. 0.0</td><td>HD113285 M8III    ..</td><td>4</td><td>0.046547584 .. 0.0</td><td>0.0</td><td>0.0</td><td>4</td><td>/data/d/ekirby/idl/mgidl/mg_deimos_1012//templates/</td><td>14:20:48.15</td><td>+52:59:24.0</td><td>1</td><td>0.0</td><td>0.0</td><td>/E6a/spec1d.E6a.010.676.fits.gz</td><td>/E6a/zspec1d.E6a.010.676.fits.gz</td><td>/E6a/slit.E6a.010R.fits.gz</td><td></td><td>1.291891</td><td>119.380646</td><td>-9.536743e-07</td></tr>\n",
       "<tr><td>...</td><td>...</td><td>...</td><td>...</td><td>...</td><td>...</td><td>...</td><td>...</td><td>...</td><td>...</td><td>...</td><td>...</td><td>...</td><td>...</td><td>...</td><td>...</td><td>...</td><td>...</td><td>...</td><td>...</td><td>...</td><td>...</td><td>...</td><td>...</td><td>...</td><td>...</td><td>...</td><td>...</td><td>...</td><td>...</td><td>...</td><td>...</td><td>...</td><td>...</td><td>...</td></tr>\n",
       "<tr><td>STAR</td><td>HR6161 A0III</td><td>irac087472_1</td><td>20</td><td>E6a</td><td>2017-04-03</td><td>57846.420526</td><td>-0.00016678341</td><td>0.00025641205</td><td>0.60641634</td><td>9294</td><td>0.0</td><td>deimos_templates.fits</td><td>2 .. -1</td><td>0.60641634 .. 0.0</td><td>-0.0018293262 .. 0.0</td><td>HR6161 A0III      ..</td><td>4</td><td>0.2727997 .. 0.0</td><td>0.0</td><td>0.0</td><td>2</td><td>/data/d/ekirby/idl/mgidl/mg_deimos_1012//templates/</td><td>14:21:19.26</td><td>+53:09:35.2</td><td>1</td><td>0.0</td><td>0.0</td><td>/E6a/spec1d.E6a.020.irac087472_1.fits.gz</td><td>/E6a/zspec1d.E6a.020.irac087472_1.fits.gz</td><td>/E6a/slit.E6a.020R.fits.gz</td><td></td><td>1.291891</td><td>4.282423</td><td>-9.250641e-05</td></tr>\n",
       "<tr><td>STAR</td><td>HD65900 A1V</td><td>irac089049</td><td>21</td><td>E6a</td><td>2017-04-03</td><td>57846.420526</td><td>-6.6713365e-05</td><td>5.1803465e-05</td><td>0.60592663</td><td>8842</td><td>0.0</td><td>deimos_templates.fits</td><td>16 .. -1</td><td>0.60592663 .. 0.0</td><td>-0.0005697608 .. 0.0</td><td>HD65900 A1V       ..</td><td>4</td><td>0.6040516 .. 0.0</td><td>0.0</td><td>0.0</td><td>4</td><td>/data/d/ekirby/idl/mgidl/mg_deimos_1012//templates/</td><td>14:21:17.56</td><td>+53:07:46.1</td><td>1</td><td>0.0</td><td>0.0</td><td>/E6a/spec1d.E6a.021.irac089049.fits.gz</td><td>/E6a/zspec1d.E6a.021.irac089049.fits.gz</td><td>/E6a/slit.E6a.021R.fits.gz</td><td></td><td>1.291891</td><td>5.1610684</td><td>-0.00021219254</td></tr>\n",
       "<tr><td>STAR</td><td>HD052071 K2III</td><td>irac089419</td><td>22</td><td>E6a</td><td>2017-04-03</td><td>57846.420526</td><td>-0.00092309713</td><td>2.4449733e-05</td><td>0.7305632</td><td>8399</td><td>0.0</td><td>deimos_templates.fits</td><td>10 .. -1</td><td>0.7305632 .. 0.0</td><td>-0.0009663701 .. 0.0</td><td>HD088230 K7V      ..</td><td>4</td><td>0.16300842 .. 0.0</td><td>0.0</td><td>0.0</td><td>4</td><td>/data/d/ekirby/idl/mgidl/mg_deimos_1012//templates/</td><td>14:21:18.91</td><td>+53:06:59.9</td><td>1</td><td>0.0</td><td>0.0</td><td>/E6a/spec1d.E6a.022.irac089419.fits.gz</td><td>/E6a/zspec1d.E6a.022.irac089419.fits.gz</td><td>/E6a/slit.E6a.022R.fits.gz</td><td></td><td>1.291891</td><td>12.123635</td><td>-8.08239e-05</td></tr>\n",
       "<tr><td>STAR</td><td>HD164349 K0.5IIb</td><td>irac089628_1</td><td>23</td><td>E6a</td><td>2017-04-03</td><td>57846.420526</td><td>-0.000107467175</td><td>-1.0</td><td>0.57446307</td><td>8575</td><td>0.0</td><td>deimos_templates.fits</td><td>22 .. -1</td><td>0.57446307 .. 0.0</td><td>-0.003327608 .. 0.0</td><td>HD066665 B1V      ..</td><td>4</td><td>-0.35705876 .. 0.0</td><td>0.0</td><td>0.0</td><td>4</td><td>/data/d/ekirby/idl/mgidl/mg_deimos_1012//templates/</td><td>14:21:17.03</td><td>+53:07:6.4</td><td>1</td><td>0.0</td><td>0.0</td><td>/E6a/spec1d.E6a.023.irac089628_1.fits.gz</td><td>/E6a/zspec1d.E6a.023.irac089628_1.fits.gz</td><td>/E6a/slit.E6a.023R.fits.gz</td><td></td><td>1.291891</td><td>6.615968</td><td>-6.145239e-05</td></tr>\n",
       "<tr><td>STAR</td><td>HD237846 F8</td><td>irac091340</td><td>24</td><td>E6a</td><td>2017-04-03</td><td>57846.420526</td><td>-0.002585888</td><td>1.8257659e-05</td><td>8.617239</td><td>9339</td><td>0.0</td><td>deimos_templates.fits</td><td>6 .. -1</td><td>8.617239 .. 0.0</td><td>-0.002585888 .. 0.0</td><td>HD237846 F8       ..</td><td>4</td><td>-1.6406132 .. 0.0</td><td>0.0</td><td>0.0</td><td>0</td><td>/data/d/ekirby/idl/mgidl/mg_deimos_1012//templates/</td><td>14:21:7.14</td><td>+53:07:6.3</td><td>1</td><td>0.0</td><td>0.0</td><td>/E6a/spec1d.E6a.024.irac091340.fits.gz</td><td>/E6a/zspec1d.E6a.024.irac091340.fits.gz</td><td>/E6a/slit.E6a.024R.fits.gz</td><td></td><td>1.291891</td><td>6.3643394</td><td>-7.599592e-05</td></tr>\n",
       "<tr><td>STAR</td><td>HD74395 G1Ib</td><td>irac092217</td><td>25</td><td>E6a</td><td>2017-04-03</td><td>57846.420526</td><td>-0.00056706363</td><td>3.9562724e-06</td><td>2.5535703</td><td>7661</td><td>0.0</td><td>deimos_templates.fits</td><td>20 .. -1</td><td>2.5535703 .. 0.0</td><td>-0.00039851665 .. 0.0</td><td>SAO96548 C7       ..</td><td>4</td><td>0.08143313 .. 0.0</td><td>0.0</td><td>0.0</td><td>4</td><td>/data/d/ekirby/idl/mgidl/mg_deimos_1012//templates/</td><td>14:21:15.97</td><td>+53:04:21.2</td><td>1</td><td>0.0</td><td>0.0</td><td>/E6a/spec1d.E6a.025.irac092217.fits.gz</td><td>/E6a/zspec1d.E6a.025.irac092217.fits.gz</td><td>/E6a/slit.E6a.025R.fits.gz</td><td></td><td>1.291891</td><td>23.127695</td><td>-4.708767e-05</td></tr>\n",
       "<tr><td>STAR</td><td>HD113285 M8III</td><td>irac093577</td><td>26</td><td>E6a</td><td>2017-04-03</td><td>57846.420526</td><td>-0.0002001401</td><td>2.9001412e-05</td><td>1.8243736</td><td>8723</td><td>0.0</td><td>deimos_templates.fits</td><td>13 .. -1</td><td>1.8243736 .. 0.0</td><td>-0.00060272217 .. 0.0</td><td>HD113285 M8III    ..</td><td>4</td><td>0.1908356 .. 0.0</td><td>0.0</td><td>0.0</td><td>4</td><td>/data/d/ekirby/idl/mgidl/mg_deimos_1012//templates/</td><td>14:21:5.80</td><td>+53:05:4.5</td><td>1</td><td>0.0</td><td>0.0</td><td>/E6a/spec1d.E6a.026.irac093577.fits.gz</td><td>/E6a/zspec1d.E6a.026.irac093577.fits.gz</td><td>/E6a/slit.E6a.026R.fits.gz</td><td></td><td>1.291891</td><td>10.974601</td><td>5.4597855e-05</td></tr>\n",
       "<tr><td>STAR</td><td>HD065934 G8III</td><td>irac097926</td><td>27</td><td>E6a</td><td>2017-04-03</td><td>57846.420526</td><td>-0.00012481213</td><td>1.530059e-05</td><td>0.5302941</td><td>7547</td><td>0.0</td><td>deimos_templates.fits</td><td>8 .. -1</td><td>0.5302941 .. 0.0</td><td>-0.002251923 .. 0.0</td><td>SAO96548 C7       ..</td><td>4</td><td>0.14142476 .. 0.0</td><td>0.0</td><td>0.0</td><td>3</td><td>/data/d/ekirby/idl/mgidl/mg_deimos_1012//templates/</td><td>14:21:2.67</td><td>+53:01:12.8</td><td>1</td><td>0.0</td><td>0.0</td><td>/E6a/spec1d.E6a.027.irac097926.fits.gz</td><td>/E6a/zspec1d.E6a.027.irac097926.fits.gz</td><td>/E6a/slit.E6a.027R.fits.gz</td><td></td><td>1.291891</td><td>4.5785637</td><td>1.0251999e-05</td></tr>\n",
       "<tr><td>STAR</td><td>HD41117 B2Iaev</td><td>irac102920</td><td>28</td><td>E6a</td><td>2017-04-03</td><td>57846.420526</td><td>-0.003327608</td><td>-1.0</td><td>1.148509</td><td>7850</td><td>0.0</td><td>deimos_templates.fits</td><td>14 .. -1</td><td>1.148509 .. 0.0</td><td>-0.003327608 .. 0.0</td><td>HD41117 B2Iaev    ..</td><td>4</td><td>2.1757202 .. 0.0</td><td>0.0</td><td>0.0</td><td>2</td><td>/data/d/ekirby/idl/mgidl/mg_deimos_1012//templates/</td><td>14:20:48.96</td><td>+52:58:54.5</td><td>1</td><td>0.0</td><td>0.0</td><td>/E6a/spec1d.E6a.028.irac102920.fits.gz</td><td>/E6a/zspec1d.E6a.028.irac102920.fits.gz</td><td>/E6a/slit.E6a.028R.fits.gz</td><td></td><td>1.291891</td><td>2.5099425</td><td>6.580353e-05</td></tr>\n",
       "<tr><td>STAR</td><td>HD188727 G5Ibv</td><td>irac103366</td><td>29</td><td>E6a</td><td>2017-04-03</td><td>57846.420526</td><td>0.00027954578</td><td>2.9858102e-05</td><td>1.5656455</td><td>8030</td><td>0.0</td><td>deimos_templates.fits</td><td>21 .. -1</td><td>1.5656455 .. 0.0</td><td>0.00027954578 .. 0.0</td><td>HD188727 G5Ibv    ..</td><td>4</td><td>-1.5667875 .. 0.0</td><td>0.0</td><td>0.0</td><td>0</td><td>/data/d/ekirby/idl/mgidl/mg_deimos_1012//templates/</td><td>14:20:46.96</td><td>+52:58:50.6</td><td>1</td><td>0.0</td><td>0.0</td><td>/E6a/spec1d.E6a.029.irac103366.fits.gz</td><td>/E6a/zspec1d.E6a.029.irac103366.fits.gz</td><td>/E6a/slit.E6a.029R.fits.gz</td><td></td><td>1.291891</td><td>2.6700203</td><td>-2.2768974e-05</td></tr>\n",
       "</table>"
      ],
      "text/plain": [
       "<Table length=28>\n",
       "CLASS      SUBCLASS       OBJNAME    ... AIRMASS      SN         ABAND     \n",
       " str4       str17          str12     ... float32   float32      float32    \n",
       "----- ----------------- ------------ ... -------- ---------- --------------\n",
       " STAR HD066665 B1V      11940        ... 1.291891  11.951209  -6.443262e-05\n",
       " STAR HD237846 F8       151          ... 1.291891  0.7400238 -5.0783157e-05\n",
       " STAR HD164136 F2II     3845         ... 1.291891  28.777712 -1.9967556e-05\n",
       " STAR HD066665 B1V      4117         ... 1.291891  12.038062 -2.7894974e-05\n",
       " STAR HD113285 M8III    4864         ... 1.291891  1.0611222  5.5789948e-05\n",
       " STAR SAO96548 C7       6514         ... 1.291891   1.775772 -1.4781952e-05\n",
       " STAR HD164136 F2II     7398         ... 1.291891   30.31276 -5.5253506e-05\n",
       " STAR HD65900 A1V       9359         ... 1.291891   3.704986  3.7908554e-05\n",
       " STAR HD088230 K7V      418          ... 1.291891  16.040478    7.05719e-05\n",
       " STAR HD65900 A1V       676          ... 1.291891 119.380646  -9.536743e-07\n",
       "  ...               ...          ... ...      ...        ...            ...\n",
       " STAR HR6161 A0III      irac087472_1 ... 1.291891   4.282423  -9.250641e-05\n",
       " STAR HD65900 A1V       irac089049   ... 1.291891  5.1610684 -0.00021219254\n",
       " STAR HD052071 K2III    irac089419   ... 1.291891  12.123635   -8.08239e-05\n",
       " STAR HD164349 K0.5IIb  irac089628_1 ... 1.291891   6.615968  -6.145239e-05\n",
       " STAR HD237846 F8       irac091340   ... 1.291891  6.3643394  -7.599592e-05\n",
       " STAR HD74395 G1Ib      irac092217   ... 1.291891  23.127695  -4.708767e-05\n",
       " STAR HD113285 M8III    irac093577   ... 1.291891  10.974601  5.4597855e-05\n",
       " STAR HD065934 G8III    irac097926   ... 1.291891  4.5785637  1.0251999e-05\n",
       " STAR HD41117 B2Iaev    irac102920   ... 1.291891  2.5099425   6.580353e-05\n",
       " STAR HD188727 G5Ibv    irac103366   ... 1.291891  2.6700203 -2.2768974e-05"
      ]
     },
     "execution_count": 7,
     "metadata": {},
     "output_type": "execute_result"
    }
   ],
   "source": [
    "data"
   ]
  },
  {
   "cell_type": "code",
   "execution_count": 8,
   "metadata": {},
   "outputs": [],
   "source": [
    "#close file\n",
    "hdulist.close() \n",
    "#to ensure no \"ValueError: I/O operation on closed file\" on next run, restart + run all cells"
   ]
  },
  {
   "cell_type": "code",
   "execution_count": null,
   "metadata": {},
   "outputs": [],
   "source": []
  },
  {
   "cell_type": "code",
   "execution_count": null,
   "metadata": {},
   "outputs": [],
   "source": []
  },
  {
   "cell_type": "code",
   "execution_count": null,
   "metadata": {},
   "outputs": [],
   "source": []
  }
 ],
 "metadata": {
  "kernelspec": {
   "display_name": "Python 2",
   "language": "python",
   "name": "python2"
  },
  "language_info": {
   "codemirror_mode": {
    "name": "ipython",
    "version": 2
   },
   "file_extension": ".py",
   "mimetype": "text/x-python",
   "name": "python",
   "nbconvert_exporter": "python",
   "pygments_lexer": "ipython2",
   "version": "2.7.15"
  }
 },
 "nbformat": 4,
 "nbformat_minor": 2
}
