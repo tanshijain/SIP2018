{
 "cells": [
  {
   "cell_type": "code",
   "execution_count": 1,
   "metadata": {},
   "outputs": [],
   "source": [
    "import numpy as np\n",
    "import matplotlib.pyplot as plt\n",
    "%matplotlib inline\n",
    "out_dir = '/Users/tanshi/Desktop/SIP/'\n",
    "execfile(out_dir+'plot_routines.py')"
   ]
  },
  {
   "cell_type": "code",
   "execution_count": 2,
   "metadata": {},
   "outputs": [
    {
     "name": "stderr",
     "output_type": "stream",
     "text": [
      "/anaconda2/lib/python2.7/site-packages/ipykernel_launcher.py:3: RuntimeWarning: divide by zero encountered in log10\n",
      "  This is separate from the ipykernel package so we can avoid doing imports until\n",
      "/anaconda2/lib/python2.7/site-packages/ipykernel_launcher.py:4: RuntimeWarning: divide by zero encountered in log10\n",
      "  after removing the cwd from sys.path.\n",
      "/anaconda2/lib/python2.7/site-packages/ipykernel_launcher.py:5: RuntimeWarning: divide by zero encountered in log10\n",
      "  \"\"\"\n"
     ]
    },
    {
     "name": "stdout",
     "output_type": "stream",
     "text": [
      "22.05767480581427\n",
      "21.763536604498032\n",
      "20.769870906483707\n",
      "\n",
      "0.2660775316691186\n",
      "0.4811040937237898\n",
      "-0.28021610314021217\n"
     ]
    },
    {
     "name": "stderr",
     "output_type": "stream",
     "text": [
      "/anaconda2/lib/python2.7/site-packages/ipykernel_launcher.py:21: RuntimeWarning: divide by zero encountered in log10\n",
      "/anaconda2/lib/python2.7/site-packages/ipykernel_launcher.py:21: RuntimeWarning: invalid value encountered in log10\n",
      "/anaconda2/lib/python2.7/site-packages/ipykernel_launcher.py:22: RuntimeWarning: divide by zero encountered in log10\n",
      "/anaconda2/lib/python2.7/site-packages/ipykernel_launcher.py:22: RuntimeWarning: invalid value encountered in log10\n",
      "/anaconda2/lib/python2.7/site-packages/ipykernel_launcher.py:23: RuntimeWarning: divide by zero encountered in log10\n",
      "/anaconda2/lib/python2.7/site-packages/ipykernel_launcher.py:23: RuntimeWarning: invalid value encountered in log10\n"
     ]
    }
   ],
   "source": [
    "#8114 in GOODS-N (14), 6592 in EGS (12), 10234(13) in EGS\n",
    "candels=np.genfromtxt('sample_DR3_EGS.cat', usecols=(0, 1, 2, 8, 9, 10, 11, 12, 13, 14, 15, 20), names=['objectid', 'alpha_gr_dec', 'delta_gr_dec',\\\n",
    "                'flux_u','erflux_u', 'flux_b', 'erflux_b', 'flux_v', 'erflux_v', 'flux_i',\\\n",
    "                'erflux_i', 'class_star'], dtype=\"S10,f8,f8,f8,f8,f8,f8,f8,f8,f8,f8,f8\")\n",
    "m_v=-2.5*np.log10(candels['flux_v'])+23.9\n",
    "m_i=-2.5*np.log10(candels['flux_i'])+23.9\n",
    "m_u=-2.5*np.log10(candels['flux_u'])+23.9\n",
    "\n",
    "index_12 = 0\n",
    "index_13 = 0\n",
    "for i in range(len(candels['objectid'])):\n",
    "    if candels[i]['objectid'] == '6592':\n",
    "        index_12 = i\n",
    "    if candels[i]['objectid'] == '10234':\n",
    "        index_13 = i\n",
    "        \n",
    "mv_12 = m_v[index_12]\n",
    "mv_13 = m_v[index_13]\n",
    "UV_12 = m_u[index_12] - m_v[index_12]\n",
    "UV_13 = m_u[index_13] - m_v[index_13]\n",
    "\n",
    "candels_gdn=np.genfromtxt('sample_DR3_GOODSN.cat', usecols=(0, 1, 2, 8, 9, 10, 11, 12, 13, 14, 15, 20), names=['objectid', 'alpha_gr_dec', 'delta_gr_dec',\\\n",
    "                'flux_u','erflux_u', 'flux_b', 'erflux_b', 'flux_v', 'erflux_v', 'flux_i',\\\n",
    "                'erflux_i', 'class_star'], dtype=\"S10,f8,f8,f8,f8,f8,f8,f8,f8,f8,f8,f8\")\n",
    "m_v=-2.5*np.log10(candels_gdn['flux_v'])+23.9\n",
    "m_i=-2.5*np.log10(candels_gdn['flux_i'])+23.9\n",
    "m_u=-2.5*np.log10(candels_gdn['flux_u'])+23.9\n",
    "\n",
    "index_14 = 0\n",
    "\n",
    "for i in range(len(candels_gdn['objectid'])):\n",
    "    if candels_gdn[i]['objectid'] == '8114':\n",
    "        index_14 = i\n",
    "        \n",
    "mv_14 = m_v[index_14]\n",
    "UV_14 = m_u[index_14] - m_v[index_14]\n",
    "\n",
    "print mv_12\n",
    "print mv_13\n",
    "print mv_14\n",
    "print\n",
    "print UV_12\n",
    "print UV_13\n",
    "print UV_14\n"
   ]
  },
  {
   "cell_type": "code",
   "execution_count": 3,
   "metadata": {},
   "outputs": [
    {
     "name": "stdout",
     "output_type": "stream",
     "text": [
      "[18.78  18.294 17.903 17.585 17.328 17.107 16.904 16.703 16.503 16.293\n",
      " 16.069 15.818 15.542 15.255 14.968 14.696 14.442 14.007 13.649 13.34\n",
      " 13.061 12.801 12.559 12.328 12.114 11.919 11.746 11.604 11.488 11.397\n",
      " 11.324 11.251 11.176 11.104 11.039 10.975 10.914 10.853 10.796 10.741\n",
      " 10.422  9.951  9.488  9.047  8.771  8.52   8.285  8.06   7.848  7.64\n",
      "  7.421  7.171  6.906  6.648  6.385  6.092  5.76 ]\n"
     ]
    }
   ],
   "source": [
    "Mv_5 = np.loadtxt('Table_Mass_0.5.txt',usecols=(3),unpack=True)\n",
    "print(Mv_5)"
   ]
  },
  {
   "cell_type": "code",
   "execution_count": 4,
   "metadata": {},
   "outputs": [
    {
     "name": "stdout",
     "output_type": "stream",
     "text": [
      "[ 1.164  0.984  0.847  0.73   0.628  0.543  0.471  0.406  0.343  0.282\n",
      "  0.22   0.152  0.079  0.002 -0.075 -0.148 -0.216 -0.336 -0.44  -0.513\n",
      " -0.558 -0.582 -0.589 -0.586 -0.575 -0.563 -0.555 -0.553 -0.556 -0.559\n",
      " -0.564 -0.573 -0.589 -0.609 -0.631 -0.653 -0.676 -0.698 -0.72  -0.741\n",
      " -0.859 -0.995 -1.099 -1.162 -1.192 -1.21  -1.222 -1.232 -1.239 -1.245\n",
      " -1.251 -1.255 -1.26  -1.263 -1.266 -1.27  -1.272]\n",
      "[ 1.462  1.451  1.407  1.357  1.303  1.25   1.202  1.155  1.109  1.06\n",
      "  1.009  0.953  0.89   0.824  0.758  0.694  0.636  0.532  0.444  0.373\n",
      "  0.322  0.283  0.255  0.236  0.223  0.213  0.204  0.193  0.182  0.171\n",
      "  0.16   0.144  0.126  0.106  0.087  0.068  0.051  0.036  0.021  0.009\n",
      " -0.057 -0.136 -0.199 -0.242 -0.264 -0.279 -0.289 -0.297 -0.304 -0.309\n",
      " -0.315 -0.319 -0.323 -0.327 -0.33  -0.333 -0.335]\n",
      "[ 2.626  2.435  2.254  2.087  1.931  1.793  1.673  1.561  1.452  1.342\n",
      "  1.229  1.105  0.969  0.826  0.683  0.546  0.42   0.196  0.004 -0.14\n",
      " -0.236 -0.299 -0.334 -0.35  -0.352 -0.35  -0.351 -0.36  -0.374 -0.388\n",
      " -0.404 -0.429 -0.463 -0.503 -0.544 -0.585 -0.625 -0.662 -0.699 -0.732\n",
      " -0.916 -1.131 -1.298 -1.404 -1.456 -1.489 -1.511 -1.529 -1.543 -1.554\n",
      " -1.566 -1.574 -1.583 -1.59  -1.596 -1.603 -1.607]\n"
     ]
    }
   ],
   "source": [
    "UB_5 = np.loadtxt('Table_Mass_0.5.txt', usecols=(4),unpack=True)\n",
    "print(UB_5)\n",
    "\n",
    "BV_5 = np.loadtxt('Table_Mass_0.5.txt', usecols=(5),unpack=True)\n",
    "print(BV_5)\n",
    "\n",
    "UV_5 = UB_5 + BV_5\n",
    "print(UV_5)"
   ]
  },
  {
   "cell_type": "code",
   "execution_count": 5,
   "metadata": {},
   "outputs": [
    {
     "data": {
      "text/plain": [
       "Text(0,0.5,'Mv(mag)')"
      ]
     },
     "execution_count": 5,
     "metadata": {},
     "output_type": "execute_result"
    },
    {
     "data": {
      "image/png": "[encoded data removed]",
      "text/plain": [
       "<Figure size 720x720 with 1 Axes>"
      ]
     },
     "metadata": {},
     "output_type": "display_data"
    }
   ],
   "source": [
    "#plotting model WD curve\n",
    "fig=plt.figure(figsize=(10,10))\n",
    "plt.scatter(UV_5, Mv_5, c='black',edgecolors='none',s=20,alpha=0.5)\n",
    "plt.ylim(22,4)\n",
    "plt.xlabel('U-V (0.5)')\n",
    "plt.ylabel('Mv(mag)')"
   ]
  },
  {
   "cell_type": "code",
   "execution_count": 6,
   "metadata": {},
   "outputs": [
    {
     "name": "stdout",
     "output_type": "stream",
     "text": [
      "[ 0.61  0.84  0.73  0.15  0.02 -0.25  0.65  0.18  0.17  0.67  0.88  0.27\n",
      "  0.48 -0.28]\n",
      "[14.82306569 15.2830979  15.06232867 13.92122917 13.67883333 13.00322222\n",
      " 14.90248175 13.97716667 13.95852083 14.94218978 15.36337762 14.15070536\n",
      " 14.56295238 12.8794127 ]\n"
     ]
    }
   ],
   "source": [
    "#using weighted averages for U-V from Maddie's table and the Table txt file to find corresponding Mv for each WD\n",
    "mv = [19.79, 22.09, 19.85, 23.37, 22.69, 22.38, 22.42, 22.88, 22.7, 20.88, 21.15, 22.06, 21.76, 20.77]\n",
    "maddie_UV = np.array([0.61, 0.84, 0.73, 0.15, 0.02, -0.25, 0.65, 0.18, 0.17, 0.67, 0.88, 0.27, 0.48, -0.28])\n",
    "Mv_wd_5 = np.array([])\n",
    "\n",
    "for j in range(len(maddie_UV)):\n",
    "    for i in range(len(UV_5)):\n",
    "        if (maddie_UV[j] < UV_5[i]) and (maddie_UV[j] > UV_5[i+1]):\n",
    "#             x1 = UV[i]\n",
    "#             y1 = Mv[i]\n",
    "#             x2 = UV[i+1]\n",
    "#             y2 = Mv[i+1]\n",
    "#             x = [x1, x2]\n",
    "#             y = [y1, y2]\n",
    "#             plt.scatter(UV, Mv, c='black',edgecolors='none',s=5,alpha=0.5)\n",
    "#             plt.plot(x, y)\n",
    "#             plt.ylim(22,4)\n",
    "            weight1_5 = ((UV_5[i] - maddie_UV[j]) / (UV_5[i] - UV_5[i+1])) * 100\n",
    "            weight2_5 = ((maddie_UV[j] - UV_5[i+1]) / (UV_5[i] - UV_5[i+1])) * 100\n",
    "            Mv_wd_5 = np.append(Mv_wd_5, ((Mv_5[i]*weight2_5) + (Mv_5[i+1]*weight1_5)) / (weight1_5 + weight2_5))\n",
    "            #UV_wd = np.append(UV_wd, (((x1*(UV[i]-x1)) + (weight1)) / ((UV[i]-x1) + (UV[i+1]-x2))))\n",
    "#             print(UV_wd)\n",
    "#             for i in range(len(UV_wd)):\n",
    "#                 Mv_wd = np.append(Mv_wd, )\n",
    "print(maddie_UV)\n",
    "print(Mv_wd_5)"
   ]
  },
  {
   "cell_type": "code",
   "execution_count": 7,
   "metadata": {},
   "outputs": [
    {
     "name": "stdout",
     "output_type": "stream",
     "text": [
      "[ 98.48880348 229.81608371  90.68475118 775.8078446  634.21036185\n",
      " 750.5083968  318.78923653 603.3463179  560.13902787 154.01465374\n",
      " 143.65623349 381.82022442 275.04865388 378.54495304]\n",
      "[3.03936448e+15 7.09212434e+15 2.79853142e+15 2.39414301e+16\n",
      " 1.95717318e+16 2.31606891e+16 9.83783584e+15 1.86192674e+16\n",
      " 1.72858904e+16 4.75289221e+15 4.43323137e+15 1.17829721e+16\n",
      " 8.48800146e+15 1.16818973e+16]\n"
     ]
    }
   ],
   "source": [
    "# Using distance modulus equation to solve for D in pc given mv and Mv\n",
    "# Multiplying by 3.086e+13 to convert from pc to km\n",
    "# Distance Modulus: mv - Mv = 5logD - 5\n",
    "distance_wd_pc_5 = np.array([])\n",
    "distance_wd_km_5 = np.array([])\n",
    "for i in range(len(mv)):\n",
    "    distance_wd_pc_5 = np.append(distance_wd_pc_5, (10 ** (((mv[i] - Mv_wd_5[i]) + 5) / 5)))\n",
    "    distance_wd_km_5 = np.append(distance_wd_km_5, (distance_wd_pc_5[i] * 3.086e+13))\n",
    "print(distance_wd_pc_5)\n",
    "print(distance_wd_km_5)"
   ]
  },
  {
   "cell_type": "code",
   "execution_count": 8,
   "metadata": {},
   "outputs": [
    {
     "name": "stdout",
     "output_type": "stream",
     "text": [
      "5.1005\n",
      "Distance in parsecs: \n",
      "[104.73696861 245.69708276  96.67184338 823.18983692 676.39439481\n",
      " 747.30863419 339.23448954 639.44029453 593.88177789 163.94568853\n",
      " 153.7446457  404.29651708 291.60837985 365.76319301]\n",
      "\n",
      "Distance in km: \n",
      "[3.23218285e+15 7.58221197e+15 2.98329309e+15 2.54036384e+16\n",
      " 2.08735310e+16 2.30619445e+16 1.04687763e+16 1.97331275e+16\n",
      " 1.83271917e+16 5.05936395e+15 4.74455977e+15 1.24765905e+16\n",
      " 8.99903460e+15 1.12874521e+16]\n"
     ]
    }
   ],
   "source": [
    "#Using trend line to guess Mv\n",
    "def fitline(x):\n",
    "    return 1.95*x+13.5\n",
    "\n",
    "#Using distance modulus equation to solve for D given mv and Mv\n",
    "print 19.79-fitline(0.61)\n",
    "distance_wd_trend_5 = 10**((mv-fitline(maddie_UV)+5)/5)\n",
    "\n",
    "print ('Distance in parsecs: ')\n",
    "print distance_wd_trend_5\n",
    "print\n",
    "print('Distance in km: ')\n",
    "distance_wd_km_trend_5 = distance_wd_trend_5 * 3.086e+13\n",
    "print distance_wd_km_trend_5"
   ]
  },
  {
   "cell_type": "code",
   "execution_count": 9,
   "metadata": {},
   "outputs": [
    {
     "data": {
      "text/plain": [
       "<matplotlib.collections.PathCollection at 0x1c211969d0>"
      ]
     },
     "execution_count": 9,
     "metadata": {},
     "output_type": "execute_result"
    },
    {
     "data": {
      "image/png": "[encoded data removed]",
      "text/plain": [
       "<Figure size 720x720 with 1 Axes>"
      ]
     },
     "metadata": {},
     "output_type": "display_data"
    }
   ],
   "source": [
    "#plotting distance calculated from weighted averages against distance calculated by trend to compare accuracy\n",
    "fig=plt.figure(figsize=(10,10))\n",
    "plt.scatter(maddie_UV, distance_wd_pc_5, c='black',edgecolors='none',s=60,alpha=0.5)\n",
    "plt.scatter(maddie_UV, distance_wd_trend_5, c='blue',edgecolors='none',s=60,alpha=0.5)"
   ]
  },
  {
   "cell_type": "code",
   "execution_count": 10,
   "metadata": {},
   "outputs": [
    {
     "data": {
      "text/plain": [
       "[<matplotlib.lines.Line2D at 0x1c211a55d0>]"
      ]
     },
     "execution_count": 10,
     "metadata": {},
     "output_type": "execute_result"
    },
    {
     "data": {
      "image/png": "[encoded data removed]",
      "text/plain": [
       "<Figure size 720x720 with 1 Axes>"
      ]
     },
     "metadata": {},
     "output_type": "display_data"
    }
   ],
   "source": [
    "#plotting Mv calculated from weighted averages against UV vs Mv (table txt file) plot\n",
    "#Mv from weighted averages should lay on the curve since it is an average of two Mv points on the curve\n",
    "fig=plt.figure(figsize=(10,10))\n",
    "plt.scatter(UV_5, Mv_5, c='black',edgecolors='none',s=20,alpha=0.5)\n",
    "plt.ylim(28,-1)\n",
    "plt.xlabel('U-V')\n",
    "plt.ylabel('Mv(mag)')\n",
    "plt.scatter(maddie_UV, Mv_wd_5, c='blue',edgecolors='none',s=20,alpha=0.5)\n",
    "x_array = [-0.2, 1.8, 1.8, -0.2, -0.2]\n",
    "y_array = [18.7, 18.7, 23.3, 23.3, 18.7]\n",
    "plt.plot(x_array, y_array)"
   ]
  },
  {
   "cell_type": "code",
   "execution_count": 11,
   "metadata": {},
   "outputs": [
    {
     "name": "stdout",
     "output_type": "stream",
     "text": [
      "PMW in radians per sec\n",
      "(3.5334449359933375e-16, 'error:', 1.5362804069536253e-17)\n",
      "(0.0, 'error:', 0.0)\n",
      "(2.304420610430438e-16, 'error:', 6.145121627814501e-17)\n",
      "(1.5670060150926974e-15, 'error:', 1.5362804069536253e-17)\n",
      "(1.1829359133542914e-15, 'error:', 1.5362804069536253e-17)\n",
      "(-3.687072976688701e-16, 'error:', 3.0725608139072506e-17)\n",
      "(0.0, 'error:', 0.0)\n",
      "(-1.4901919947450162e-15, 'error:', 3.0725608139072506e-17)\n",
      "(2.7653047325165255e-16, 'error:', 3.0725608139072506e-17)\n",
      "(3.0725608139072506e-17, 'error:', 3.0725608139072506e-17)\n",
      "(2.4580486511258005e-16, 'error:', 4.608841220860876e-17)\n",
      "(3.2215800133817522e-15, 'error:', 1.9971645290397132e-17)\n",
      "(0.0, 'error:', 0.0)\n",
      "(8.418816630105866e-16, 'error:', 1.9971645290397132e-17)\n",
      "\n",
      "PMN in radians per sec\n",
      "(-5.069725342946963e-16, 'error:', 1.5362804069536253e-17)\n",
      "(0.0, 'error:', 0.0)\n",
      "(-3.687072976688701e-16, 'error:', 6.145121627814501e-17)\n",
      "(9.371310482417114e-16, 'error:', 1.5362804069536253e-17)\n",
      "(-1.9971645290397127e-16, 'error:', 1.5362804069536253e-17)\n",
      "(-1.3519267581191906e-15, 'error:', 3.0725608139072506e-17)\n",
      "(0.0, 'error:', 0.0)\n",
      "(-2.3197834144999736e-15, 'error:', 3.0725608139072506e-17)\n",
      "(7.374145953377402e-16, 'error:', 3.0725608139072506e-17)\n",
      "(-1.9971645290397127e-16, 'error:', 3.0725608139072506e-17)\n",
      "(-3.5334449359933375e-16, 'error:', 3.0725608139072506e-17)\n",
      "(2.1077767183403742e-15, 'error:', 2.1507925697350755e-17)\n",
      "(0.0, 'error:', 0.0)\n",
      "(1.1660368288778015e-15, 'error:', 1.9971645290397132e-17)\n"
     ]
    }
   ],
   "source": [
    "#converting PM from mas/yr to rad/sec\n",
    "\n",
    "# EGS 6592 PMW=20.97+/- 0.13, PMN=13.72+/- 0.14\n",
    "# GOODSN 8114:  PMW=5.48 +/- 0.13 PMN=7.59 +/- 0.13\n",
    "\n",
    "\n",
    "PMW = [2.3, 0, 1.5, 10.2, 7.7, -2.4, 0, -9.7, 1.8, 0.2, 1.6, 20.97, 0, 5.48]\n",
    "PMW_error = [0.1, 0, 0.4, 0.1, 0.1, 0.2, 0, 0.2, 0.2, 0.2, 0.3, 0.13, 0, 0.13]\n",
    "PMN = [-3.3, 0, -2.4, 6.1, -1.3, -8.8, 0, -15.1, 4.8, -1.3, -2.3, 13.72, 0, 7.59]\n",
    "PMN_error = [0.1, 0, 0.4, 0.1, 0.1, 0.2, 0, 0.2, 0.2, 0.2, 0.2, 0.14, 0, 0.13]\n",
    "\n",
    "PMW_radians_per_sec = np.array([])\n",
    "PMW_error_radians_per_sec = np.array([])\n",
    "PMN_radians_per_sec = np.array([])\n",
    "PMN_error_radians_per_sec = np.array([])\n",
    "\n",
    "#miliarcsec/year\n",
    "#arcsec/year * 1 year/265.25d * 1d/24h * 1h/60min \n",
    "\n",
    "for k in range(len(PMW)):\n",
    "    PMW_radians_per_sec = np.append(PMW_radians_per_sec, ((PMW[k] / (10 ** 3)) / 206265 / 365.25 / 24 / 3600))\n",
    "    PMW_error_radians_per_sec = np.append(PMW_error_radians_per_sec, ((PMW_error[k] / (10 ** 3)) / 206265 / 365.25 / 24 / 3600))\n",
    "    PMN_radians_per_sec = np.append(PMN_radians_per_sec, ((PMN[k] / (10 ** 3)) / 206265 / 365.25 / 24 / 3600))\n",
    "    PMN_error_radians_per_sec = np.append(PMN_error_radians_per_sec, ((PMN_error[k] / (10 ** 3)) / 206265 / 365.25 / 24 / 3600))\n",
    "\n",
    "# print(PMW_radians_per_sec)\n",
    "# print(PMW_error_radians_per_sec)\n",
    "# print(PMN_radians_per_sec)\n",
    "# print(PMN_error_radians_per_sec)\n",
    "\n",
    "print('PMW in radians per sec')\n",
    "for l in range(len(PMW)):\n",
    "    print(PMW_radians_per_sec[l], 'error:', PMW_error_radians_per_sec[l])\n",
    "\n",
    "print\n",
    "\n",
    "print('PMN in radians per sec')\n",
    "for m in range(len(PMN)):\n",
    "    print(PMN_radians_per_sec[m], 'error:', PMN_error_radians_per_sec[m])"
   ]
  },
  {
   "cell_type": "code",
   "execution_count": 12,
   "metadata": {
    "scrolled": true
   },
   "outputs": [
    {
     "name": "stdout",
     "output_type": "stream",
     "text": [
      "PMW in km per sec\n",
      "(1.0739427013873424, 'error:', 0.04669316092988446)\n",
      "(0.0, 'error:', 0.0)\n",
      "(0.6448993486590999, 'error:', 0.17197315964242665)\n",
      "(37.51636495220639, 'error:', 0.3678074995314352)\n",
      "(23.15210439325566, 'error:', 0.3006766804318917)\n",
      "(-8.539515099471343, 'error:', 0.7116262582892785)\n",
      "(0.0, 'error:', 0.0)\n",
      "(-27.74628318341745, 'error:', 0.5720883130601537)\n",
      "(4.780075452910089, 'error:', 0.5311194947677877)\n",
      "(0.14603550370752078, 'error:', 0.14603550370752078)\n",
      "(1.0897098378257157, 'error:', 0.20432059459232169)\n",
      "(37.959787498524435, 'error:', 0.2353253397619541)\n",
      "(0.0, 'error:', 0.0)\n",
      "(9.83477508464748, 'error:', 0.2333067082124403)\n",
      "\n",
      "PMN in km per sec\n",
      "(-1.5408743106861869, 'error: ', 0.04669316092988446)\n",
      "(0.0, 'error: ', 0.0)\n",
      "(-1.03183895785456, 'error: ', 0.17197315964242665)\n",
      "(22.436257471417548, 'error: ', 0.3678074995314352)\n",
      "(-3.908796845614592, 'error: ', 0.3006766804318917)\n",
      "(-31.311555364728264, 'error: ', 0.7116262582892785)\n",
      "(0.0, 'error: ', 0.0)\n",
      "(-43.19266763604159, 'error: ', 0.5720883130601537)\n",
      "(12.746867874426906, 'error: ', 0.5311194947677877)\n",
      "(-0.949230774098885, 'error: ', 0.14603550370752078)\n",
      "(-1.566457891874466, 'error: ', 0.13621372972821447)\n",
      "(24.835874319492387, 'error: ', 0.2534272889744121)\n",
      "(0.0, 'error: ', 0.0)\n",
      "(13.62152242563401, 'error: ', 0.2333067082124403)\n"
     ]
    }
   ],
   "source": [
    "#converting PM from rad/sec to km/sec\n",
    "PMW_km_per_sec_5 = np.array([])\n",
    "PMW_km_per_sec_error_5 = np.array([])\n",
    "PMN_km_per_sec_5 = np.array([])\n",
    "PMN_km_per_sec_error_5 = np.array([])\n",
    "\n",
    "print('PMW in km per sec')\n",
    "for i in range(len(PMW)):\n",
    "    print(PMW_radians_per_sec[i] * distance_wd_km_5[i], 'error:', PMW_error_radians_per_sec[i] * distance_wd_km_5[i])\n",
    "    PMW_km_per_sec_5 = np.append(PMW_km_per_sec_5, (PMW_radians_per_sec[i] * distance_wd_km_5[i]))\n",
    "    PMW_km_per_sec_error_5 = np.append(PMW_km_per_sec_error_5, (PMW_error_radians_per_sec[i] * distance_wd_km_5[i]))\n",
    "\n",
    "# print(PMW_km_per_sec_5)\n",
    "# print(PMW_km_per_sec_error_5)\n",
    "\n",
    "print\n",
    "\n",
    "print('PMN in km per sec')\n",
    "for j in range(len(PMN)):\n",
    "    print(PMN_radians_per_sec[j] * distance_wd_km_5[j], 'error: ', PMN_error_radians_per_sec[j] * distance_wd_km_5[j])\n",
    "    PMN_km_per_sec_5 = np.append(PMN_km_per_sec_5, (PMN_radians_per_sec[j] * distance_wd_km_5[j]))\n",
    "    PMN_km_per_sec_error_5 = np.append(PMN_km_per_sec_error_5, (PMN_error_radians_per_sec[j] * distance_wd_km_5[j]))\n",
    "\n",
    "# print(PMN_km_per_sec_5)\n",
    "# print(PMN_km_per_sec_error_5)"
   ]
  },
  {
   "cell_type": "code",
   "execution_count": 13,
   "metadata": {},
   "outputs": [
    {
     "data": {
      "text/plain": [
       "'*******************************************************************************************************************'"
      ]
     },
     "execution_count": 13,
     "metadata": {},
     "output_type": "execute_result"
    }
   ],
   "source": [
    "'*******************************************************************************************************************'"
   ]
  },
  {
   "cell_type": "code",
   "execution_count": 14,
   "metadata": {},
   "outputs": [
    {
     "name": "stdout",
     "output_type": "stream",
     "text": [
      "[18.984 18.491 18.097 17.774 17.51  17.285 17.082 16.883 16.684 16.478\n",
      " 16.257 16.012 15.742 15.462 15.178 14.909 14.658 14.222 13.865 13.557\n",
      " 13.281 13.023 12.783 12.554 12.342 12.149 11.977 11.834 11.714 11.615\n",
      " 11.544 11.476 11.406 11.336 11.27  11.207 11.148 11.09  11.036 10.982\n",
      " 10.682 10.241  9.814  9.433  9.19   8.986  8.793  8.616  8.446  8.286\n",
      "  8.126  7.968  7.795  7.589  7.388  7.183  6.951]\n"
     ]
    }
   ],
   "source": [
    "Mv_6 = np.loadtxt('Table_Mass_0.6.txt',usecols=(3),unpack=True)\n",
    "print(Mv_6)"
   ]
  },
  {
   "cell_type": "code",
   "execution_count": 15,
   "metadata": {},
   "outputs": [
    {
     "name": "stdout",
     "output_type": "stream",
     "text": [
      "[ 1.113  0.944  0.813  0.702  0.604  0.522  0.453  0.39   0.33   0.272\n",
      "  0.211  0.146  0.075  0.    -0.076 -0.149 -0.216 -0.335 -0.439 -0.515\n",
      " -0.563 -0.591 -0.602 -0.603 -0.597 -0.588 -0.582 -0.582 -0.587 -0.591\n",
      " -0.596 -0.603 -0.616 -0.633 -0.652 -0.672 -0.694 -0.715 -0.736 -0.757\n",
      " -0.87  -1.005 -1.106 -1.166 -1.196 -1.213 -1.225 -1.234 -1.241 -1.247\n",
      " -1.253 -1.257 -1.261 -1.264 -1.268 -1.271 -1.274]\n",
      "[ 1.418  1.423  1.384  1.336  1.285  1.234  1.189  1.143  1.099  1.052\n",
      "  1.002  0.948  0.887  0.823  0.757  0.694  0.636  0.533  0.445  0.374\n",
      "  0.322  0.283  0.255  0.236  0.224  0.215  0.207  0.197  0.187  0.177\n",
      "  0.167  0.154  0.138  0.12   0.102  0.082  0.065  0.049  0.034  0.021\n",
      " -0.046 -0.127 -0.193 -0.237 -0.26  -0.275 -0.286 -0.294 -0.301 -0.306\n",
      " -0.312 -0.316 -0.32  -0.324 -0.327 -0.33  -0.333]\n",
      "[ 2.531  2.367  2.197  2.038  1.889  1.756  1.642  1.533  1.429  1.324\n",
      "  1.213  1.094  0.962  0.823  0.681  0.545  0.42   0.198  0.006 -0.141\n",
      " -0.241 -0.308 -0.347 -0.367 -0.373 -0.373 -0.375 -0.385 -0.4   -0.414\n",
      " -0.429 -0.449 -0.478 -0.513 -0.55  -0.59  -0.629 -0.666 -0.702 -0.736\n",
      " -0.916 -1.132 -1.299 -1.403 -1.456 -1.488 -1.511 -1.528 -1.542 -1.553\n",
      " -1.565 -1.573 -1.581 -1.588 -1.595 -1.601 -1.607]\n"
     ]
    }
   ],
   "source": [
    "UB_6 = np.loadtxt('Table_Mass_0.6.txt', usecols=(4),unpack=True)\n",
    "print(UB_6)\n",
    "\n",
    "BV_6 = np.loadtxt('Table_Mass_0.6.txt', usecols=(5),unpack=True)\n",
    "print(BV_6)\n",
    "\n",
    "UV_6 = UB_6 + BV_6\n",
    "print(UV_6)"
   ]
  },
  {
   "cell_type": "code",
   "execution_count": 16,
   "metadata": {},
   "outputs": [
    {
     "data": {
      "text/plain": [
       "Text(0,0.5,'Mv(mag)')"
      ]
     },
     "execution_count": 16,
     "metadata": {},
     "output_type": "execute_result"
    },
    {
     "data": {
      "image/png": "[encoded data removed]",
      "text/plain": [
       "<Figure size 720x720 with 1 Axes>"
      ]
     },
     "metadata": {},
     "output_type": "display_data"
    }
   ],
   "source": [
    "#plotting model WD curve\n",
    "fig=plt.figure(figsize=(10,10))\n",
    "plt.scatter(UV_6, Mv_6, c='black',edgecolors='none',s=20,alpha=0.5)\n",
    "plt.ylim(22,4)\n",
    "plt.xlabel('U-V (0.6)')\n",
    "plt.ylabel('Mv(mag)')"
   ]
  },
  {
   "cell_type": "code",
   "execution_count": 17,
   "metadata": {},
   "outputs": [
    {
     "name": "stdout",
     "output_type": "stream",
     "text": [
      "[ 0.61  0.84  0.73  0.15  0.02 -0.25  0.65  0.18  0.17  0.67  0.88  0.27\n",
      "  0.48 -0.28]\n",
      "[15.03756618 15.4962446  15.276      14.13275    13.89103125 13.24634328\n",
      " 15.11668382 14.18853125 14.1699375  15.15624265 15.57682014 14.36340541\n",
      " 14.77848    13.1308209 ]\n"
     ]
    }
   ],
   "source": [
    "#using weighted averages for U-V from Maddie's table and the Table txt file to find corresponding Mv for each WD\n",
    "Mv_wd_6 = np.array([])\n",
    "for j in range(len(maddie_UV)):\n",
    "    for i in range(len(UV_6)):\n",
    "        if (maddie_UV[j] < UV_6[i]) and (maddie_UV[j] > UV_6[i+1]):\n",
    "#             x1 = UV[i]\n",
    "#             y1 = Mv[i]\n",
    "#             x2 = UV[i+1]\n",
    "#             y2 = Mv[i+1]\n",
    "#             x = [x1, x2]\n",
    "#             y = [y1, y2]\n",
    "#             plt.scatter(UV, Mv, c='black',edgecolors='none',s=5,alpha=0.5)\n",
    "#             plt.plot(x, y)\n",
    "#             plt.ylim(22,4)\n",
    "            weight1_6 = ((UV_6[i] - maddie_UV[j]) / (UV_6[i] - UV_6[i+1])) * 100\n",
    "            weight2_6 = ((maddie_UV[j] - UV_6[i+1]) / (UV_6[i] - UV_6[i+1])) * 100\n",
    "            Mv_wd_6 = np.append(Mv_wd_6, ((Mv_6[i]*weight2_6) + (Mv_6[i+1]*weight1_6)) / (weight1_6 + weight2_6))\n",
    "            #UV_wd = np.append(UV_wd, (((x1*(UV[i]-x1)) + (weight1)) / ((UV[i]-x1) + (UV[i+1]-x2))))\n",
    "#             print(UV_wd)\n",
    "#             for i in range(len(UV_wd)):\n",
    "#                 Mv_wd = np.append(Mv_wd, )\n",
    "print(maddie_UV)\n",
    "print(Mv_wd_6)"
   ]
  },
  {
   "cell_type": "code",
   "execution_count": 18,
   "metadata": {},
   "outputs": [
    {
     "name": "stdout",
     "output_type": "stream",
     "text": [
      "[ 89.22504275 208.32964756  82.18640804 703.80119516 575.16672109\n",
      " 671.01363216 288.84392331 547.3860811  508.17406878 139.55695037\n",
      " 130.20749123 346.19350754 249.06000931 337.15982589]\n",
      "[2.75348482e+15 6.42905292e+15 2.53627255e+15 2.17193049e+16\n",
      " 1.77496450e+16 2.07074807e+16 8.91372347e+15 1.68923345e+16\n",
      " 1.56822518e+16 4.30672749e+15 4.01820318e+15 1.06835316e+16\n",
      " 7.68599189e+15 1.04047522e+16]\n"
     ]
    }
   ],
   "source": [
    "# Using distance modulus equation to solve for D in pc given mv and Mv\n",
    "# Multiplying by 3.086e+13 to convert from pc to km\n",
    "# Distance Modulus: mv - Mv = 5logD - 5\n",
    "distance_wd_pc_6 = np.array([])\n",
    "distance_wd_km_6 = np.array([])\n",
    "for i in range(len(mv)):\n",
    "    distance_wd_pc_6 = np.append(distance_wd_pc_6, (10 ** (((mv[i] - Mv_wd_6[i]) + 5) / 5)))\n",
    "    distance_wd_km_6 = np.append(distance_wd_km_6, (distance_wd_pc_6[i] * 3.086e+13))\n",
    "print(distance_wd_pc_6)\n",
    "print(distance_wd_km_6)"
   ]
  },
  {
   "cell_type": "code",
   "execution_count": 19,
   "metadata": {},
   "outputs": [
    {
     "name": "stdout",
     "output_type": "stream",
     "text": [
      "5.1005\n",
      "Distance in parsecs: \n",
      "[104.73696861 245.69708276  96.67184338 823.18983692 676.39439481\n",
      " 747.30863419 339.23448954 639.44029453 593.88177789 163.94568853\n",
      " 153.7446457  404.29651708 291.60837985 365.76319301]\n",
      "\n",
      "Distance in km: \n",
      "[3.23218285e+15 7.58221197e+15 2.98329309e+15 2.54036384e+16\n",
      " 2.08735310e+16 2.30619445e+16 1.04687763e+16 1.97331275e+16\n",
      " 1.83271917e+16 5.05936395e+15 4.74455977e+15 1.24765905e+16\n",
      " 8.99903460e+15 1.12874521e+16]\n"
     ]
    }
   ],
   "source": [
    "#Using trend line to guess Mv\n",
    "def fitline(x):\n",
    "    return 1.95*x+13.5\n",
    "\n",
    "#Using distance modulus equation to solve for D given mv and Mv\n",
    "print 19.79-fitline(0.61)\n",
    "distance_wd_trend_6 = 10**((mv-fitline(maddie_UV)+5)/5)\n",
    "\n",
    "print ('Distance in parsecs: ')\n",
    "print distance_wd_trend_6\n",
    "print\n",
    "print('Distance in km: ')\n",
    "distance_wd_km_trend_6 = distance_wd_trend_6 * 3.086e+13\n",
    "print distance_wd_km_trend_6"
   ]
  },
  {
   "cell_type": "code",
   "execution_count": 20,
   "metadata": {},
   "outputs": [
    {
     "data": {
      "text/plain": [
       "<matplotlib.collections.PathCollection at 0x1c21396a10>"
      ]
     },
     "execution_count": 20,
     "metadata": {},
     "output_type": "execute_result"
    },
    {
     "data": {
      "image/png": "[encoded data removed]",
      "text/plain": [
       "<Figure size 720x720 with 1 Axes>"
      ]
     },
     "metadata": {},
     "output_type": "display_data"
    }
   ],
   "source": [
    "#plotting distance calculated from weighted averages against distance calculated by trend to compare accuracy\n",
    "fig=plt.figure(figsize=(10,10))\n",
    "plt.scatter(maddie_UV, distance_wd_pc_6, c='black',edgecolors='none',s=60,alpha=0.5)\n",
    "plt.scatter(maddie_UV, distance_wd_trend_6, c='blue',edgecolors='none',s=60,alpha=0.5)"
   ]
  },
  {
   "cell_type": "code",
   "execution_count": 21,
   "metadata": {},
   "outputs": [
    {
     "data": {
      "text/plain": [
       "[<matplotlib.lines.Line2D at 0x1c21361490>]"
      ]
     },
     "execution_count": 21,
     "metadata": {},
     "output_type": "execute_result"
    },
    {
     "data": {
      "image/png": "[encoded data removed]",
      "text/plain": [
       "<Figure size 720x720 with 1 Axes>"
      ]
     },
     "metadata": {},
     "output_type": "display_data"
    }
   ],
   "source": [
    "#plotting Mv calculated from weighted averages against UV vs Mv (table txt file) plot\n",
    "#Mv from weighted averages should lay on the curve since it is an average of two Mv points on the curve\n",
    "fig=plt.figure(figsize=(10,10))\n",
    "plt.scatter(UV_6, Mv_6, c='black',edgecolors='none',s=20,alpha=0.5)\n",
    "plt.ylim(28,-1)\n",
    "plt.xlabel('U-V')\n",
    "plt.ylabel('Mv(mag)')\n",
    "plt.scatter(maddie_UV, Mv_wd_6, c='blue',edgecolors='none',s=20,alpha=0.5)\n",
    "x_array = [-0.2, 1.8, 1.8, -0.2, -0.2]\n",
    "y_array = [18.7, 18.7, 23.3, 23.3, 18.7]\n",
    "plt.plot(x_array, y_array)"
   ]
  },
  {
   "cell_type": "code",
   "execution_count": 22,
   "metadata": {},
   "outputs": [
    {
     "name": "stdout",
     "output_type": "stream",
     "text": [
      "PMW in km per sec\n",
      "(0.9729286990888931, 'error:', 0.04230124778647362)\n",
      "(0.0, 'error:', 0.0)\n",
      "(0.5844638742682535, 'error:', 0.15585703313820093)\n",
      "(34.034281394962456, 'error:', 0.33366942544080846)\n",
      "(20.99669253489848, 'error:', 0.27268431863504516)\n",
      "(-7.634999246123421, 'error:', 0.6362499371769518)\n",
      "(0.0, 'error:', 0.0)\n",
      "(-25.172821588892106, 'error:', 0.5190272492555075)\n",
      "(4.336620501511447, 'error:', 0.4818467223901608)\n",
      "(0.13232682117382846, 'error:', 0.13232682117382846)\n",
      "(0.9876938904960666, 'error:', 0.1851926044680125)\n",
      "(34.417852012034906, 'error:', 0.21336770441414107)\n",
      "(0.0, 'error:', 0.0)\n",
      "(8.75957010807663, 'error:', 0.20780002081203694)\n",
      "\n",
      "PMN in km per sec\n",
      "(-1.3959411769536294, 'error: ', 0.04230124778647362)\n",
      "(0.0, 'error: ', 0.0)\n",
      "(-0.9351421988292057, 'error: ', 0.15585703313820093)\n",
      "(20.353834951889315, 'error: ', 0.33366942544080846)\n",
      "(-3.5448961422555874, 'error: ', 0.27268431863504516)\n",
      "(-27.99499723578588, 'error: ', 0.6362499371769518)\n",
      "(0.0, 'error: ', 0.0)\n",
      "(-39.186557318790804, 'error: ', 0.5190272492555075)\n",
      "(11.564321337363861, 'error: ', 0.4818467223901608)\n",
      "(-0.8601243376298849, 'error: ', 0.13232682117382846)\n",
      "(-1.4198099675880955, 'error: ', 0.12346173631200832)\n",
      "(22.518499265861657, 'error: ', 0.22978060475369036)\n",
      "(0.0, 'error: ', 0.0)\n",
      "(12.132324292025846, 'error: ', 0.20780002081203694)\n"
     ]
    }
   ],
   "source": [
    "#converting PM from rad/sec to km/sec\n",
    "PMW_km_per_sec_6 = np.array([])\n",
    "PMW_km_per_sec_error_6 = np.array([])\n",
    "PMN_km_per_sec_6 = np.array([])\n",
    "PMN_km_per_sec_error_6 = np.array([])\n",
    "\n",
    "print('PMW in km per sec')\n",
    "for i in range(len(PMW)):\n",
    "    print(PMW_radians_per_sec[i] * distance_wd_km_6[i], 'error:', PMW_error_radians_per_sec[i] * distance_wd_km_6[i])\n",
    "    PMW_km_per_sec_6 = np.append(PMW_km_per_sec_6, (PMW_radians_per_sec[i] * distance_wd_km_6[i]))\n",
    "    PMW_km_per_sec_error_6 = np.append(PMW_km_per_sec_error_6, (PMW_error_radians_per_sec[i] * distance_wd_km_6[i]))\n",
    "\n",
    "# print(PMW_km_per_sec_6)\n",
    "# print(PMW_km_per_sec_error_6)\n",
    "\n",
    "print\n",
    "\n",
    "print('PMN in km per sec')\n",
    "for j in range(len(PMN)):\n",
    "    print(PMN_radians_per_sec[j] * distance_wd_km_6[j], 'error: ', PMN_error_radians_per_sec[j] * distance_wd_km_6[j])\n",
    "    PMN_km_per_sec_6 = np.append(PMN_km_per_sec_6, (PMN_radians_per_sec[j] * distance_wd_km_6[j]))\n",
    "    PMN_km_per_sec_error_6 = np.append(PMN_km_per_sec_error_6, (PMN_error_radians_per_sec[j] * distance_wd_km_6[j]))\n",
    "\n",
    "# print(PMN_km_per_sec_6)\n",
    "# print(PMN_km_per_sec_error_6)"
   ]
  },
  {
   "cell_type": "code",
   "execution_count": 23,
   "metadata": {},
   "outputs": [
    {
     "data": {
      "text/plain": [
       "'*******************************************************************************************************************'"
      ]
     },
     "execution_count": 23,
     "metadata": {},
     "output_type": "execute_result"
    }
   ],
   "source": [
    "'*******************************************************************************************************************'"
   ]
  },
  {
   "cell_type": "code",
   "execution_count": 24,
   "metadata": {},
   "outputs": [
    {
     "name": "stdout",
     "output_type": "stream",
     "text": [
      "[19.186 18.684 18.29  17.965 17.696 17.466 17.261 17.063 16.866 16.662\n",
      " 16.445 16.205 15.942 15.667 15.387 15.12  14.872 14.437 14.08  13.774\n",
      " 13.5   13.244 13.006 12.78  12.569 12.377 12.204 12.06  11.937 11.833\n",
      " 11.758 11.691 11.626 11.559 11.492 11.429 11.37  11.314 11.261 11.208\n",
      " 10.915 10.488 10.079  9.732  9.504  9.329  9.169  9.035  8.902  8.777\n",
      "  8.653  8.535  8.416  8.282  8.149  8.019  7.887]\n"
     ]
    }
   ],
   "source": [
    "Mv_7 = np.loadtxt('Table_Mass_0.7.txt',usecols=(3),unpack=True)\n",
    "print(Mv_7)"
   ]
  },
  {
   "cell_type": "code",
   "execution_count": 25,
   "metadata": {},
   "outputs": [
    {
     "name": "stdout",
     "output_type": "stream",
     "text": [
      "[ 1.066  0.913  0.784  0.676  0.582  0.502  0.435  0.376  0.318  0.261\n",
      "  0.203  0.14   0.071 -0.003 -0.077 -0.15  -0.216 -0.334 -0.438 -0.517\n",
      " -0.569 -0.6   -0.615 -0.619 -0.617 -0.611 -0.607 -0.608 -0.614 -0.62\n",
      " -0.624 -0.632 -0.642 -0.656 -0.673 -0.691 -0.711 -0.73  -0.751 -0.771\n",
      " -0.881 -1.013 -1.112 -1.171 -1.199 -1.215 -1.227 -1.236 -1.243 -1.249\n",
      " -1.254 -1.258 -1.263 -1.265 -1.268 -1.271 -1.274]\n",
      "[ 1.387  1.407  1.371  1.321  1.269  1.22   1.176  1.132  1.089  1.044\n",
      "  0.996  0.943  0.884  0.821  0.756  0.693  0.636  0.534  0.446  0.375\n",
      "  0.322  0.283  0.255  0.236  0.224  0.216  0.209  0.2    0.19   0.181\n",
      "  0.171  0.161  0.147  0.131  0.114  0.095  0.078  0.062  0.046  0.032\n",
      " -0.037 -0.121 -0.189 -0.234 -0.257 -0.273 -0.284 -0.292 -0.299 -0.304\n",
      " -0.31  -0.314 -0.318 -0.322 -0.325 -0.327 -0.331]\n",
      "[ 2.453  2.32   2.155  1.997  1.851  1.722  1.611  1.508  1.407  1.305\n",
      "  1.199  1.083  0.955  0.818  0.679  0.543  0.42   0.2    0.008 -0.142\n",
      " -0.247 -0.317 -0.36  -0.383 -0.393 -0.395 -0.398 -0.408 -0.424 -0.439\n",
      " -0.453 -0.471 -0.495 -0.525 -0.559 -0.596 -0.633 -0.668 -0.705 -0.739\n",
      " -0.918 -1.134 -1.301 -1.405 -1.456 -1.488 -1.511 -1.528 -1.542 -1.553\n",
      " -1.564 -1.572 -1.581 -1.587 -1.593 -1.598 -1.605]\n"
     ]
    }
   ],
   "source": [
    "UB_7 = np.loadtxt('Table_Mass_0.7.txt', usecols=(4),unpack=True)\n",
    "print(UB_7)\n",
    "\n",
    "BV_7 = np.loadtxt('Table_Mass_0.7.txt', usecols=(5),unpack=True)\n",
    "print(BV_7)\n",
    "\n",
    "UV_7 = UB_7 + BV_7\n",
    "print(UV_7)"
   ]
  },
  {
   "cell_type": "code",
   "execution_count": 26,
   "metadata": {},
   "outputs": [
    {
     "data": {
      "text/plain": [
       "Text(0,0.5,'Mv(mag)')"
      ]
     },
     "execution_count": 26,
     "metadata": {},
     "output_type": "execute_result"
    },
    {
     "data": {
      "image/png": "[encoded data removed]",
      "text/plain": [
       "<Figure size 720x720 with 1 Axes>"
      ]
     },
     "metadata": {},
     "output_type": "display_data"
    }
   ],
   "source": [
    "#plotting model WD curve\n",
    "fig=plt.figure(figsize=(10,10))\n",
    "plt.scatter(UV_7, Mv_7, c='black',edgecolors='none',s=20,alpha=0.5)\n",
    "plt.ylim(22,4)\n",
    "plt.xlabel('U-V (0.7)')\n",
    "plt.ylabel('Mv(mag)')"
   ]
  },
  {
   "cell_type": "code",
   "execution_count": 27,
   "metadata": {},
   "outputs": [
    {
     "name": "stdout",
     "output_type": "stream",
     "text": [
      "[ 0.61  0.84  0.73  0.15  0.02 -0.25  0.65  0.18  0.17  0.67  0.88  0.27\n",
      "  0.48 -0.28]\n",
      "[15.25153676 15.71116058 15.48973381 14.34403125 14.1023125  13.48902857\n",
      " 15.33006618 14.3998125  14.38121875 15.36933088 15.79145255 14.57540909\n",
      " 14.99297561 13.37931429]\n"
     ]
    }
   ],
   "source": [
    "#using weighted averages for U-V from Maddie's table and the Table txt file to find corresponding Mv for each WD\n",
    "Mv_wd_7 = np.array([])\n",
    "for j in range(len(maddie_UV)):\n",
    "    for i in range(len(UV_7)):\n",
    "        if (maddie_UV[j] < UV_7[i]) and (maddie_UV[j] > UV_7[i+1]):\n",
    "#             x1 = UV[i]\n",
    "#             y1 = Mv[i]\n",
    "#             x2 = UV[i+1]\n",
    "#             y2 = Mv[i+1]\n",
    "#             x = [x1, x2]\n",
    "#             y = [y1, y2]\n",
    "#             plt.scatter(UV, Mv, c='black',edgecolors='none',s=5,alpha=0.5)\n",
    "#             plt.plot(x, y)\n",
    "#             plt.ylim(22,4)\n",
    "            weight1_7 = ((UV_7[i] - maddie_UV[j]) / (UV_7[i] - UV_7[i+1])) * 100\n",
    "            weight2_7 = ((maddie_UV[j] - UV_7[i+1]) / (UV_7[i] - UV_7[i+1])) * 100\n",
    "            Mv_wd_7 = np.append(Mv_wd_7, ((Mv_7[i]*weight2_7) + (Mv_7[i+1]*weight1_7)) / (weight1_7 + weight2_7))\n",
    "            #UV_wd = np.append(UV_wd, (((x1*(UV[i]-x1)) + (weight1)) / ((UV[i]-x1) + (UV[i+1]-x2))))\n",
    "#             print(UV_wd)\n",
    "#             for i in range(len(UV_wd)):\n",
    "#                 Mv_wd = np.append(Mv_wd, )\n",
    "print(maddie_UV)\n",
    "print(Mv_wd_7)"
   ]
  },
  {
   "cell_type": "code",
   "execution_count": 28,
   "metadata": {},
   "outputs": [
    {
     "name": "stdout",
     "output_type": "stream",
     "text": [
      "[ 80.85234995 188.69825465  74.48232715 638.54829556 521.8401616\n",
      " 600.05945845 261.81032193 496.63520253 461.05873036 126.51261235\n",
      " 117.95313523 313.99170987 225.6341743  300.70257206]\n",
      "[2.49510352e+15 5.82322814e+15 2.29852462e+15 1.97056004e+16\n",
      " 1.61039874e+16 1.85178349e+16 8.07946653e+15 1.53261624e+16\n",
      " 1.42282724e+16 3.90417922e+15 3.64003375e+15 9.68978417e+15\n",
      " 6.96307062e+15 9.27968137e+15]\n"
     ]
    }
   ],
   "source": [
    "# Using distance modulus equation to solve for D in pc given mv and Mv\n",
    "# Multiplying by 3.086e+13 to convert from pc to km\n",
    "# Distance Modulus: mv - Mv = 5logD - 5\n",
    "distance_wd_pc_7 = np.array([])\n",
    "distance_wd_km_7 = np.array([])\n",
    "for i in range(len(mv)):\n",
    "    distance_wd_pc_7 = np.append(distance_wd_pc_7, (10 ** (((mv[i] - Mv_wd_7[i]) + 5) / 5)))\n",
    "    distance_wd_km_7 = np.append(distance_wd_km_7, (distance_wd_pc_7[i] * 3.086e+13))\n",
    "print(distance_wd_pc_7)\n",
    "print(distance_wd_km_7)"
   ]
  },
  {
   "cell_type": "code",
   "execution_count": 29,
   "metadata": {},
   "outputs": [
    {
     "name": "stdout",
     "output_type": "stream",
     "text": [
      "5.1005\n",
      "Distance in parsecs: \n",
      "[104.73696861 245.69708276  96.67184338 823.18983692 676.39439481\n",
      " 747.30863419 339.23448954 639.44029453 593.88177789 163.94568853\n",
      " 153.7446457  404.29651708 291.60837985 365.76319301]\n",
      "\n",
      "Distance in km: \n",
      "[3.23218285e+15 7.58221197e+15 2.98329309e+15 2.54036384e+16\n",
      " 2.08735310e+16 2.30619445e+16 1.04687763e+16 1.97331275e+16\n",
      " 1.83271917e+16 5.05936395e+15 4.74455977e+15 1.24765905e+16\n",
      " 8.99903460e+15 1.12874521e+16]\n"
     ]
    }
   ],
   "source": [
    "#Using trend line to guess Mv\n",
    "def fitline(x):\n",
    "    return 1.95*x+13.5\n",
    "\n",
    "#Using distance modulus equation to solve for D given mv and Mv\n",
    "print 19.79-fitline(0.61)\n",
    "distance_wd_trend_7 = 10**((mv-fitline(maddie_UV)+5)/5)\n",
    "\n",
    "print ('Distance in parsecs: ')\n",
    "print distance_wd_trend_7\n",
    "print\n",
    "print('Distance in km: ')\n",
    "distance_wd_km_trend_7 = distance_wd_trend_7 * 3.086e+13\n",
    "print distance_wd_km_trend_7"
   ]
  },
  {
   "cell_type": "code",
   "execution_count": 30,
   "metadata": {},
   "outputs": [
    {
     "data": {
      "text/plain": [
       "<matplotlib.collections.PathCollection at 0x1c210c4550>"
      ]
     },
     "execution_count": 30,
     "metadata": {},
     "output_type": "execute_result"
    },
    {
     "data": {
      "image/png": "[encoded data removed]",
      "text/plain": [
       "<Figure size 720x720 with 1 Axes>"
      ]
     },
     "metadata": {},
     "output_type": "display_data"
    }
   ],
   "source": [
    "#plotting distance calculated from weighted averages against distance calculated by trend to compare accuracy\n",
    "fig=plt.figure(figsize=(10,10))\n",
    "plt.scatter(maddie_UV, distance_wd_pc_7, c='black',edgecolors='none',s=60,alpha=0.5)\n",
    "plt.scatter(maddie_UV, distance_wd_trend_7, c='blue',edgecolors='none',s=60,alpha=0.5)"
   ]
  },
  {
   "cell_type": "code",
   "execution_count": 31,
   "metadata": {},
   "outputs": [
    {
     "data": {
      "text/plain": [
       "[<matplotlib.lines.Line2D at 0x1c2172d450>]"
      ]
     },
     "execution_count": 31,
     "metadata": {},
     "output_type": "execute_result"
    },
    {
     "data": {
      "image/png": "[encoded data removed]",
      "text/plain": [
       "<Figure size 720x720 with 1 Axes>"
      ]
     },
     "metadata": {},
     "output_type": "display_data"
    }
   ],
   "source": [
    "#plotting Mv calculated from weighted averages against UV vs Mv (table txt file) plot\n",
    "#Mv from weighted averages should lay on the curve since it is an average of two Mv points on the curve\n",
    "fig=plt.figure(figsize=(10,10))\n",
    "plt.scatter(UV_7, Mv_7, c='black',edgecolors='none',s=20,alpha=0.5)\n",
    "plt.ylim(28,-1)\n",
    "plt.xlabel('U-V')\n",
    "plt.ylabel('Mv(mag)')\n",
    "plt.scatter(maddie_UV, Mv_wd_7, c='blue',edgecolors='none',s=20,alpha=0.5)\n",
    "x_array = [-0.2, 1.8, 1.8, -0.2, -0.2]\n",
    "y_array = [18.7, 18.7, 23.3, 23.3, 18.7]\n",
    "plt.plot(x_array, y_array)"
   ]
  },
  {
   "cell_type": "code",
   "execution_count": 32,
   "metadata": {},
   "outputs": [
    {
     "name": "stdout",
     "output_type": "stream",
     "text": [
      "PMW in km per sec\n",
      "(0.8816310895408618, 'error:', 0.038331786501776606)\n",
      "(0.0, 'error:', 0.0)\n",
      "(0.5296767498186492, 'error:', 0.1412471332849731)\n",
      "(30.878794359547086, 'error:', 0.30273327803477545)\n",
      "(19.049985028087967, 'error:', 0.24740240296218138)\n",
      "(-6.827660860173968, 'error:', 0.5689717383478307)\n",
      "(0.0, 'error:', 0.0)\n",
      "(-22.838924444222844, 'error:', 0.4709056586437701)\n",
      "(3.934550905528695, 'error:', 0.4371723228365217)\n",
      "(0.11995828072616009, 'error:', 0.11995828072616009)\n",
      "(0.8947380057046939, 'error:', 0.1677633760696301)\n",
      "(31.216415005329374, 'error:', 0.19352093231725415)\n",
      "(0.0, 'error:', 0.0)\n",
      "(7.8123935871968495, 'error:', 0.18533050480576474)\n",
      "\n",
      "PMN in km per sec\n",
      "(-1.2649489545586279, 'error: ', 0.038331786501776606)\n",
      "(0.0, 'error: ', 0.0)\n",
      "(-0.8474827997098388, 'error: ', 0.1412471332849731)\n",
      "(18.466729960121302, 'error: ', 0.30273327803477545)\n",
      "(-3.2162312385083576, 'error: ', 0.24740240296218138)\n",
      "(-25.034756487304556, 'error: ', 0.5689717383478307)\n",
      "(0.0, 'error: ', 0.0)\n",
      "(-35.553377227604635, 'error: ', 0.4709056586437701)\n",
      "(10.492135748076521, 'error: ', 0.4371723228365217)\n",
      "(-0.7797288247200405, 'error: ', 0.11995828072616009)\n",
      "(-1.286185883200497, 'error: ', 0.11184225071308673)\n",
      "(20.423901472251746, 'error: ', 0.20840715788011982)\n",
      "(0.0, 'error: ', 0.0)\n",
      "(10.820450242121185, 'error: ', 0.18533050480576474)\n"
     ]
    }
   ],
   "source": [
    "#converting PM from rad/sec to km/sec\n",
    "PMW_km_per_sec_7 = np.array([])\n",
    "PMW_km_per_sec_error_7 = np.array([])\n",
    "PMN_km_per_sec_7 = np.array([])\n",
    "PMN_km_per_sec_error_7 = np.array([])\n",
    "\n",
    "print('PMW in km per sec')\n",
    "for i in range(len(PMW)):\n",
    "    print(PMW_radians_per_sec[i] * distance_wd_km_7[i], 'error:', PMW_error_radians_per_sec[i] * distance_wd_km_7[i])\n",
    "    PMW_km_per_sec_7 = np.append(PMW_km_per_sec_7, (PMW_radians_per_sec[i] * distance_wd_km_7[i]))\n",
    "    PMW_km_per_sec_error_7 = np.append(PMW_km_per_sec_error_7, (PMW_error_radians_per_sec[i] * distance_wd_km_7[i]))\n",
    "\n",
    "# print(PMW_km_per_sec_7)\n",
    "# print(PMW_km_per_sec_error_7)\n",
    "\n",
    "print\n",
    "\n",
    "print('PMN in km per sec')\n",
    "for j in range(len(PMN)):\n",
    "    print(PMN_radians_per_sec[j] * distance_wd_km_7[j], 'error: ', PMN_error_radians_per_sec[j] * distance_wd_km_7[j])\n",
    "    PMN_km_per_sec_7 = np.append(PMN_km_per_sec_7, (PMN_radians_per_sec[j] * distance_wd_km_7[j]))\n",
    "    PMN_km_per_sec_error_7 = np.append(PMN_km_per_sec_error_7, (PMN_error_radians_per_sec[j] * distance_wd_km_7[j]))\n",
    "\n",
    "# print(PMN_km_per_sec_7)\n",
    "# print(PMN_km_per_sec_error_7)"
   ]
  },
  {
   "cell_type": "code",
   "execution_count": 33,
   "metadata": {},
   "outputs": [
    {
     "name": "stdout",
     "output_type": "stream",
     "text": [
      "[  1.0739427    1.12063586   1.02724954   0.9729287    1.01522995\n",
      "   0.93062745   0.88163109   0.91996288   0.8432993    0.\n",
      "   0.           0.           0.           0.           0.\n",
      "   0.           0.           0.           0.64489935   0.81687251\n",
      "   0.47292619   0.58446387   0.74032091   0.42860684   0.52967675\n",
      "   0.67092388   0.38842962  37.51636495  37.88417245  37.14855745\n",
      "  34.03428139  34.36795082  33.70061197  30.87879436  31.18152764\n",
      "  30.57606108  23.15210439  23.45278107  22.85142771  20.99669253\n",
      "  21.26937685  20.72400822  19.04998503  19.29738743  18.80258263\n",
      "  -8.5395151   -7.82788884  -9.25114136  -7.63499925  -6.99874931\n",
      "  -8.27124918  -6.82766086  -6.25868912  -7.3966326    0.\n",
      "   0.           0.           0.           0.           0.\n",
      "   0.           0.           0.         -27.74628318 -27.17419487\n",
      " -28.3183715  -25.17282159 -24.65379434 -25.69184884 -22.83892444\n",
      " -22.36801879 -23.3098301    4.78007545   5.31119495   4.24895596\n",
      "   4.3366205    4.81846722   3.85477378   3.93455091   4.37172323\n",
      "   3.49737858   0.1460355    0.29207101   0.           0.13232682\n",
      "   0.26465364   0.           0.11995828   0.23991656   0.\n",
      "   1.08970984   1.29403043   0.88538924   0.98769389   1.17288649\n",
      "   0.80250129   0.89473801   1.06250138   0.72697463  37.9597875\n",
      "  38.19511284  37.72446216  34.41785201  34.63121972  34.20448431\n",
      "  31.21641501  31.40993594  31.02289407   0.           0.\n",
      "   0.           0.           0.           0.           0.\n",
      "   0.           0.           9.83477508  10.06808179   9.60146838\n",
      "   8.75957011   8.96737013   8.55177009   7.81239359   7.99772409\n",
      "   7.62706308]\n",
      "126\n",
      "[ -1.54087431  -1.49418115  -1.58756747  -1.39594118  -1.35363993\n",
      "  -1.43824242  -1.26494895  -1.22661717  -1.30328074   0.\n",
      "   0.           0.           0.           0.           0.\n",
      "   0.           0.           0.          -1.03183896  -0.8598658\n",
      "  -1.20381212  -0.9351422   -0.77928517  -1.09099923  -0.8474828\n",
      "  -0.70623567  -0.98872993  22.43625747  22.80406497  22.06844997\n",
      "  20.35383495  20.68750438  20.02016553  18.46672996  18.76946324\n",
      "  18.16399668  -3.90879685  -3.60812017  -4.20947353  -3.54489614\n",
      "  -3.27221182  -3.81758046  -3.21623124  -2.96882884  -3.46363364\n",
      " -31.31155536 -30.59992911 -32.02318162 -27.99499724 -27.3587473\n",
      " -28.63124717 -25.03475649 -24.46578475 -25.60372823   0.\n",
      "   0.           0.           0.           0.           0.\n",
      "   0.           0.           0.         -43.19266764 -42.62057932\n",
      " -43.76475595 -39.18655732 -38.66753007 -39.70558457 -35.55337723\n",
      " -35.08247157 -36.02428289  12.74686787  13.27798737  12.21574838\n",
      "  11.56432134  12.04616806  11.08247461  10.49213575  10.92930807\n",
      "  10.05496343  -0.94923077  -0.80319527  -1.09526628  -0.86012434\n",
      "  -0.72779752  -0.99245116  -0.77972882  -0.65977054  -0.89968711\n",
      "  -1.56645789  -1.43024416  -1.70267162  -1.41980997  -1.29634823\n",
      "  -1.5432717   -1.28618588  -1.17434363  -1.39802813  24.83587432\n",
      "  25.08930161  24.58244703  22.51849927  22.74827987  22.28871866\n",
      "  20.42390147  20.63230863  20.21549431   0.           0.\n",
      "   0.           0.           0.           0.           0.\n",
      "   0.           0.          13.62152243  13.85482913  13.38821572\n",
      "  12.13232429  12.34012431  11.92452427  10.82045024  11.00578075\n",
      "  10.63511974]\n",
      "126\n"
     ]
    }
   ],
   "source": [
    "#creating an array with PMW (+ error, no error, - error) for every WD --- 9 PM values for each WD\n",
    "PMW_with_error = np.array([])\n",
    "for i in range(0, len(PMW_km_per_sec_5)):\n",
    "    PMW_with_error = np.append(PMW_with_error, PMW_km_per_sec_5[i])\n",
    "    PMW_with_error = np.append(PMW_with_error, PMW_km_per_sec_5[i] + PMW_km_per_sec_error_5[i])\n",
    "    PMW_with_error = np.append(PMW_with_error, PMW_km_per_sec_5[i] - PMW_km_per_sec_error_5[i])\n",
    "    \n",
    "    PMW_with_error = np.append(PMW_with_error, PMW_km_per_sec_6[i])\n",
    "    PMW_with_error = np.append(PMW_with_error, PMW_km_per_sec_6[i] + PMW_km_per_sec_error_6[i])\n",
    "    PMW_with_error = np.append(PMW_with_error, PMW_km_per_sec_6[i] - PMW_km_per_sec_error_6[i])\n",
    "    \n",
    "    PMW_with_error = np.append(PMW_with_error, PMW_km_per_sec_7[i])\n",
    "    PMW_with_error = np.append(PMW_with_error, PMW_km_per_sec_7[i] + PMW_km_per_sec_error_7[i])\n",
    "    PMW_with_error = np.append(PMW_with_error, PMW_km_per_sec_7[i] - PMW_km_per_sec_error_7[i])\n",
    "\n",
    "print(PMW_with_error)\n",
    "print(len(PMW_with_error))\n",
    "\n",
    "#creating an array with PMN (+ error, no error, - error) for every WD --- 9 PM values for each WD\n",
    "PMN_with_error = np.array([])\n",
    "for i in range(0, len(PMN_km_per_sec_5)):\n",
    "    PMN_with_error = np.append(PMN_with_error, PMN_km_per_sec_5[i])\n",
    "    PMN_with_error = np.append(PMN_with_error, PMN_km_per_sec_5[i] + PMN_km_per_sec_error_5[i])\n",
    "    PMN_with_error = np.append(PMN_with_error, PMN_km_per_sec_5[i] - PMN_km_per_sec_error_5[i])\n",
    "\n",
    "    PMN_with_error = np.append(PMN_with_error, PMN_km_per_sec_6[i])\n",
    "    PMN_with_error = np.append(PMN_with_error, PMN_km_per_sec_6[i] + PMN_km_per_sec_error_6[i])\n",
    "    PMN_with_error = np.append(PMN_with_error, PMN_km_per_sec_6[i] - PMN_km_per_sec_error_6[i])\n",
    "    \n",
    "    PMN_with_error = np.append(PMN_with_error, PMN_km_per_sec_7[i])\n",
    "    PMN_with_error = np.append(PMN_with_error, PMN_km_per_sec_7[i] + PMN_km_per_sec_error_7[i])\n",
    "    PMN_with_error = np.append(PMN_with_error, PMN_km_per_sec_7[i] - PMN_km_per_sec_error_7[i])\n",
    "\n",
    "print(PMN_with_error)\n",
    "print(len(PMN_with_error))\n",
    "    \n",
    "# [1:3] = including index 1, not including index 3"
   ]
  },
  {
   "cell_type": "code",
   "execution_count": 35,
   "metadata": {
    "scrolled": true
   },
   "outputs": [
    {
     "name": "stdout",
     "output_type": "stream",
     "text": [
      "[  0.9761675    0.           0.58634666  34.1431469   21.06626065\n",
      "  -7.66739174   0.         -25.25267641   4.35041562   0.13277354\n",
      "   0.99071391  34.53135151   0.           8.80224626]\n",
      "\n",
      "[0.0858945  0.         0.13644869 2.72469933 1.69032528 0.87370848\n",
      " 0.         2.0490866  0.52535614 0.10927764 0.17173545 2.7597159\n",
      " 0.         0.84374539]\n"
     ]
    }
   ],
   "source": [
    "#calculating mean PMW from the 9 values for each WD\n",
    "PMW_mean = np.array([])\n",
    "PMW_mean = np.append(PMW_mean,(np.mean(PMW_with_error[:9]),np.mean(PMW_with_error[9:18]),np.mean(PMW_with_error[18:27]),np.mean(PMW_with_error[27:36]),np.mean(PMW_with_error[36:45]), np.mean(PMW_with_error[45:54]),np.mean(PMW_with_error[54:63]),np.mean(PMW_with_error[63:72]),np.mean(PMW_with_error[72:81]),np.mean(PMW_with_error[81:90]),np.mean(PMW_with_error[90:99]),np.mean(PMW_with_error[99:108]),np.mean(PMW_with_error[108:117]),np.mean(PMW_with_error[117:126])))\n",
    "print PMW_mean\n",
    "\n",
    "print\n",
    "\n",
    "PMW_standard_deviation = np.array([])\n",
    "PMW_standard_deviation = np.append(PMW_standard_deviation,(np.std(PMW_with_error[:9]),np.std(PMW_with_error[9:18]),np.std(PMW_with_error[18:27]),np.std(PMW_with_error[27:36]),np.std(PMW_with_error[36:45]), np.std(PMW_with_error[45:54]),np.std(PMW_with_error[54:63]),np.std(PMW_with_error[63:72]),np.std(PMW_with_error[72:81]),np.std(PMW_with_error[81:90]),np.std(PMW_with_error[90:99]),np.std(PMW_with_error[99:108]),np.std(PMW_with_error[108:117]),np.std(PMW_with_error[117:126])))\n",
    "print PMW_standard_deviation\n",
    "\n",
    "\n",
    "\n"
   ]
  },
  {
   "cell_type": "code",
   "execution_count": 36,
   "metadata": {},
   "outputs": [
    {
     "name": "stdout",
     "output_type": "stream",
     "text": [
      "[ -1.40058815   0.          -0.93815465  20.41894079  -3.55664141\n",
      " -28.1137697    0.         -39.31086739  11.60110832  -0.86302798\n",
      "  -1.42415125  22.59275835   0.          12.19143232]\n",
      "\n",
      "[0.11793469 0.         0.14856929 1.64422652 0.36086836 2.61684069\n",
      " 0.         3.14897741 1.00236292 0.12892194 0.15294325 1.81181271\n",
      " 0.         1.15703887]\n"
     ]
    }
   ],
   "source": [
    "#calculating mean PMW from the 9 values for each WD\n",
    "PMN_mean = np.array([])\n",
    "PMN_mean = np.append(PMN_mean,(np.mean(PMN_with_error[:9]),np.mean(PMN_with_error[9:18]),np.mean(PMN_with_error[18:27]),np.mean(PMN_with_error[27:36]),np.mean(PMN_with_error[36:45]), np.mean(PMN_with_error[45:54]),np.mean(PMN_with_error[54:63]),np.mean(PMN_with_error[63:72]),np.mean(PMN_with_error[72:81]),np.mean(PMN_with_error[81:90]),np.mean(PMN_with_error[90:99]),np.mean(PMN_with_error[99:108]),np.mean(PMN_with_error[108:117]),np.mean(PMN_with_error[117:126])))\n",
    "print PMN_mean\n",
    "\n",
    "print\n",
    "\n",
    "PMN_standard_deviation = np.array([])\n",
    "PMN_standard_deviation = np.append(PMN_standard_deviation,(np.std(PMN_with_error[:9]),np.std(PMN_with_error[9:18]),np.std(PMN_with_error[18:27]),np.std(PMN_with_error[27:36]),np.std(PMN_with_error[36:45]), np.std(PMN_with_error[45:54]),np.std(PMN_with_error[54:63]),np.std(PMN_with_error[63:72]),np.std(PMN_with_error[72:81]),np.std(PMN_with_error[81:90]),np.std(PMN_with_error[90:99]),np.std(PMN_with_error[99:108]),np.std(PMN_with_error[108:117]),np.std(PMN_with_error[117:126])))\n",
    "print PMN_standard_deviation"
   ]
  },
  {
   "cell_type": "code",
   "execution_count": 79,
   "metadata": {},
   "outputs": [
    {
     "name": "stdout",
     "output_type": "stream",
     "text": [
      "[['11200' '2047' '2365' '9466' '5833' '9359' 'irac095466' 'irac1128062'\n",
      "  '8913' '3188' 'uv27611' '6592' '10234' '8114']\n",
      " ['GOODS-N' 'GOODS-N' 'GOODS-N' 'GOODS-N' 'EGS' 'EGS' 'EGS' 'EGS'\n",
      "  'COSMOS' 'COSMOS' 'COSMOS' 'EGS' 'EGS' 'GOODS-N']\n",
      " ['0.9761674966723657' '0.0' '0.5863466575820009' '34.14314690223864'\n",
      "  '21.066260652080704' '-7.667391735256244' '0.0' '-25.2526764055108'\n",
      "  '4.35041561998341' '0.13277353520250312' '0.9907139113421588'\n",
      "  '34.53135150529624' '0.0' '8.802246259973654']\n",
      " ['0.08589449834742122' '0.0' '0.13644868510761762' '2.7246993282127905'\n",
      "  '1.6903252805913442' '0.8737084843833867' '0.0' '2.049086603588343'\n",
      "  '0.525356139211809' '0.10927763848094378' '0.17173544845246136'\n",
      "  '2.7597159026181024' '0.0' '0.8437453903805106']\n",
      " ['-1.4005881473994815' '0.0' '-0.9381546521312014' '20.418940794476057'\n",
      "  '-3.5566414087928453' '-28.11376969593957' '0.0' '-39.310867394145674'\n",
      "  '11.601108319955763' '-0.8630279788162701' '-1.4241512475543532'\n",
      "  '22.592758352535263' '0.0' '12.191432319927014']\n",
      " ['0.11793469149976855' '0.0' '0.14856928673943753' '1.6442265193485803'\n",
      "  '0.3608683611265881' '2.6168406898696386' '0.0' '3.148977405778238'\n",
      "  '1.002362922448828' '0.12892193868952082' '0.15294325293334493'\n",
      "  '1.8118127074569192' '0.0' '1.157038869543982']]\n",
      "[['11200' 'GOODS-N' '0.9761674966723657' '0.08589449834742122'\n",
      "  '-1.4005881473994815' '0.11793469149976855']\n",
      " ['2047' 'GOODS-N' '0.0' '0.0' '0.0' '0.0']\n",
      " ['2365' 'GOODS-N' '0.5863466575820009' '0.13644868510761762'\n",
      "  '-0.9381546521312014' '0.14856928673943753']\n",
      " ['9466' 'GOODS-N' '34.14314690223864' '2.7246993282127905'\n",
      "  '20.418940794476057' '1.6442265193485803']\n",
      " ['5833' 'EGS' '21.066260652080704' '1.6903252805913442'\n",
      "  '-3.5566414087928453' '0.3608683611265881']\n",
      " ['9359' 'EGS' '-7.667391735256244' '0.8737084843833867'\n",
      "  '-28.11376969593957' '2.6168406898696386']\n",
      " ['irac095466' 'EGS' '0.0' '0.0' '0.0' '0.0']\n",
      " ['irac1128062' 'EGS' '-25.2526764055108' '2.049086603588343'\n",
      "  '-39.310867394145674' '3.148977405778238']\n",
      " ['8913' 'COSMOS' '4.35041561998341' '0.525356139211809'\n",
      "  '11.601108319955763' '1.002362922448828']\n",
      " ['3188' 'COSMOS' '0.13277353520250312' '0.10927763848094378'\n",
      "  '-0.8630279788162701' '0.12892193868952082']\n",
      " ['uv27611' 'COSMOS' '0.9907139113421588' '0.17173544845246136'\n",
      "  '-1.4241512475543532' '0.15294325293334493']\n",
      " ['6592' 'EGS' '34.53135150529624' '2.7597159026181024'\n",
      "  '22.592758352535263' '1.8118127074569192']\n",
      " ['10234' 'EGS' '0.0' '0.0' '0.0' '0.0']\n",
      " ['8114' 'GOODS-N' '8.802246259973654' '0.8437453903805106'\n",
      "  '12.191432319927014' '1.157038869543982']]\n",
      "(14, 6)\n"
     ]
    }
   ],
   "source": [
    "#(GOODS-N:) 11200, 2047, 2365, 9466      (EGS:) 5833,  9359,  irac095466, irac1128062  (COSMOS:) 8913,  3188,  uv27611      (EGS:) 6592, 10234     (GOODS-N:) 8114 \n",
    "ID = np.array([11200, 2047, 2365, 9466, 5833,  9359, 'irac095466', 'irac1128062', 8913,  3188,  'uv27611', 6592, 10234, 8114])\n",
    "fields = np.array(['GOODS-N','GOODS-N','GOODS-N','GOODS-N','EGS','EGS','EGS','EGS','COSMOS','COSMOS','COSMOS','EGS','EGS','GOODS-N'])\n",
    "table_data = np.array([ID, fields, PMW_mean, PMW_standard_deviation, PMN_mean, PMN_standard_deviation])\n",
    "print(table_data)\n",
    "edited_table_data = np.transpose(table_data)\n",
    "print edited_table_data\n",
    "\n",
    "\n",
    "\n",
    "\n",
    "print edited_table_data.shape\n",
    "np.savetxt('transverse_velocities_data.csv',edited_table_data,delimiter=',',fmt='%s',header='ID,Field,PMW,PMW error,PMN,PMN error')\n"
   ]
  },
  {
   "cell_type": "code",
   "execution_count": null,
   "metadata": {},
   "outputs": [],
   "source": []
  },
  {
   "cell_type": "code",
   "execution_count": null,
   "metadata": {},
   "outputs": [],
   "source": []
  }
 ],
 "metadata": {
  "kernelspec": {
   "display_name": "Python 2",
   "language": "python",
   "name": "python2"
  },
  "language_info": {
   "codemirror_mode": {
    "name": "ipython",
    "version": 2
   },
   "file_extension": ".py",
   "mimetype": "text/x-python",
   "name": "python",
   "nbconvert_exporter": "python",
   "pygments_lexer": "ipython2",
   "version": "2.7.15"
  }
 },
 "nbformat": 4,
 "nbformat_minor": 2
}
