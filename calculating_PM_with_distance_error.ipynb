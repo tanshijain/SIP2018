{
 "cells": [
  {
   "cell_type": "code",
   "execution_count": 1,
   "metadata": {},
   "outputs": [],
   "source": [
    "import numpy as np\n",
    "import matplotlib.pyplot as plt\n",
    "%matplotlib inline\n",
    "out_dir = '/Users/tanshi/Desktop/SIP/'\n",
    "execfile(out_dir+'plot_routines.py')"
   ]
  },
  {
   "cell_type": "code",
   "execution_count": 2,
   "metadata": {},
   "outputs": [
    {
     "name": "stderr",
     "output_type": "stream",
     "text": [
      "/anaconda2/lib/python2.7/site-packages/ipykernel_launcher.py:3: RuntimeWarning: divide by zero encountered in log10\n",
      "  This is separate from the ipykernel package so we can avoid doing imports until\n",
      "/anaconda2/lib/python2.7/site-packages/ipykernel_launcher.py:4: RuntimeWarning: divide by zero encountered in log10\n",
      "  after removing the cwd from sys.path.\n",
      "/anaconda2/lib/python2.7/site-packages/ipykernel_launcher.py:5: RuntimeWarning: divide by zero encountered in log10\n",
      "  \"\"\"\n"
     ]
    },
    {
     "name": "stdout",
     "output_type": "stream",
     "text": [
      "22.05767480581427\n",
      "21.763536604498032\n",
      "20.769870906483707\n",
      "\n",
      "0.2660775316691186\n",
      "0.4811040937237898\n",
      "-0.28021610314021217\n"
     ]
    },
    {
     "name": "stderr",
     "output_type": "stream",
     "text": [
      "/anaconda2/lib/python2.7/site-packages/ipykernel_launcher.py:21: RuntimeWarning: divide by zero encountered in log10\n",
      "/anaconda2/lib/python2.7/site-packages/ipykernel_launcher.py:21: RuntimeWarning: invalid value encountered in log10\n",
      "/anaconda2/lib/python2.7/site-packages/ipykernel_launcher.py:22: RuntimeWarning: divide by zero encountered in log10\n",
      "/anaconda2/lib/python2.7/site-packages/ipykernel_launcher.py:22: RuntimeWarning: invalid value encountered in log10\n",
      "/anaconda2/lib/python2.7/site-packages/ipykernel_launcher.py:23: RuntimeWarning: divide by zero encountered in log10\n",
      "/anaconda2/lib/python2.7/site-packages/ipykernel_launcher.py:23: RuntimeWarning: invalid value encountered in log10\n"
     ]
    }
   ],
   "source": [
    "#8114 in GOODS-N (14), 6592 in EGS (12), 10234(13) in EGS\n",
    "candels=np.genfromtxt('sample_DR3_EGS.cat', usecols=(0, 1, 2, 8, 9, 10, 11, 12, 13, 14, 15, 20), names=['objectid', 'alpha_gr_dec', 'delta_gr_dec',\\\n",
    "                'flux_u','erflux_u', 'flux_b', 'erflux_b', 'flux_v', 'erflux_v', 'flux_i',\\\n",
    "                'erflux_i', 'class_star'], dtype=\"S10,f8,f8,f8,f8,f8,f8,f8,f8,f8,f8,f8\")\n",
    "m_v=-2.5*np.log10(candels['flux_v'])+23.9\n",
    "m_i=-2.5*np.log10(candels['flux_i'])+23.9\n",
    "m_u=-2.5*np.log10(candels['flux_u'])+23.9\n",
    "\n",
    "index_12 = 0\n",
    "index_13 = 0\n",
    "for i in range(len(candels['objectid'])):\n",
    "    if candels[i]['objectid'] == '6592':\n",
    "        index_12 = i\n",
    "    if candels[i]['objectid'] == '10234':\n",
    "        index_13 = i\n",
    "        \n",
    "mv_12 = m_v[index_12]\n",
    "mv_13 = m_v[index_13]\n",
    "UV_12 = m_u[index_12] - m_v[index_12]\n",
    "UV_13 = m_u[index_13] - m_v[index_13]\n",
    "\n",
    "candels_gdn=np.genfromtxt('sample_DR3_GOODSN.cat', usecols=(0, 1, 2, 8, 9, 10, 11, 12, 13, 14, 15, 20), names=['objectid', 'alpha_gr_dec', 'delta_gr_dec',\\\n",
    "                'flux_u','erflux_u', 'flux_b', 'erflux_b', 'flux_v', 'erflux_v', 'flux_i',\\\n",
    "                'erflux_i', 'class_star'], dtype=\"S10,f8,f8,f8,f8,f8,f8,f8,f8,f8,f8,f8\")\n",
    "m_v=-2.5*np.log10(candels_gdn['flux_v'])+23.9\n",
    "m_i=-2.5*np.log10(candels_gdn['flux_i'])+23.9\n",
    "m_u=-2.5*np.log10(candels_gdn['flux_u'])+23.9\n",
    "\n",
    "index_14 = 0\n",
    "\n",
    "for i in range(len(candels_gdn['objectid'])):\n",
    "    if candels_gdn[i]['objectid'] == '8114':\n",
    "        index_14 = i\n",
    "        \n",
    "mv_14 = m_v[index_14]\n",
    "UV_14 = m_u[index_14] - m_v[index_14]\n",
    "\n",
    "print mv_12\n",
    "print mv_13\n",
    "print mv_14\n",
    "print\n",
    "print UV_12\n",
    "print UV_13\n",
    "print UV_14\n"
   ]
  },
  {
   "cell_type": "code",
   "execution_count": 3,
   "metadata": {},
   "outputs": [
    {
     "name": "stdout",
     "output_type": "stream",
     "text": [
      "[18.78  18.294 17.903 17.585 17.328 17.107 16.904 16.703 16.503 16.293\n",
      " 16.069 15.818 15.542 15.255 14.968 14.696 14.442 14.007 13.649 13.34\n",
      " 13.061 12.801 12.559 12.328 12.114 11.919 11.746 11.604 11.488 11.397\n",
      " 11.324 11.251 11.176 11.104 11.039 10.975 10.914 10.853 10.796 10.741\n",
      " 10.422  9.951  9.488  9.047  8.771  8.52   8.285  8.06   7.848  7.64\n",
      "  7.421  7.171  6.906  6.648  6.385  6.092  5.76 ]\n"
     ]
    }
   ],
   "source": [
    "Mv_5 = np.loadtxt('Table_Mass_0.5.txt',usecols=(3),unpack=True)\n",
    "print(Mv_5)"
   ]
  },
  {
   "cell_type": "code",
   "execution_count": 4,
   "metadata": {},
   "outputs": [
    {
     "name": "stdout",
     "output_type": "stream",
     "text": [
      "[ 1.164  0.984  0.847  0.73   0.628  0.543  0.471  0.406  0.343  0.282\n",
      "  0.22   0.152  0.079  0.002 -0.075 -0.148 -0.216 -0.336 -0.44  -0.513\n",
      " -0.558 -0.582 -0.589 -0.586 -0.575 -0.563 -0.555 -0.553 -0.556 -0.559\n",
      " -0.564 -0.573 -0.589 -0.609 -0.631 -0.653 -0.676 -0.698 -0.72  -0.741\n",
      " -0.859 -0.995 -1.099 -1.162 -1.192 -1.21  -1.222 -1.232 -1.239 -1.245\n",
      " -1.251 -1.255 -1.26  -1.263 -1.266 -1.27  -1.272]\n",
      "[ 1.462  1.451  1.407  1.357  1.303  1.25   1.202  1.155  1.109  1.06\n",
      "  1.009  0.953  0.89   0.824  0.758  0.694  0.636  0.532  0.444  0.373\n",
      "  0.322  0.283  0.255  0.236  0.223  0.213  0.204  0.193  0.182  0.171\n",
      "  0.16   0.144  0.126  0.106  0.087  0.068  0.051  0.036  0.021  0.009\n",
      " -0.057 -0.136 -0.199 -0.242 -0.264 -0.279 -0.289 -0.297 -0.304 -0.309\n",
      " -0.315 -0.319 -0.323 -0.327 -0.33  -0.333 -0.335]\n",
      "[ 2.626  2.435  2.254  2.087  1.931  1.793  1.673  1.561  1.452  1.342\n",
      "  1.229  1.105  0.969  0.826  0.683  0.546  0.42   0.196  0.004 -0.14\n",
      " -0.236 -0.299 -0.334 -0.35  -0.352 -0.35  -0.351 -0.36  -0.374 -0.388\n",
      " -0.404 -0.429 -0.463 -0.503 -0.544 -0.585 -0.625 -0.662 -0.699 -0.732\n",
      " -0.916 -1.131 -1.298 -1.404 -1.456 -1.489 -1.511 -1.529 -1.543 -1.554\n",
      " -1.566 -1.574 -1.583 -1.59  -1.596 -1.603 -1.607]\n"
     ]
    }
   ],
   "source": [
    "UB_5 = np.loadtxt('Table_Mass_0.5.txt', usecols=(4),unpack=True)\n",
    "print(UB_5)\n",
    "\n",
    "BV_5 = np.loadtxt('Table_Mass_0.5.txt', usecols=(5),unpack=True)\n",
    "print(BV_5)\n",
    "\n",
    "UV_5 = UB_5 + BV_5\n",
    "print(UV_5)"
   ]
  },
  {
   "cell_type": "code",
   "execution_count": 5,
   "metadata": {},
   "outputs": [
    {
     "data": {
      "text/plain": [
       "Text(0,0.5,'Mv(mag)')"
      ]
     },
     "execution_count": 5,
     "metadata": {},
     "output_type": "execute_result"
    },
    {
     "data": {
      "image/png": "[encoded data removed]",
      "text/plain": [
       "<Figure size 720x720 with 1 Axes>"
      ]
     },
     "metadata": {},
     "output_type": "display_data"
    }
   ],
   "source": [
    "#plotting model WD curve\n",
    "fig=plt.figure(figsize=(10,10))\n",
    "plt.scatter(UV_5, Mv_5, c='black',edgecolors='none',s=20,alpha=0.5)\n",
    "plt.ylim(22,4)\n",
    "plt.xlabel('U-V (0.5)')\n",
    "plt.ylabel('Mv(mag)')"
   ]
  },
  {
   "cell_type": "code",
   "execution_count": 6,
   "metadata": {},
   "outputs": [
    {
     "name": "stdout",
     "output_type": "stream",
     "text": [
      "[19.621 21.921 19.681 23.201 22.521 22.211 22.251 22.711 22.531 20.711\n",
      " 20.981 21.891 21.591 20.601]\n",
      "[ 0.61  0.84  0.73  0.15  0.02 -0.25  0.65  0.18  0.17  0.67  0.88  0.27\n",
      "  0.48 -0.28]\n",
      "[14.82306569 15.2830979  15.06232867 13.92122917 13.67883333 13.00322222\n",
      " 14.90248175 13.97716667 13.95852083 14.94218978 15.36337762 14.15070536\n",
      " 14.56295238 12.8794127 ]\n"
     ]
    }
   ],
   "source": [
    "#using weighted averages for U-V from Maddie's table and the Table txt file to find corresponding Mv for each WD\n",
    "mv_old = [19.79, 22.09, 19.85, 23.37, 22.69, 22.38, 22.42, 22.88, 22.7, 20.88, 21.15, 22.06, 21.76, 20.77]\n",
    "mv = np.array([])\n",
    "for i in range(len(mv_old)):\n",
    "    mv = np.append(mv, mv_old[i]-0.169)\n",
    "print mv\n",
    "maddie_UV = np.array([0.61, 0.84, 0.73, 0.15, 0.02, -0.25, 0.65, 0.18, 0.17, 0.67, 0.88, 0.27, 0.48, -0.28])\n",
    "Mv_wd_5 = np.array([])\n",
    "\n",
    "for j in range(len(maddie_UV)):\n",
    "    for i in range(len(UV_5)):\n",
    "        if (maddie_UV[j] < UV_5[i]) and (maddie_UV[j] > UV_5[i+1]):\n",
    "            weight1_5 = ((UV_5[i] - maddie_UV[j]) / (UV_5[i] - UV_5[i+1])) * 100\n",
    "            weight2_5 = ((maddie_UV[j] - UV_5[i+1]) / (UV_5[i] - UV_5[i+1])) * 100\n",
    "            Mv_wd_5 = np.append(Mv_wd_5, ((Mv_5[i]*weight2_5) + (Mv_5[i+1]*weight1_5)) / (weight1_5 + weight2_5))\n",
    "            #UV_wd = np.append(UV_wd, (((x1*(UV[i]-x1)) + (weight1)) / ((UV[i]-x1) + (UV[i+1]-x2))))\n",
    "#             print(UV_wd)\n",
    "#             for i in range(len(UV_wd)):\n",
    "#                 Mv_wd = np.append(Mv_wd, )\n",
    "print(maddie_UV)\n",
    "print(Mv_wd_5)"
   ]
  },
  {
   "cell_type": "code",
   "execution_count": 7,
   "metadata": {},
   "outputs": [
    {
     "name": "stdout",
     "output_type": "stream",
     "text": [
      "[ 91.11436678 212.6084002   83.89464984 717.71854274 586.72329735\n",
      " 694.31341357 294.91960913 558.17022613 518.19812034 142.48266966\n",
      " 132.89984534 353.23109578 254.45414148 350.20106325]\n",
      "[2.81178936e+15 6.56109523e+15 2.58898889e+15 2.21487942e+16\n",
      " 1.81062810e+16 2.14265119e+16 9.10121914e+15 1.72251332e+16\n",
      " 1.59915940e+16 4.39701519e+15 4.10128923e+15 1.09007116e+16\n",
      " 7.85245481e+15 1.08072048e+16]\n"
     ]
    }
   ],
   "source": [
    "# Using distance modulus equation to solve for D in pc given mv and Mv\n",
    "# Multiplying by 3.086e+13 to convert from pc to km\n",
    "# Distance Modulus: mv - Mv = 5logD - 5\n",
    "distance_wd_pc_5 = np.array([])\n",
    "distance_wd_km_5 = np.array([])\n",
    "for i in range(len(mv)):\n",
    "    distance_wd_pc_5 = np.append(distance_wd_pc_5, (10 ** (((mv[i] - Mv_wd_5[i]) + 5) / 5)))\n",
    "    distance_wd_km_5 = np.append(distance_wd_km_5, (distance_wd_pc_5[i] * 3.086e+13))\n",
    "print(distance_wd_pc_5)\n",
    "print(distance_wd_km_5)"
   ]
  },
  {
   "cell_type": "code",
   "execution_count": 8,
   "metadata": {},
   "outputs": [
    {
     "name": "stdout",
     "output_type": "stream",
     "text": [
      "5.1005\n",
      "Distance in parsecs: \n",
      "[ 96.894695   227.30029533  89.43345319 761.55276627 625.74876335\n",
      " 691.35323604 313.83400564 591.56163418 549.41435196 151.67010939\n",
      " 142.23287871 374.02445604 269.77394324 338.37634886]\n",
      "\n",
      "Distance in km: \n",
      "[2.99017029e+15 7.01448711e+15 2.75991637e+15 2.35015184e+16\n",
      " 1.93106068e+16 2.13351609e+16 9.68491741e+15 1.82555920e+16\n",
      " 1.69549269e+16 4.68053958e+15 4.38930664e+15 1.15423947e+16\n",
      " 8.32522389e+15 1.04422941e+16]\n"
     ]
    }
   ],
   "source": [
    "#Using trend line to guess Mv\n",
    "def fitline(x):\n",
    "    return 1.95*x+13.5\n",
    "\n",
    "#Using distance modulus equation to solve for D given mv and Mv\n",
    "print 19.79-fitline(0.61)\n",
    "distance_wd_trend_5 = 10**((mv-fitline(maddie_UV)+5)/5)\n",
    "\n",
    "print ('Distance in parsecs: ')\n",
    "print distance_wd_trend_5\n",
    "print\n",
    "print('Distance in km: ')\n",
    "distance_wd_km_trend_5 = distance_wd_trend_5 * 3.086e+13\n",
    "print distance_wd_km_trend_5"
   ]
  },
  {
   "cell_type": "code",
   "execution_count": 9,
   "metadata": {},
   "outputs": [
    {
     "data": {
      "text/plain": [
       "<matplotlib.collections.PathCollection at 0x1c1ed959d0>"
      ]
     },
     "execution_count": 9,
     "metadata": {},
     "output_type": "execute_result"
    },
    {
     "data": {
      "image/png": "[encoded data removed]",
      "text/plain": [
       "<Figure size 720x720 with 1 Axes>"
      ]
     },
     "metadata": {},
     "output_type": "display_data"
    }
   ],
   "source": [
    "#plotting distance calculated from weighted averages against distance calculated by trend to compare accuracy\n",
    "fig=plt.figure(figsize=(10,10))\n",
    "plt.scatter(maddie_UV, distance_wd_pc_5, c='black',edgecolors='none',s=60,alpha=0.5)\n",
    "plt.scatter(maddie_UV, distance_wd_trend_5, c='blue',edgecolors='none',s=60,alpha=0.5)"
   ]
  },
  {
   "cell_type": "code",
   "execution_count": 10,
   "metadata": {},
   "outputs": [
    {
     "data": {
      "text/plain": [
       "[<matplotlib.lines.Line2D at 0x1c1eda72d0>]"
      ]
     },
     "execution_count": 10,
     "metadata": {},
     "output_type": "execute_result"
    },
    {
     "data": {
      "image/png": "[encoded data removed]",
      "text/plain": [
       "<Figure size 720x720 with 1 Axes>"
      ]
     },
     "metadata": {},
     "output_type": "display_data"
    }
   ],
   "source": [
    "#plotting Mv calculated from weighted averages against UV vs Mv (table txt file) plot\n",
    "#Mv from weighted averages should lay on the curve since it is an average of two Mv points on the curve\n",
    "fig=plt.figure(figsize=(10,10))\n",
    "plt.scatter(UV_5, Mv_5, c='black',edgecolors='none',s=20,alpha=0.5)\n",
    "plt.ylim(28,-1)\n",
    "plt.xlabel('U-V')\n",
    "plt.ylabel('Mv(mag)')\n",
    "plt.scatter(maddie_UV, Mv_wd_5, c='blue',edgecolors='none',s=20,alpha=0.5)\n",
    "x_array = [-0.2, 1.8, 1.8, -0.2, -0.2]\n",
    "y_array = [18.7, 18.7, 23.3, 23.3, 18.7]\n",
    "plt.plot(x_array, y_array)"
   ]
  },
  {
   "cell_type": "code",
   "execution_count": 46,
   "metadata": {},
   "outputs": [
    {
     "name": "stdout",
     "output_type": "stream",
     "text": [
      "PMW in radians per sec\n",
      "(3.5334449359933375e-16, 'error:', 1.5362804069536253e-17)\n",
      "(0.0, 'error:', 0.0)\n",
      "(2.304420610430438e-16, 'error:', 6.145121627814501e-17)\n",
      "(1.5670060150926974e-15, 'error:', 1.5362804069536253e-17)\n",
      "(1.1829359133542914e-15, 'error:', 1.5362804069536253e-17)\n",
      "(-3.687072976688701e-16, 'error:', 3.0725608139072506e-17)\n",
      "(0.0, 'error:', 0.0)\n",
      "(-1.4901919947450162e-15, 'error:', 3.0725608139072506e-17)\n",
      "(2.7653047325165255e-16, 'error:', 3.0725608139072506e-17)\n",
      "(3.0725608139072506e-17, 'error:', 3.0725608139072506e-17)\n",
      "(2.4580486511258005e-16, 'error:', 4.608841220860876e-17)\n",
      "(3.2215800133817522e-15, 'error:', 1.9971645290397132e-17)\n",
      "(0.0, 'error:', 0.0)\n",
      "(8.418816630105866e-16, 'error:', 1.9971645290397132e-17)\n",
      "\n",
      "PMN in radians per sec\n",
      "(-5.069725342946963e-16, 'error:', 1.5362804069536253e-17)\n",
      "(0.0, 'error:', 0.0)\n",
      "(-3.687072976688701e-16, 'error:', 6.145121627814501e-17)\n",
      "(9.371310482417114e-16, 'error:', 1.5362804069536253e-17)\n",
      "(-1.9971645290397127e-16, 'error:', 1.5362804069536253e-17)\n",
      "(-1.3519267581191906e-15, 'error:', 3.0725608139072506e-17)\n",
      "(0.0, 'error:', 0.0)\n",
      "(-2.3197834144999736e-15, 'error:', 3.0725608139072506e-17)\n",
      "(7.374145953377402e-16, 'error:', 3.0725608139072506e-17)\n",
      "(-1.9971645290397127e-16, 'error:', 3.0725608139072506e-17)\n",
      "(-3.5334449359933375e-16, 'error:', 3.0725608139072506e-17)\n",
      "(2.1077767183403742e-15, 'error:', 2.1507925697350755e-17)\n",
      "(0.0, 'error:', 0.0)\n",
      "(1.1660368288778015e-15, 'error:', 1.9971645290397132e-17)\n"
     ]
    }
   ],
   "source": [
    "#converting PM from mas/yr to rad/sec\n",
    "\n",
    "# EGS 6592 PMW=20.97+/- 0.13, PMN=13.72+/- 0.14\n",
    "# GOODSN 8114:  PMW=5.48 +/- 0.13 PMN=7.59 +/- 0.13\n",
    "\n",
    "\n",
    "PMW = np.array([2.3, 0, 1.5, 10.2, 7.7, -2.4, 0, -9.7, 1.8, 0.2, 1.6, 20.97, 0, 5.48])\n",
    "PMW_error = np.array([0.1, 0, 0.4, 0.1, 0.1, 0.2, 0, 0.2, 0.2, 0.2, 0.3, 0.13, 0, 0.13])\n",
    "PMN = np.array([-3.3, 0, -2.4, 6.1, -1.3, -8.8, 0, -15.1, 4.8, -1.3, -2.3, 13.72, 0, 7.59])\n",
    "PMN_error = np.array([0.1, 0, 0.4, 0.1, 0.1, 0.2, 0, 0.2, 0.2, 0.2, 0.2, 0.14, 0, 0.13])\n",
    "\n",
    "PMW_radians_per_sec = np.array([])\n",
    "PMW_error_radians_per_sec = np.array([])\n",
    "PMN_radians_per_sec = np.array([])\n",
    "PMN_error_radians_per_sec = np.array([])\n",
    "\n",
    "#miliarcsec/year\n",
    "#arcsec/year * 1 year/265.25d * 1d/24h * 1h/60min \n",
    "\n",
    "\n",
    "\n",
    "for k in range(len(PMW)):\n",
    "    PMW_radians_per_sec = np.append(PMW_radians_per_sec, ((PMW[k] / (10 ** 3)) / 206265 / 365.25 / 24 / 3600))\n",
    "    PMW_error_radians_per_sec = np.append(PMW_error_radians_per_sec, ((PMW_error[k] / (10 ** 3)) / 206265 / 365.25 / 24 / 3600))\n",
    "    PMN_radians_per_sec = np.append(PMN_radians_per_sec, ((PMN[k] / (10 ** 3)) / 206265 / 365.25 / 24 / 3600))\n",
    "    PMN_error_radians_per_sec = np.append(PMN_error_radians_per_sec, ((PMN_error[k] / (10 ** 3)) / 206265 / 365.25 / 24 / 3600))\n",
    "\n",
    "# print(PMW_radians_per_sec)\n",
    "# print(PMW_error_radians_per_sec)\n",
    "# print(PMN_radians_per_sec)\n",
    "# print(PMN_error_radians_per_sec)\n",
    "\n",
    "print('PMW in radians per sec')\n",
    "for l in range(len(PMW)):\n",
    "    print(PMW_radians_per_sec[l], 'error:', PMW_error_radians_per_sec[l])\n",
    "\n",
    "print\n",
    "\n",
    "print('PMN in radians per sec')\n",
    "for m in range(len(PMN)):\n",
    "    print(PMN_radians_per_sec[m], 'error:', PMN_error_radians_per_sec[m])"
   ]
  },
  {
   "cell_type": "code",
   "execution_count": 12,
   "metadata": {
    "scrolled": true
   },
   "outputs": [
    {
     "name": "stdout",
     "output_type": "stream",
     "text": [
      "PMW in km per sec\n",
      "(0.9935302871571297, 'error:', 0.04319696900683173)\n",
      "(0.0, 'error:', 0.0)\n",
      "(0.5966119367755993, 'error:', 0.15909651647349315)\n",
      "(34.7072937838363, 'error:', 0.3402675861160422)\n",
      "(21.41857000043693, 'error:', 0.2781632467589212)\n",
      "(-7.900111316926169, 'error:', 0.6583426097438473)\n",
      "(0.0, 'error:', 0.0)\n",
      "(-25.668755570620704, 'error:', 0.5292526921777466)\n",
      "(4.422163055093587, 'error:', 0.4913514505659541)\n",
      "(0.13510096557873896, 'error:', 0.13510096557873896)\n",
      "(1.008116845241678, 'error:', 0.18902190848281464)\n",
      "(35.11751467290813, 'error:', 0.21770514580248246)\n",
      "(0.0, 'error:', 0.0)\n",
      "(9.098387559553235, 'error:', 0.21583766108429212)\n",
      "\n",
      "PMN in km per sec\n",
      "(-1.425499977225447, 'error: ', 0.04319696900683173)\n",
      "(0.0, 'error: ', 0.0)\n",
      "(-0.9545790988409589, 'error: ', 0.15909651647349315)\n",
      "(20.756322753078575, 'error: ', 0.3402675861160422)\n",
      "(-3.6161222078659754, 'error: ', 0.2781632467589212)\n",
      "(-28.967074828729288, 'error: ', 0.6583426097438473)\n",
      "(0.0, 'error: ', 0.0)\n",
      "(-39.95857825941986, 'error: ', 0.5292526921777466)\n",
      "(11.792434813582899, 'error: ', 0.4913514505659541)\n",
      "(-0.8781562762618033, 'error: ', 0.13510096557873896)\n",
      "(-1.4491679650349116, 'error: ', 0.12601460565520975)\n",
      "(22.976266157000456, 'error: ', 0.23445169547959646)\n",
      "(0.0, 'error: ', 0.0)\n",
      "(12.601598827921359, 'error: ', 0.21583766108429212)\n"
     ]
    }
   ],
   "source": [
    "#converting PM from rad/sec to km/sec\n",
    "PMW_km_per_sec_5 = np.array([])\n",
    "PMW_km_per_sec_error_5 = np.array([])\n",
    "PMN_km_per_sec_5 = np.array([])\n",
    "PMN_km_per_sec_error_5 = np.array([])\n",
    "\n",
    "print('PMW in km per sec')\n",
    "for i in range(len(PMW)):\n",
    "    print(PMW_radians_per_sec[i] * distance_wd_km_5[i], 'error:', PMW_error_radians_per_sec[i] * distance_wd_km_5[i])\n",
    "    PMW_km_per_sec_5 = np.append(PMW_km_per_sec_5, (PMW_radians_per_sec[i] * distance_wd_km_5[i]))\n",
    "    PMW_km_per_sec_error_5 = np.append(PMW_km_per_sec_error_5, (PMW_error_radians_per_sec[i] * distance_wd_km_5[i]))\n",
    "\n",
    "# print(PMW_km_per_sec_5)\n",
    "# print(PMW_km_per_sec_error_5)\n",
    "\n",
    "print\n",
    "\n",
    "print('PMN in km per sec')\n",
    "for j in range(len(PMN)):\n",
    "    print(PMN_radians_per_sec[j] * distance_wd_km_5[j], 'error: ', PMN_error_radians_per_sec[j] * distance_wd_km_5[j])\n",
    "    PMN_km_per_sec_5 = np.append(PMN_km_per_sec_5, (PMN_radians_per_sec[j] * distance_wd_km_5[j]))\n",
    "    PMN_km_per_sec_error_5 = np.append(PMN_km_per_sec_error_5, (PMN_error_radians_per_sec[j] * distance_wd_km_5[j]))\n",
    "\n",
    "# print(PMN_km_per_sec_5)\n",
    "# print(PMN_km_per_sec_error_5)"
   ]
  },
  {
   "cell_type": "code",
   "execution_count": 13,
   "metadata": {},
   "outputs": [
    {
     "data": {
      "text/plain": [
       "'*******************************************************************************************************************'"
      ]
     },
     "execution_count": 13,
     "metadata": {},
     "output_type": "execute_result"
    }
   ],
   "source": [
    "'*******************************************************************************************************************'"
   ]
  },
  {
   "cell_type": "code",
   "execution_count": 14,
   "metadata": {},
   "outputs": [
    {
     "name": "stdout",
     "output_type": "stream",
     "text": [
      "[18.984 18.491 18.097 17.774 17.51  17.285 17.082 16.883 16.684 16.478\n",
      " 16.257 16.012 15.742 15.462 15.178 14.909 14.658 14.222 13.865 13.557\n",
      " 13.281 13.023 12.783 12.554 12.342 12.149 11.977 11.834 11.714 11.615\n",
      " 11.544 11.476 11.406 11.336 11.27  11.207 11.148 11.09  11.036 10.982\n",
      " 10.682 10.241  9.814  9.433  9.19   8.986  8.793  8.616  8.446  8.286\n",
      "  8.126  7.968  7.795  7.589  7.388  7.183  6.951]\n"
     ]
    }
   ],
   "source": [
    "Mv_6 = np.loadtxt('Table_Mass_0.6.txt',usecols=(3),unpack=True)\n",
    "print(Mv_6)"
   ]
  },
  {
   "cell_type": "code",
   "execution_count": 15,
   "metadata": {},
   "outputs": [
    {
     "name": "stdout",
     "output_type": "stream",
     "text": [
      "[ 1.113  0.944  0.813  0.702  0.604  0.522  0.453  0.39   0.33   0.272\n",
      "  0.211  0.146  0.075  0.    -0.076 -0.149 -0.216 -0.335 -0.439 -0.515\n",
      " -0.563 -0.591 -0.602 -0.603 -0.597 -0.588 -0.582 -0.582 -0.587 -0.591\n",
      " -0.596 -0.603 -0.616 -0.633 -0.652 -0.672 -0.694 -0.715 -0.736 -0.757\n",
      " -0.87  -1.005 -1.106 -1.166 -1.196 -1.213 -1.225 -1.234 -1.241 -1.247\n",
      " -1.253 -1.257 -1.261 -1.264 -1.268 -1.271 -1.274]\n",
      "[ 1.418  1.423  1.384  1.336  1.285  1.234  1.189  1.143  1.099  1.052\n",
      "  1.002  0.948  0.887  0.823  0.757  0.694  0.636  0.533  0.445  0.374\n",
      "  0.322  0.283  0.255  0.236  0.224  0.215  0.207  0.197  0.187  0.177\n",
      "  0.167  0.154  0.138  0.12   0.102  0.082  0.065  0.049  0.034  0.021\n",
      " -0.046 -0.127 -0.193 -0.237 -0.26  -0.275 -0.286 -0.294 -0.301 -0.306\n",
      " -0.312 -0.316 -0.32  -0.324 -0.327 -0.33  -0.333]\n",
      "[ 2.531  2.367  2.197  2.038  1.889  1.756  1.642  1.533  1.429  1.324\n",
      "  1.213  1.094  0.962  0.823  0.681  0.545  0.42   0.198  0.006 -0.141\n",
      " -0.241 -0.308 -0.347 -0.367 -0.373 -0.373 -0.375 -0.385 -0.4   -0.414\n",
      " -0.429 -0.449 -0.478 -0.513 -0.55  -0.59  -0.629 -0.666 -0.702 -0.736\n",
      " -0.916 -1.132 -1.299 -1.403 -1.456 -1.488 -1.511 -1.528 -1.542 -1.553\n",
      " -1.565 -1.573 -1.581 -1.588 -1.595 -1.601 -1.607]\n"
     ]
    }
   ],
   "source": [
    "UB_6 = np.loadtxt('Table_Mass_0.6.txt', usecols=(4),unpack=True)\n",
    "print(UB_6)\n",
    "\n",
    "BV_6 = np.loadtxt('Table_Mass_0.6.txt', usecols=(5),unpack=True)\n",
    "print(BV_6)\n",
    "\n",
    "UV_6 = UB_6 + BV_6\n",
    "print(UV_6)"
   ]
  },
  {
   "cell_type": "code",
   "execution_count": 16,
   "metadata": {},
   "outputs": [
    {
     "data": {
      "text/plain": [
       "Text(0,0.5,'Mv(mag)')"
      ]
     },
     "execution_count": 16,
     "metadata": {},
     "output_type": "execute_result"
    },
    {
     "data": {
      "image/png": "[encoded data removed]",
      "text/plain": [
       "<Figure size 720x720 with 1 Axes>"
      ]
     },
     "metadata": {},
     "output_type": "display_data"
    }
   ],
   "source": [
    "#plotting model WD curve\n",
    "fig=plt.figure(figsize=(10,10))\n",
    "plt.scatter(UV_6, Mv_6, c='black',edgecolors='none',s=20,alpha=0.5)\n",
    "plt.ylim(22,4)\n",
    "plt.xlabel('U-V (0.6)')\n",
    "plt.ylabel('Mv(mag)')"
   ]
  },
  {
   "cell_type": "code",
   "execution_count": 17,
   "metadata": {},
   "outputs": [
    {
     "name": "stdout",
     "output_type": "stream",
     "text": [
      "[ 0.61  0.84  0.73  0.15  0.02 -0.25  0.65  0.18  0.17  0.67  0.88  0.27\n",
      "  0.48 -0.28]\n",
      "[15.03756618 15.4962446  15.276      14.13275    13.89103125 13.24634328\n",
      " 15.11668382 14.18853125 14.1699375  15.15624265 15.57682014 14.36340541\n",
      " 14.77848    13.1308209 ]\n"
     ]
    }
   ],
   "source": [
    "#using weighted averages for U-V from Maddie's table and the Table txt file to find corresponding Mv for each WD\n",
    "Mv_wd_6 = np.array([])\n",
    "for j in range(len(maddie_UV)):\n",
    "    for i in range(len(UV_6)):\n",
    "        if (maddie_UV[j] < UV_6[i]) and (maddie_UV[j] > UV_6[i+1]):\n",
    "#             x1 = UV[i]\n",
    "#             y1 = Mv[i]\n",
    "#             x2 = UV[i+1]\n",
    "#             y2 = Mv[i+1]\n",
    "#             x = [x1, x2]\n",
    "#             y = [y1, y2]\n",
    "#             plt.scatter(UV, Mv, c='black',edgecolors='none',s=5,alpha=0.5)\n",
    "#             plt.plot(x, y)\n",
    "#             plt.ylim(22,4)\n",
    "            weight1_6 = ((UV_6[i] - maddie_UV[j]) / (UV_6[i] - UV_6[i+1])) * 100\n",
    "            weight2_6 = ((maddie_UV[j] - UV_6[i+1]) / (UV_6[i] - UV_6[i+1])) * 100\n",
    "            Mv_wd_6 = np.append(Mv_wd_6, ((Mv_6[i]*weight2_6) + (Mv_6[i+1]*weight1_6)) / (weight1_6 + weight2_6))\n",
    "            #UV_wd = np.append(UV_wd, (((x1*(UV[i]-x1)) + (weight1)) / ((UV[i]-x1) + (UV[i+1]-x2))))\n",
    "#             print(UV_wd)\n",
    "#             for i in range(len(UV_wd)):\n",
    "#                 Mv_wd = np.append(Mv_wd, )\n",
    "print(maddie_UV)\n",
    "print(Mv_wd_6)"
   ]
  },
  {
   "cell_type": "code",
   "execution_count": 18,
   "metadata": {},
   "outputs": [
    {
     "name": "stdout",
     "output_type": "stream",
     "text": [
      "[ 82.54423837 192.73078004  76.03262769 651.10345518 532.10060167\n",
      " 620.77089009 267.21647784 506.40006179 470.12408374 129.10749968\n",
      " 120.4580896  320.27196098 230.41141976 311.91468428]\n",
      "[2.54731520e+15 5.94767187e+15 2.34636689e+15 2.00930526e+16\n",
      " 1.64206246e+16 1.91569897e+16 8.24630051e+15 1.56275059e+16\n",
      " 1.45080292e+16 3.98425744e+15 3.71733665e+15 9.88359272e+15\n",
      " 7.11049641e+15 9.62568716e+15]\n"
     ]
    }
   ],
   "source": [
    "# Using distance modulus equation to solve for D in pc given mv and Mv\n",
    "# Multiplying by 3.086e+13 to convert from pc to km\n",
    "# Distance Modulus: mv - Mv = 5logD - 5\n",
    "distance_wd_pc_6 = np.array([])\n",
    "distance_wd_km_6 = np.array([])\n",
    "for i in range(len(mv)):\n",
    "    distance_wd_pc_6 = np.append(distance_wd_pc_6, (10 ** (((mv[i] - Mv_wd_6[i]) + 5) / 5)))\n",
    "    distance_wd_km_6 = np.append(distance_wd_km_6, (distance_wd_pc_6[i] * 3.086e+13))\n",
    "print(distance_wd_pc_6)\n",
    "print(distance_wd_km_6)"
   ]
  },
  {
   "cell_type": "code",
   "execution_count": 19,
   "metadata": {},
   "outputs": [
    {
     "name": "stdout",
     "output_type": "stream",
     "text": [
      "5.1005\n",
      "Distance in parsecs: \n",
      "[ 96.894695   227.30029533  89.43345319 761.55276627 625.74876335\n",
      " 691.35323604 313.83400564 591.56163418 549.41435196 151.67010939\n",
      " 142.23287871 374.02445604 269.77394324 338.37634886]\n",
      "\n",
      "Distance in km: \n",
      "[2.99017029e+15 7.01448711e+15 2.75991637e+15 2.35015184e+16\n",
      " 1.93106068e+16 2.13351609e+16 9.68491741e+15 1.82555920e+16\n",
      " 1.69549269e+16 4.68053958e+15 4.38930664e+15 1.15423947e+16\n",
      " 8.32522389e+15 1.04422941e+16]\n"
     ]
    }
   ],
   "source": [
    "#Using trend line to guess Mv\n",
    "def fitline(x):\n",
    "    return 1.95*x+13.5\n",
    "\n",
    "#Using distance modulus equation to solve for D given mv and Mv\n",
    "print 19.79-fitline(0.61)\n",
    "distance_wd_trend_6 = 10**((mv-fitline(maddie_UV)+5)/5)\n",
    "\n",
    "print ('Distance in parsecs: ')\n",
    "print distance_wd_trend_6\n",
    "print\n",
    "print('Distance in km: ')\n",
    "distance_wd_km_trend_6 = distance_wd_trend_6 * 3.086e+13\n",
    "print distance_wd_km_trend_6"
   ]
  },
  {
   "cell_type": "code",
   "execution_count": 20,
   "metadata": {},
   "outputs": [
    {
     "data": {
      "text/plain": [
       "<matplotlib.collections.PathCollection at 0x1c1ef94a10>"
      ]
     },
     "execution_count": 20,
     "metadata": {},
     "output_type": "execute_result"
    },
    {
     "data": {
      "image/png": "[encoded data removed]",
      "text/plain": [
       "<Figure size 720x720 with 1 Axes>"
      ]
     },
     "metadata": {},
     "output_type": "display_data"
    }
   ],
   "source": [
    "#plotting distance calculated from weighted averages against distance calculated by trend to compare accuracy\n",
    "fig=plt.figure(figsize=(10,10))\n",
    "plt.scatter(maddie_UV, distance_wd_pc_6, c='black',edgecolors='none',s=60,alpha=0.5)\n",
    "plt.scatter(maddie_UV, distance_wd_trend_6, c='blue',edgecolors='none',s=60,alpha=0.5)"
   ]
  },
  {
   "cell_type": "code",
   "execution_count": 21,
   "metadata": {},
   "outputs": [
    {
     "data": {
      "text/plain": [
       "[<matplotlib.lines.Line2D at 0x1c1d5c6590>]"
      ]
     },
     "execution_count": 21,
     "metadata": {},
     "output_type": "execute_result"
    },
    {
     "data": {
      "image/png": "[encoded data removed]",
      "text/plain": [
       "<Figure size 720x720 with 1 Axes>"
      ]
     },
     "metadata": {},
     "output_type": "display_data"
    }
   ],
   "source": [
    "#plotting Mv calculated from weighted averages against UV vs Mv (table txt file) plot\n",
    "#Mv from weighted averages should lay on the curve since it is an average of two Mv points on the curve\n",
    "fig=plt.figure(figsize=(10,10))\n",
    "plt.scatter(UV_6, Mv_6, c='black',edgecolors='none',s=20,alpha=0.5)\n",
    "plt.ylim(28,-1)\n",
    "plt.xlabel('U-V')\n",
    "plt.ylabel('Mv(mag)')\n",
    "plt.scatter(maddie_UV, Mv_wd_6, c='blue',edgecolors='none',s=20,alpha=0.5)\n",
    "x_array = [-0.2, 1.8, 1.8, -0.2, -0.2]\n",
    "y_array = [18.7, 18.7, 23.3, 23.3, 18.7]\n",
    "plt.plot(x_array, y_array)"
   ]
  },
  {
   "cell_type": "code",
   "execution_count": 22,
   "metadata": {},
   "outputs": [
    {
     "name": "stdout",
     "output_type": "stream",
     "text": [
      "PMW in km per sec\n",
      "(0.9000797980567135, 'error:', 0.03913390426333538)\n",
      "(0.0, 'error:', 0.0)\n",
      "(0.5407016222416411, 'error:', 0.14418709926443762)\n",
      "(31.485934327633913, 'error:', 0.3086856306630777)\n",
      "(19.424546520591033, 'error:', 0.2522668379297537)\n",
      "(-7.063321891983829, 'error:', 0.588610157665319)\n",
      "(0.0, 'error:', 0.0)\n",
      "(-23.28798420014287, 'error:', 0.48016462268335824)\n",
      "(4.011912187300375, 'error:', 0.4457680208111528)\n",
      "(0.12241873283331335, 'error:', 0.12241873283331335)\n",
      "(0.9137394326347492, 'error:', 0.1713261436190155)\n",
      "(31.840784753855658, 'error:', 0.19739160791612953)\n",
      "(0.0, 'error:', 0.0)\n",
      "(8.103689511188808, 'error:', 0.19224080957199732)\n",
      "\n",
      "PMN in km per sec\n",
      "(-1.2914188406900673, 'error: ', 0.03913390426333538)\n",
      "(0.0, 'error: ', 0.0)\n",
      "(-0.8651225955866257, 'error: ', 0.14418709926443762)\n",
      "(18.82982347044774, 'error: ', 0.3086856306630777)\n",
      "(-3.2794688930867975, 'error: ', 0.2522668379297537)\n",
      "(-25.898846937274044, 'error: ', 0.588610157665319)\n",
      "(0.0, 'error: ', 0.0)\n",
      "(-36.25242901259354, 'error: ', 0.48016462268335824)\n",
      "(10.698432499467668, 'error: ', 0.4457680208111528)\n",
      "(-0.7957217634165368, 'error: ', 0.12241873283331335)\n",
      "(-1.313500434412452, 'error: ', 0.11421742907934365)\n",
      "(20.832406620071517, 'error: ', 0.21257557775583177)\n",
      "(0.0, 'error: ', 0.0)\n",
      "(11.223905728088148, 'error: ', 0.19224080957199732)\n"
     ]
    }
   ],
   "source": [
    "#converting PM from rad/sec to km/sec\n",
    "PMW_km_per_sec_6 = np.array([])\n",
    "PMW_km_per_sec_error_6 = np.array([])\n",
    "PMN_km_per_sec_6 = np.array([])\n",
    "PMN_km_per_sec_error_6 = np.array([])\n",
    "\n",
    "print('PMW in km per sec')\n",
    "for i in range(len(PMW)):\n",
    "    print(PMW_radians_per_sec[i] * distance_wd_km_6[i], 'error:', PMW_error_radians_per_sec[i] * distance_wd_km_6[i])\n",
    "    PMW_km_per_sec_6 = np.append(PMW_km_per_sec_6, (PMW_radians_per_sec[i] * distance_wd_km_6[i]))\n",
    "    PMW_km_per_sec_error_6 = np.append(PMW_km_per_sec_error_6, (PMW_error_radians_per_sec[i] * distance_wd_km_6[i]))\n",
    "\n",
    "# print(PMW_km_per_sec_6)\n",
    "# print(PMW_km_per_sec_error_6)\n",
    "\n",
    "print\n",
    "\n",
    "print('PMN in km per sec')\n",
    "for j in range(len(PMN)):\n",
    "    print(PMN_radians_per_sec[j] * distance_wd_km_6[j], 'error: ', PMN_error_radians_per_sec[j] * distance_wd_km_6[j])\n",
    "    PMN_km_per_sec_6 = np.append(PMN_km_per_sec_6, (PMN_radians_per_sec[j] * distance_wd_km_6[j]))\n",
    "    PMN_km_per_sec_error_6 = np.append(PMN_km_per_sec_error_6, (PMN_error_radians_per_sec[j] * distance_wd_km_6[j]))\n",
    "\n",
    "# print(PMN_km_per_sec_6)\n",
    "# print(PMN_km_per_sec_error_6)"
   ]
  },
  {
   "cell_type": "code",
   "execution_count": 23,
   "metadata": {},
   "outputs": [
    {
     "data": {
      "text/plain": [
       "'*******************************************************************************************************************'"
      ]
     },
     "execution_count": 23,
     "metadata": {},
     "output_type": "execute_result"
    }
   ],
   "source": [
    "'*******************************************************************************************************************'"
   ]
  },
  {
   "cell_type": "code",
   "execution_count": 24,
   "metadata": {},
   "outputs": [
    {
     "name": "stdout",
     "output_type": "stream",
     "text": [
      "[19.186 18.684 18.29  17.965 17.696 17.466 17.261 17.063 16.866 16.662\n",
      " 16.445 16.205 15.942 15.667 15.387 15.12  14.872 14.437 14.08  13.774\n",
      " 13.5   13.244 13.006 12.78  12.569 12.377 12.204 12.06  11.937 11.833\n",
      " 11.758 11.691 11.626 11.559 11.492 11.429 11.37  11.314 11.261 11.208\n",
      " 10.915 10.488 10.079  9.732  9.504  9.329  9.169  9.035  8.902  8.777\n",
      "  8.653  8.535  8.416  8.282  8.149  8.019  7.887]\n"
     ]
    }
   ],
   "source": [
    "Mv_7 = np.loadtxt('Table_Mass_0.7.txt',usecols=(3),unpack=True)\n",
    "print(Mv_7)"
   ]
  },
  {
   "cell_type": "code",
   "execution_count": 25,
   "metadata": {},
   "outputs": [
    {
     "name": "stdout",
     "output_type": "stream",
     "text": [
      "[ 1.066  0.913  0.784  0.676  0.582  0.502  0.435  0.376  0.318  0.261\n",
      "  0.203  0.14   0.071 -0.003 -0.077 -0.15  -0.216 -0.334 -0.438 -0.517\n",
      " -0.569 -0.6   -0.615 -0.619 -0.617 -0.611 -0.607 -0.608 -0.614 -0.62\n",
      " -0.624 -0.632 -0.642 -0.656 -0.673 -0.691 -0.711 -0.73  -0.751 -0.771\n",
      " -0.881 -1.013 -1.112 -1.171 -1.199 -1.215 -1.227 -1.236 -1.243 -1.249\n",
      " -1.254 -1.258 -1.263 -1.265 -1.268 -1.271 -1.274]\n",
      "[ 1.387  1.407  1.371  1.321  1.269  1.22   1.176  1.132  1.089  1.044\n",
      "  0.996  0.943  0.884  0.821  0.756  0.693  0.636  0.534  0.446  0.375\n",
      "  0.322  0.283  0.255  0.236  0.224  0.216  0.209  0.2    0.19   0.181\n",
      "  0.171  0.161  0.147  0.131  0.114  0.095  0.078  0.062  0.046  0.032\n",
      " -0.037 -0.121 -0.189 -0.234 -0.257 -0.273 -0.284 -0.292 -0.299 -0.304\n",
      " -0.31  -0.314 -0.318 -0.322 -0.325 -0.327 -0.331]\n",
      "[ 2.453  2.32   2.155  1.997  1.851  1.722  1.611  1.508  1.407  1.305\n",
      "  1.199  1.083  0.955  0.818  0.679  0.543  0.42   0.2    0.008 -0.142\n",
      " -0.247 -0.317 -0.36  -0.383 -0.393 -0.395 -0.398 -0.408 -0.424 -0.439\n",
      " -0.453 -0.471 -0.495 -0.525 -0.559 -0.596 -0.633 -0.668 -0.705 -0.739\n",
      " -0.918 -1.134 -1.301 -1.405 -1.456 -1.488 -1.511 -1.528 -1.542 -1.553\n",
      " -1.564 -1.572 -1.581 -1.587 -1.593 -1.598 -1.605]\n"
     ]
    }
   ],
   "source": [
    "UB_7 = np.loadtxt('Table_Mass_0.7.txt', usecols=(4),unpack=True)\n",
    "print(UB_7)\n",
    "\n",
    "BV_7 = np.loadtxt('Table_Mass_0.7.txt', usecols=(5),unpack=True)\n",
    "print(BV_7)\n",
    "\n",
    "UV_7 = UB_7 + BV_7\n",
    "print(UV_7)"
   ]
  },
  {
   "cell_type": "code",
   "execution_count": 26,
   "metadata": {},
   "outputs": [
    {
     "data": {
      "text/plain": [
       "Text(0,0.5,'Mv(mag)')"
      ]
     },
     "execution_count": 26,
     "metadata": {},
     "output_type": "execute_result"
    },
    {
     "data": {
      "image/png": "[encoded data removed]",
      "text/plain": [
       "<Figure size 720x720 with 1 Axes>"
      ]
     },
     "metadata": {},
     "output_type": "display_data"
    }
   ],
   "source": [
    "#plotting model WD curve\n",
    "fig=plt.figure(figsize=(10,10))\n",
    "plt.scatter(UV_7, Mv_7, c='black',edgecolors='none',s=20,alpha=0.5)\n",
    "plt.ylim(22,4)\n",
    "plt.xlabel('U-V (0.7)')\n",
    "plt.ylabel('Mv(mag)')"
   ]
  },
  {
   "cell_type": "code",
   "execution_count": 27,
   "metadata": {},
   "outputs": [
    {
     "name": "stdout",
     "output_type": "stream",
     "text": [
      "[ 0.61  0.84  0.73  0.15  0.02 -0.25  0.65  0.18  0.17  0.67  0.88  0.27\n",
      "  0.48 -0.28]\n",
      "[15.25153676 15.71116058 15.48973381 14.34403125 14.1023125  13.48902857\n",
      " 15.33006618 14.3998125  14.38121875 15.36933088 15.79145255 14.57540909\n",
      " 14.99297561 13.37931429]\n"
     ]
    }
   ],
   "source": [
    "#using weighted averages for U-V from Maddie's table and the Table txt file to find corresponding Mv for each WD\n",
    "Mv_wd_7 = np.array([])\n",
    "for j in range(len(maddie_UV)):\n",
    "    for i in range(len(UV_7)):\n",
    "        if (maddie_UV[j] < UV_7[i]) and (maddie_UV[j] > UV_7[i+1]):\n",
    "#             x1 = UV[i]\n",
    "#             y1 = Mv[i]\n",
    "#             x2 = UV[i+1]\n",
    "#             y2 = Mv[i+1]\n",
    "#             x = [x1, x2]\n",
    "#             y = [y1, y2]\n",
    "#             plt.scatter(UV, Mv, c='black',edgecolors='none',s=5,alpha=0.5)\n",
    "#             plt.plot(x, y)\n",
    "#             plt.ylim(22,4)\n",
    "            weight1_7 = ((UV_7[i] - maddie_UV[j]) / (UV_7[i] - UV_7[i+1])) * 100\n",
    "            weight2_7 = ((maddie_UV[j] - UV_7[i+1]) / (UV_7[i] - UV_7[i+1])) * 100\n",
    "            Mv_wd_7 = np.append(Mv_wd_7, ((Mv_7[i]*weight2_7) + (Mv_7[i+1]*weight1_7)) / (weight1_7 + weight2_7))\n",
    "            #UV_wd = np.append(UV_wd, (((x1*(UV[i]-x1)) + (weight1)) / ((UV[i]-x1) + (UV[i+1]-x2))))\n",
    "#             print(UV_wd)\n",
    "#             for i in range(len(UV_wd)):\n",
    "#                 Mv_wd = np.append(Mv_wd, )\n",
    "print(maddie_UV)\n",
    "print(Mv_wd_7)"
   ]
  },
  {
   "cell_type": "code",
   "execution_count": 28,
   "metadata": {},
   "outputs": [
    {
     "name": "stdout",
     "output_type": "stream",
     "text": [
      "[ 74.79845839 174.56930513  68.90539671 590.73642443 482.76691571\n",
      " 555.1294732  242.20704139 459.44920036 426.53654816 117.03986806\n",
      " 109.1212894  290.48130154 208.73961497 278.18719973]\n",
      "[2.30828043e+15 5.38720876e+15 2.12642054e+15 1.82301261e+16\n",
      " 1.48981870e+16 1.71312955e+16 7.47450930e+15 1.41786023e+16\n",
      " 1.31629179e+16 3.61185033e+15 3.36748299e+15 8.96425297e+15\n",
      " 6.44170452e+15 8.58485698e+15]\n"
     ]
    }
   ],
   "source": [
    "# Using distance modulus equation to solve for D in pc given mv and Mv\n",
    "# Multiplying by 3.086e+13 to convert from pc to km\n",
    "# Distance Modulus: mv - Mv = 5logD - 5\n",
    "distance_wd_pc_7 = np.array([])\n",
    "distance_wd_km_7 = np.array([])\n",
    "for i in range(len(mv)):\n",
    "    distance_wd_pc_7 = np.append(distance_wd_pc_7, (10 ** (((mv[i] - Mv_wd_7[i]) + 5) / 5)))\n",
    "    distance_wd_km_7 = np.append(distance_wd_km_7, (distance_wd_pc_7[i] * 3.086e+13))\n",
    "print(distance_wd_pc_7)\n",
    "print(distance_wd_km_7)"
   ]
  },
  {
   "cell_type": "code",
   "execution_count": 29,
   "metadata": {},
   "outputs": [
    {
     "name": "stdout",
     "output_type": "stream",
     "text": [
      "5.1005\n",
      "Distance in parsecs: \n",
      "[ 96.894695   227.30029533  89.43345319 761.55276627 625.74876335\n",
      " 691.35323604 313.83400564 591.56163418 549.41435196 151.67010939\n",
      " 142.23287871 374.02445604 269.77394324 338.37634886]\n",
      "\n",
      "Distance in km: \n",
      "[2.99017029e+15 7.01448711e+15 2.75991637e+15 2.35015184e+16\n",
      " 1.93106068e+16 2.13351609e+16 9.68491741e+15 1.82555920e+16\n",
      " 1.69549269e+16 4.68053958e+15 4.38930664e+15 1.15423947e+16\n",
      " 8.32522389e+15 1.04422941e+16]\n"
     ]
    }
   ],
   "source": [
    "#Using trend line to guess Mv\n",
    "def fitline(x):\n",
    "    return 1.95*x+13.5\n",
    "\n",
    "#Using distance modulus equation to solve for D given mv and Mv\n",
    "print 19.79-fitline(0.61)\n",
    "distance_wd_trend_7 = 10**((mv-fitline(maddie_UV)+5)/5)\n",
    "\n",
    "print ('Distance in parsecs: ')\n",
    "print distance_wd_trend_7\n",
    "print\n",
    "print('Distance in km: ')\n",
    "distance_wd_km_trend_7 = distance_wd_trend_7 * 3.086e+13\n",
    "print distance_wd_km_trend_7"
   ]
  },
  {
   "cell_type": "code",
   "execution_count": 30,
   "metadata": {},
   "outputs": [
    {
     "data": {
      "text/plain": [
       "<matplotlib.collections.PathCollection at 0x1c1ecbe590>"
      ]
     },
     "execution_count": 30,
     "metadata": {},
     "output_type": "execute_result"
    },
    {
     "data": {
      "image/png": "[encoded data removed]",
      "text/plain": [
       "<Figure size 720x720 with 1 Axes>"
      ]
     },
     "metadata": {},
     "output_type": "display_data"
    }
   ],
   "source": [
    "#plotting distance calculated from weighted averages against distance calculated by trend to compare accuracy\n",
    "fig=plt.figure(figsize=(10,10))\n",
    "plt.scatter(maddie_UV, distance_wd_pc_7, c='black',edgecolors='none',s=60,alpha=0.5)\n",
    "plt.scatter(maddie_UV, distance_wd_trend_7, c='blue',edgecolors='none',s=60,alpha=0.5)"
   ]
  },
  {
   "cell_type": "code",
   "execution_count": 31,
   "metadata": {},
   "outputs": [
    {
     "data": {
      "text/plain": [
       "[<matplotlib.lines.Line2D at 0x1c1e9ec0d0>]"
      ]
     },
     "execution_count": 31,
     "metadata": {},
     "output_type": "execute_result"
    },
    {
     "data": {
      "image/png": "[encoded data removed]",
      "text/plain": [
       "<Figure size 720x720 with 1 Axes>"
      ]
     },
     "metadata": {},
     "output_type": "display_data"
    }
   ],
   "source": [
    "#plotting Mv calculated from weighted averages against UV vs Mv (table txt file) plot\n",
    "#Mv from weighted averages should lay on the curve since it is an average of two Mv points on the curve\n",
    "fig=plt.figure(figsize=(10,10))\n",
    "plt.scatter(UV_7, Mv_7, c='black',edgecolors='none',s=20,alpha=0.5)\n",
    "plt.ylim(28,-1)\n",
    "plt.xlabel('U-V')\n",
    "plt.ylabel('Mv(mag)')\n",
    "plt.scatter(maddie_UV, Mv_wd_7, c='blue',edgecolors='none',s=20,alpha=0.5)\n",
    "x_array = [-0.2, 1.8, 1.8, -0.2, -0.2]\n",
    "y_array = [18.7, 18.7, 23.3, 23.3, 18.7]\n",
    "plt.plot(x_array, y_array)"
   ]
  },
  {
   "cell_type": "code",
   "execution_count": 32,
   "metadata": {},
   "outputs": [
    {
     "name": "stdout",
     "output_type": "stream",
     "text": [
      "PMW in km per sec\n",
      "(0.8156181781641086, 'error:', 0.03546165992017865)\n",
      "(0.0, 'error:', 0.0)\n",
      "(0.4900167324271179, 'error:', 0.13067112864723143)\n",
      "(28.56671718842632, 'error:', 0.2800658547884934)\n",
      "(17.623600468484305, 'error:', 0.22887792816213387)\n",
      "(-6.316433685202272, 'error:', 0.5263694737668559)\n",
      "(0.0, 'error:', 0.0)\n",
      "(-21.128839678425827, 'error:', 0.43564617893661506)\n",
      "(3.6399479096551586, 'error:', 0.40443865662835093)\n",
      "(0.11097629784417301, 'error:', 0.11097629784417301)\n",
      "(0.8277437023314349, 'error:', 0.15520194418714406)\n",
      "(28.879058188296145, 'error:', 0.17903088051876487)\n",
      "(0.0, 'error:', 0.0)\n",
      "(7.227433674110624, 'error:', 0.17145371854641997)\n",
      "\n",
      "PMN in km per sec\n",
      "(-1.1702347773658952, 'error: ', 0.03546165992017865)\n",
      "(0.0, 'error: ', 0.0)\n",
      "(-0.7840267718833887, 'error: ', 0.13067112864723143)\n",
      "(17.084017142098098, 'error: ', 0.2800658547884934)\n",
      "(-2.97541306610774, 'error: ', 0.22887792816213387)\n",
      "(-23.160256845741667, 'error: ', 0.5263694737668559)\n",
      "(0.0, 'error: ', 0.0)\n",
      "(-32.891286509714426, 'error: ', 0.43564617893661506)\n",
      "(9.706527759080423, 'error: ', 0.40443865662835093)\n",
      "(-0.7213459359871246, 'error: ', 0.11097629784417301)\n",
      "(-1.1898815721014375, 'error: ', 0.10346796279142936)\n",
      "(18.89464369782657, 'error: ', 0.19280248671251599)\n",
      "(0.0, 'error: ', 0.0)\n",
      "(10.010259413594824, 'error: ', 0.17145371854641997)\n"
     ]
    }
   ],
   "source": [
    "#converting PM from rad/sec to km/sec\n",
    "PMW_km_per_sec_7 = np.array([])\n",
    "PMW_km_per_sec_error_7 = np.array([])\n",
    "PMN_km_per_sec_7 = np.array([])\n",
    "PMN_km_per_sec_error_7 = np.array([])\n",
    "\n",
    "print('PMW in km per sec')\n",
    "for i in range(len(PMW)):\n",
    "    print(PMW_radians_per_sec[i] * distance_wd_km_7[i], 'error:', PMW_error_radians_per_sec[i] * distance_wd_km_7[i])\n",
    "    PMW_km_per_sec_7 = np.append(PMW_km_per_sec_7, (PMW_radians_per_sec[i] * distance_wd_km_7[i]))\n",
    "    PMW_km_per_sec_error_7 = np.append(PMW_km_per_sec_error_7, (PMW_error_radians_per_sec[i] * distance_wd_km_7[i]))\n",
    "\n",
    "# print(PMW_km_per_sec_7)\n",
    "# print(PMW_km_per_sec_error_7)\n",
    "\n",
    "print\n",
    "\n",
    "print('PMN in km per sec')\n",
    "for j in range(len(PMN)):\n",
    "    print(PMN_radians_per_sec[j] * distance_wd_km_7[j], 'error: ', PMN_error_radians_per_sec[j] * distance_wd_km_7[j])\n",
    "    PMN_km_per_sec_7 = np.append(PMN_km_per_sec_7, (PMN_radians_per_sec[j] * distance_wd_km_7[j]))\n",
    "    PMN_km_per_sec_error_7 = np.append(PMN_km_per_sec_error_7, (PMN_error_radians_per_sec[j] * distance_wd_km_7[j]))\n",
    "\n",
    "# print(PMN_km_per_sec_7)\n",
    "# print(PMN_km_per_sec_error_7)"
   ]
  },
  {
   "cell_type": "code",
   "execution_count": 33,
   "metadata": {},
   "outputs": [
    {
     "name": "stdout",
     "output_type": "stream",
     "text": [
      "[  0.99353029   1.03672726   0.95033332   0.9000798    0.9392137\n",
      "   0.86094589   0.81561818   0.85107984   0.78015652   0.\n",
      "   0.           0.           0.           0.           0.\n",
      "   0.           0.           0.           0.59661194   0.75570845\n",
      "   0.43751542   0.54070162   0.68488872   0.39651452   0.49001673\n",
      "   0.62068786   0.3593456   34.70729378  35.04756137  34.3670262\n",
      "  31.48593433  31.79461996  31.1772487   28.56671719  28.84678304\n",
      "  28.28665133  21.41857     21.69673325  21.14040675  19.42454652\n",
      "  19.67681336  19.17227968  17.62360047  17.8524784   17.39472254\n",
      "  -7.90011132  -7.24176871  -8.55845393  -7.06332189  -6.47471173\n",
      "  -7.65193205  -6.31643369  -5.79006421  -6.84280316   0.\n",
      "   0.           0.           0.           0.           0.\n",
      "   0.           0.           0.         -25.66875557 -25.13950288\n",
      " -26.19800826 -23.2879842  -22.80781958 -23.76814882 -21.12883968\n",
      " -20.6931935  -21.56448586   4.42216306   4.91351451   3.9308116\n",
      "   4.01191219   4.45768021   3.56614417   3.63994791   4.04438657\n",
      "   3.23550925   0.13510097   0.27020193   0.           0.12241873\n",
      "   0.24483747   0.           0.1109763    0.2219526    0.\n",
      "   1.00811685   1.19713875   0.81909494   0.91373943   1.08506558\n",
      "   0.74241329   0.8277437    0.98294565   0.67254176  35.11751467\n",
      "  35.33521982  34.89980953  31.84078475  32.03817636  31.64339315\n",
      "  28.87905819  29.05808907  28.70002731   0.           0.\n",
      "   0.           0.           0.           0.           0.\n",
      "   0.           0.           9.09838756   9.31422522   8.8825499\n",
      "   8.10368951   8.29593032   7.9114487    7.22743367   7.39888739\n",
      "   7.05597996]\n",
      "126\n",
      "[ -1.42549998  -1.38230301  -1.46869695  -1.29141884  -1.25228494\n",
      "  -1.33055274  -1.17023478  -1.13477312  -1.20569644   0.\n",
      "   0.           0.           0.           0.           0.\n",
      "   0.           0.           0.          -0.9545791   -0.79548258\n",
      "  -1.11367562  -0.8651226   -0.7209355   -1.00930969  -0.78402677\n",
      "  -0.65335564  -0.9146979   20.75632275  21.09659034  20.41605517\n",
      "  18.82982347  19.1385091   18.52113784  17.08401714  17.364083\n",
      "  16.80395129  -3.61612221  -3.33795896  -3.89428545  -3.27946889\n",
      "  -3.02720206  -3.53173573  -2.97541307  -2.74653514  -3.20429099\n",
      " -28.96707483 -28.30873222 -29.62541744 -25.89884694 -25.31023678\n",
      " -26.48745709 -23.16025685 -22.63388737 -23.68662632   0.\n",
      "   0.           0.           0.           0.           0.\n",
      "   0.           0.           0.         -39.95857826 -39.42932557\n",
      " -40.48783095 -36.25242901 -35.77226439 -36.73259364 -32.89128651\n",
      " -32.45564033 -33.32693269  11.79243481  12.28378626  11.30108336\n",
      "  10.6984325   11.14420052  10.25266448   9.70652776  10.11096642\n",
      "   9.3020891   -0.87815628  -0.74305531  -1.01325724  -0.79572176\n",
      "  -0.67330303  -0.9181405   -0.72134594  -0.61036964  -0.83232223\n",
      "  -1.44916797  -1.32315336  -1.57518257  -1.31350043  -1.19928301\n",
      "  -1.42771786  -1.18988157  -1.08641361  -1.29334953  22.97626616\n",
      "  23.21071785  22.74181446  20.83240662  21.0449822   20.61983104\n",
      "  18.8946437   19.08744618  18.70184121   0.           0.\n",
      "   0.           0.           0.           0.           0.\n",
      "   0.           0.          12.60159883  12.81743649  12.38576117\n",
      "  11.22390573  11.41614654  11.03166492  10.01025941  10.18171313\n",
      "   9.8388057 ]\n",
      "126\n"
     ]
    }
   ],
   "source": [
    "#creating an array with PMW (+ error, no error, - error) for every WD --- 9 PM values for each WD\n",
    "PMW_with_error = np.array([])\n",
    "for i in range(0, len(PMW_km_per_sec_5)):\n",
    "    PMW_with_error = np.append(PMW_with_error, PMW_km_per_sec_5[i])\n",
    "    PMW_with_error = np.append(PMW_with_error, PMW_km_per_sec_5[i] + PMW_km_per_sec_error_5[i])\n",
    "    PMW_with_error = np.append(PMW_with_error, PMW_km_per_sec_5[i] - PMW_km_per_sec_error_5[i])\n",
    "    \n",
    "    PMW_with_error = np.append(PMW_with_error, PMW_km_per_sec_6[i])\n",
    "    PMW_with_error = np.append(PMW_with_error, PMW_km_per_sec_6[i] + PMW_km_per_sec_error_6[i])\n",
    "    PMW_with_error = np.append(PMW_with_error, PMW_km_per_sec_6[i] - PMW_km_per_sec_error_6[i])\n",
    "    \n",
    "    PMW_with_error = np.append(PMW_with_error, PMW_km_per_sec_7[i])\n",
    "    PMW_with_error = np.append(PMW_with_error, PMW_km_per_sec_7[i] + PMW_km_per_sec_error_7[i])\n",
    "    PMW_with_error = np.append(PMW_with_error, PMW_km_per_sec_7[i] - PMW_km_per_sec_error_7[i])\n",
    "\n",
    "print(PMW_with_error)\n",
    "print(len(PMW_with_error))\n",
    "\n",
    "#creating an array with PMN (+ error, no error, - error) for every WD --- 9 PM values for each WD\n",
    "PMN_with_error = np.array([])\n",
    "for i in range(0, len(PMN_km_per_sec_5)):\n",
    "    PMN_with_error = np.append(PMN_with_error, PMN_km_per_sec_5[i])\n",
    "    PMN_with_error = np.append(PMN_with_error, PMN_km_per_sec_5[i] + PMN_km_per_sec_error_5[i])\n",
    "    PMN_with_error = np.append(PMN_with_error, PMN_km_per_sec_5[i] - PMN_km_per_sec_error_5[i])\n",
    "\n",
    "    PMN_with_error = np.append(PMN_with_error, PMN_km_per_sec_6[i])\n",
    "    PMN_with_error = np.append(PMN_with_error, PMN_km_per_sec_6[i] + PMN_km_per_sec_error_6[i])\n",
    "    PMN_with_error = np.append(PMN_with_error, PMN_km_per_sec_6[i] - PMN_km_per_sec_error_6[i])\n",
    "    \n",
    "    PMN_with_error = np.append(PMN_with_error, PMN_km_per_sec_7[i])\n",
    "    PMN_with_error = np.append(PMN_with_error, PMN_km_per_sec_7[i] + PMN_km_per_sec_error_7[i])\n",
    "    PMN_with_error = np.append(PMN_with_error, PMN_km_per_sec_7[i] - PMN_km_per_sec_error_7[i])\n",
    "\n",
    "print(PMN_with_error)\n",
    "print(len(PMN_with_error))\n",
    "    \n",
    "# [1:3] = including index 1, not including index 3"
   ]
  },
  {
   "cell_type": "code",
   "execution_count": 34,
   "metadata": {
    "scrolled": true
   },
   "outputs": [
    {
     "name": "stdout",
     "output_type": "stream",
     "text": [
      "[  0.90307609   0.           0.54244343  31.58664843  19.48890566\n",
      "  -7.09328896   0.         -23.36185982   4.02467438   0.122832\n",
      "   0.91653333  31.94578587   0.           8.14317025]\n",
      "\n",
      "[0.07946307 0.         0.12623197 2.52068504 1.56376067 0.80828879\n",
      " 0.         1.89565942 0.48601963 0.10109538 0.1588766  2.55307972\n",
      " 0.         0.7805692 ]\n"
     ]
    }
   ],
   "source": [
    "#calculating mean PMW from the 9 values for each WD\n",
    "PMW_mean = np.array([])\n",
    "PMW_mean = np.append(PMW_mean,(np.mean(PMW_with_error[:9]),np.mean(PMW_with_error[9:18]),np.mean(PMW_with_error[18:27]),np.mean(PMW_with_error[27:36]),np.mean(PMW_with_error[36:45]), np.mean(PMW_with_error[45:54]),np.mean(PMW_with_error[54:63]),np.mean(PMW_with_error[63:72]),np.mean(PMW_with_error[72:81]),np.mean(PMW_with_error[81:90]),np.mean(PMW_with_error[90:99]),np.mean(PMW_with_error[99:108]),np.mean(PMW_with_error[108:117]),np.mean(PMW_with_error[117:126])))\n",
    "print PMW_mean\n",
    "\n",
    "print\n",
    "\n",
    "PMW_standard_deviation = np.array([])\n",
    "PMW_standard_deviation = np.append(PMW_standard_deviation,(np.std(PMW_with_error[:9]),np.std(PMW_with_error[9:18]),np.std(PMW_with_error[18:27]),np.std(PMW_with_error[27:36]),np.std(PMW_with_error[36:45]), np.std(PMW_with_error[45:54]),np.std(PMW_with_error[54:63]),np.std(PMW_with_error[63:72]),np.std(PMW_with_error[72:81]),np.std(PMW_with_error[81:90]),np.std(PMW_with_error[90:99]),np.std(PMW_with_error[99:108]),np.std(PMW_with_error[108:117]),np.std(PMW_with_error[117:126])))\n",
    "print PMW_standard_deviation"
   ]
  },
  {
   "cell_type": "code",
   "execution_count": 35,
   "metadata": {},
   "outputs": [
    {
     "name": "stdout",
     "output_type": "stream",
     "text": [
      "[ -1.29571787   0.          -0.86790949  18.89005446  -3.29033472\n",
      " -26.0087262    0.         -36.36743126  10.73246502  -0.79840799\n",
      "  -1.31751666  20.90110549   0.          11.27858799]\n",
      "\n",
      "[0.10910423 0.         0.13744503 1.5211136  0.33384802 2.42090242\n",
      " 0.         2.91319492 0.92731011 0.11926879 0.14149149 1.67615162\n",
      " 0.         1.07040456]\n"
     ]
    }
   ],
   "source": [
    "#calculating mean PMW from the 9 values for each WD\n",
    "PMN_mean = np.array([])\n",
    "PMN_mean = np.append(PMN_mean,(np.mean(PMN_with_error[:9]),np.mean(PMN_with_error[9:18]),np.mean(PMN_with_error[18:27]),np.mean(PMN_with_error[27:36]),np.mean(PMN_with_error[36:45]), np.mean(PMN_with_error[45:54]),np.mean(PMN_with_error[54:63]),np.mean(PMN_with_error[63:72]),np.mean(PMN_with_error[72:81]),np.mean(PMN_with_error[81:90]),np.mean(PMN_with_error[90:99]),np.mean(PMN_with_error[99:108]),np.mean(PMN_with_error[108:117]),np.mean(PMN_with_error[117:126])))\n",
    "print PMN_mean\n",
    "\n",
    "print\n",
    "\n",
    "PMN_standard_deviation = np.array([])\n",
    "PMN_standard_deviation = np.append(PMN_standard_deviation,(np.std(PMN_with_error[:9]),np.std(PMN_with_error[9:18]),np.std(PMN_with_error[18:27]),np.std(PMN_with_error[27:36]),np.std(PMN_with_error[36:45]), np.std(PMN_with_error[45:54]),np.std(PMN_with_error[54:63]),np.std(PMN_with_error[63:72]),np.std(PMN_with_error[72:81]),np.std(PMN_with_error[81:90]),np.std(PMN_with_error[90:99]),np.std(PMN_with_error[99:108]),np.std(PMN_with_error[108:117]),np.std(PMN_with_error[117:126])))\n",
    "print PMN_standard_deviation"
   ]
  },
  {
   "cell_type": "code",
   "execution_count": 36,
   "metadata": {},
   "outputs": [
    {
     "name": "stdout",
     "output_type": "stream",
     "text": [
      "[['11200' '2047' '2365' '9466' '5833' '9359' 'irac095466' 'irac1128062'\n",
      "  '8913' '3188' 'uv27611' '6592' '10234' '8114']\n",
      " ['GOODS-N' 'GOODS-N' 'GOODS-N' 'GOODS-N' 'EGS' 'EGS' 'EGS' 'EGS'\n",
      "  'COSMOS' 'COSMOS' 'COSMOS' 'EGS' 'EGS' 'GOODS-N']\n",
      " ['0.9030760877926506' '0.0' '0.5424434304814528' '31.586648433298844'\n",
      "  '19.48890566317076' '-7.093288964704089' '0.0' '-23.361859816396468'\n",
      "  '4.0246743840163735' '0.12283199875207511' '0.916533326735954'\n",
      "  '31.94578587168665' '0.0' '8.143170248284221']\n",
      " ['0.07946307144514182' '0.0' '0.12623196854176405' '2.52068504444327'\n",
      "  '1.5637606729347802' '0.8082887851089945' '0.0' '1.8956594230241846'\n",
      "  '0.4860196313793968' '0.1010953781794608' '0.15887660412014193'\n",
      "  '2.5530797217191044' '0.0' '0.7805692043992035']\n",
      " ['-1.2957178650938033' '0.0' '-0.8679094887703244' '18.890054455208137'\n",
      "  '-3.290334722353504' '-26.008726203915' '0.0' '-36.36743126057594'\n",
      "  '10.732465024043664' '-0.7984079918884883' '-1.3175166571829338'\n",
      "  '20.901105491632848' '0.0' '11.27858798986811']\n",
      " ['0.10910422665956725' '0.0' '0.13744502935424768' '1.521113597410225'\n",
      "  '0.3338480218663985' '2.4209024175051628' '0.0' '2.913194923874979'\n",
      "  '0.9273101077829821' '0.11926879395109898' '0.14149149094203534'\n",
      "  '1.6761516207421605' '0.0' '1.0704045558715287']]\n",
      "[['11200' 'GOODS-N' '0.9030760877926506' '0.07946307144514182'\n",
      "  '-1.2957178650938033' '0.10910422665956725']\n",
      " ['2047' 'GOODS-N' '0.0' '0.0' '0.0' '0.0']\n",
      " ['2365' 'GOODS-N' '0.5424434304814528' '0.12623196854176405'\n",
      "  '-0.8679094887703244' '0.13744502935424768']\n",
      " ['9466' 'GOODS-N' '31.586648433298844' '2.52068504444327'\n",
      "  '18.890054455208137' '1.521113597410225']\n",
      " ['5833' 'EGS' '19.48890566317076' '1.5637606729347802'\n",
      "  '-3.290334722353504' '0.3338480218663985']\n",
      " ['9359' 'EGS' '-7.093288964704089' '0.8082887851089945'\n",
      "  '-26.008726203915' '2.4209024175051628']\n",
      " ['irac095466' 'EGS' '0.0' '0.0' '0.0' '0.0']\n",
      " ['irac1128062' 'EGS' '-23.361859816396468' '1.8956594230241846'\n",
      "  '-36.36743126057594' '2.913194923874979']\n",
      " ['8913' 'COSMOS' '4.0246743840163735' '0.4860196313793968'\n",
      "  '10.732465024043664' '0.9273101077829821']\n",
      " ['3188' 'COSMOS' '0.12283199875207511' '0.1010953781794608'\n",
      "  '-0.7984079918884883' '0.11926879395109898']\n",
      " ['uv27611' 'COSMOS' '0.916533326735954' '0.15887660412014193'\n",
      "  '-1.3175166571829338' '0.14149149094203534']\n",
      " ['6592' 'EGS' '31.94578587168665' '2.5530797217191044'\n",
      "  '20.901105491632848' '1.6761516207421605']\n",
      " ['10234' 'EGS' '0.0' '0.0' '0.0' '0.0']\n",
      " ['8114' 'GOODS-N' '8.143170248284221' '0.7805692043992035'\n",
      "  '11.27858798986811' '1.0704045558715287']]\n",
      "(14, 6)\n"
     ]
    }
   ],
   "source": [
    "#(GOODS-N:) 11200, 2047, 2365, 9466      (EGS:) 5833,  9359,  irac095466, irac1128062  (COSMOS:) 8913,  3188,  uv27611      (EGS:) 6592, 10234     (GOODS-N:) 8114 \n",
    "ID = np.array([11200, 2047, 2365, 9466, 5833,  9359, 'irac095466', 'irac1128062', 8913,  3188,  'uv27611', 6592, 10234, 8114])\n",
    "fields = np.array(['GOODS-N','GOODS-N','GOODS-N','GOODS-N','EGS','EGS','EGS','EGS','COSMOS','COSMOS','COSMOS','EGS','EGS','GOODS-N'])\n",
    "table_data = np.array([ID, fields, PMW_mean, PMW_standard_deviation, PMN_mean, PMN_standard_deviation])\n",
    "print(table_data)\n",
    "edited_table_data = np.transpose(table_data)\n",
    "print edited_table_data\n",
    "print edited_table_data.shape\n",
    "np.savetxt('transverse_velocities_data.csv',edited_table_data,delimiter=',',fmt='%s',header='ID,Field,PMW,PMW error,PMN,PMN error')"
   ]
  },
  {
   "cell_type": "code",
   "execution_count": 37,
   "metadata": {},
   "outputs": [
    {
     "name": "stdout",
     "output_type": "stream",
     "text": [
      "[2.81178936e+15 6.56109523e+15 2.58898889e+15 2.21487942e+16\n",
      " 1.81062810e+16 2.14265119e+16 9.10121914e+15 1.72251332e+16\n",
      " 1.59915940e+16 4.39701519e+15 4.10128923e+15 1.09007116e+16\n",
      " 7.85245481e+15 1.08072048e+16]\n"
     ]
    },
    {
     "data": {
      "text/plain": [
       "(array([4., 0., 2., 1., 2., 0., 1., 2., 0., 2.]),\n",
       " array([2.58898889e+15, 4.54496943e+15, 6.50094996e+15, 8.45693049e+15,\n",
       "        1.04129110e+16, 1.23688916e+16, 1.43248721e+16, 1.62808526e+16,\n",
       "        1.82368332e+16, 2.01928137e+16, 2.21487942e+16]),\n",
       " <a list of 1 Patch objects>)"
      ]
     },
     "execution_count": 37,
     "metadata": {},
     "output_type": "execute_result"
    },
    {
     "data": {
      "image/png": "[encoded data removed]",
      "text/plain": [
       "<Figure size 432x288 with 1 Axes>"
      ]
     },
     "metadata": {},
     "output_type": "display_data"
    }
   ],
   "source": [
    "print distance_wd_km_5\n",
    "plt.hist(distance_wd_km_5,color='orange',histtype='step')"
   ]
  },
  {
   "cell_type": "code",
   "execution_count": 38,
   "metadata": {},
   "outputs": [
    {
     "name": "stdout",
     "output_type": "stream",
     "text": [
      "[['11200' '2047' '2365' '9466' '5833' '9359' 'irac095466' 'irac1128062'\n",
      "  '8913' '3188' 'uv27611' '6592' '10234' '8114']\n",
      " ['GOODS-N' 'GOODS-N' 'GOODS-N' 'GOODS-N' 'EGS' 'EGS' 'EGS' 'EGS'\n",
      "  'COSMOS' 'COSMOS' 'COSMOS' 'EGS' 'EGS' 'GOODS-N']\n",
      " ['2811789358980980.0' '6561095230068659.0' '2588988894107137.0'\n",
      "  '2.2148794228963544e+16' '1.810628095625501e+16'\n",
      "  '2.142651194287217e+16' '9101219137610918.0' '1.7225133178233744e+16'\n",
      "  '1.599159399358226e+16' '4397015185744576.5' '4101289227045830.0'\n",
      "  '1.090071161574057e+16' '7852454805934223.0' '1.0807204811917638e+16']\n",
      " ['2547315196249631.5' '5947671872141141.0' '2346366890637402.0'\n",
      "  '2.0093052626713332e+16' '1.6420624567489436e+16'\n",
      "  '1.915698966806803e+16' '8246300506139109.0' '1.5627505906799366e+16'\n",
      "  '1.450802922414049e+16' '3984257440217706.5' '3717336645132110.5'\n",
      "  '9883592715871054.0' '7110496413898939.0' '9625687156802826.0']\n",
      " ['2308280425869488.0' '5387208756269508.0' '2126420542366129.5'\n",
      "  '1.8230126057771664e+16' '1.489818701886516e+16'\n",
      "  '1.7131295542934862e+16' '7474509297318935.0' '1.417860232301217e+16'\n",
      "  '1.3162917876116592e+16' '3611850328295015.0' '3367482990836343.0'\n",
      "  '8964252965420301.0' '6441704517875259.0' '8584856983658688.0']]\n",
      "[['11200' 'GOODS-N' '2811789358980980.0' '2547315196249631.5'\n",
      "  '2308280425869488.0']\n",
      " ['2047' 'GOODS-N' '6561095230068659.0' '5947671872141141.0'\n",
      "  '5387208756269508.0']\n",
      " ['2365' 'GOODS-N' '2588988894107137.0' '2346366890637402.0'\n",
      "  '2126420542366129.5']\n",
      " ['9466' 'GOODS-N' '2.2148794228963544e+16' '2.0093052626713332e+16'\n",
      "  '1.8230126057771664e+16']\n",
      " ['5833' 'EGS' '1.810628095625501e+16' '1.6420624567489436e+16'\n",
      "  '1.489818701886516e+16']\n",
      " ['9359' 'EGS' '2.142651194287217e+16' '1.915698966806803e+16'\n",
      "  '1.7131295542934862e+16']\n",
      " ['irac095466' 'EGS' '9101219137610918.0' '8246300506139109.0'\n",
      "  '7474509297318935.0']\n",
      " ['irac1128062' 'EGS' '1.7225133178233744e+16' '1.5627505906799366e+16'\n",
      "  '1.417860232301217e+16']\n",
      " ['8913' 'COSMOS' '1.599159399358226e+16' '1.450802922414049e+16'\n",
      "  '1.3162917876116592e+16']\n",
      " ['3188' 'COSMOS' '4397015185744576.5' '3984257440217706.5'\n",
      "  '3611850328295015.0']\n",
      " ['uv27611' 'COSMOS' '4101289227045830.0' '3717336645132110.5'\n",
      "  '3367482990836343.0']\n",
      " ['6592' 'EGS' '1.090071161574057e+16' '9883592715871054.0'\n",
      "  '8964252965420301.0']\n",
      " ['10234' 'EGS' '7852454805934223.0' '7110496413898939.0'\n",
      "  '6441704517875259.0']\n",
      " ['8114' 'GOODS-N' '1.0807204811917638e+16' '9625687156802826.0'\n",
      "  '8584856983658688.0']]\n",
      "(14, 5)\n"
     ]
    }
   ],
   "source": [
    "table_distance_data = np.array([ID, fields, distance_wd_km_5, distance_wd_km_6, distance_wd_km_7])\n",
    "print(table_distance_data)\n",
    "edited_table_distance_data = np.transpose(table_distance_data)\n",
    "print edited_table_distance_data\n",
    "print edited_table_distance_data.shape\n",
    "np.savetxt('distance_data.csv',edited_table_distance_data,delimiter=',',fmt='%s',header='ID,Field,Distance (0.5),Distance (0.6),Distance (0.7)')"
   ]
  },
  {
   "cell_type": "code",
   "execution_count": 54,
   "metadata": {},
   "outputs": [
    {
     "data": {
      "image/png": "[encoded data removed]",
      "text/plain": [
       "<Figure size 432x288 with 1 Axes>"
      ]
     },
     "metadata": {},
     "output_type": "display_data"
    }
   ],
   "source": [
    "plt.scatter(distance_wd_km_6, np.sqrt((PMW_km_per_sec_6 ** 2) + (PMN_km_per_sec_6 ** 2)),c='black',edgecolors='none',s=20,alpha=0.5)\n",
    "plt.xlabel('Distance (km)')\n",
    "plt.savefig(out_dir+'dist_vs_PM_km.pdf')\n"
   ]
  },
  {
   "cell_type": "code",
   "execution_count": 59,
   "metadata": {},
   "outputs": [
    {
     "data": {
      "image/png": "[encoded data removed]",
      "text/plain": [
       "<Figure size 432x288 with 1 Axes>"
      ]
     },
     "metadata": {},
     "output_type": "display_data"
    }
   ],
   "source": [
    "plt.scatter(distance_wd_km_6, np.sqrt((PMW ** 2) + (PMN ** 2)),c='black',edgecolors='none',s=20,alpha=0.5)"
   ]
  },
  {
   "cell_type": "code",
   "execution_count": 60,
   "metadata": {},
   "outputs": [
    {
     "data": {
      "image/png": "[encoded data removed]",
      "text/plain": [
       "<Figure size 432x288 with 1 Axes>"
      ]
     },
     "metadata": {},
     "output_type": "display_data"
    }
   ],
   "source": [
    "plt.scatter(distance_wd_km_6, np.abs(PMW_km_per_sec_6),c='black',edgecolors='none',s=20,alpha=0.5)\n",
    "plt.xlabel('Distance (km)')\n",
    "plt.savefig(out_dir+'dist_vs_abs_PMW_km.pdf')"
   ]
  },
  {
   "cell_type": "code",
   "execution_count": 61,
   "metadata": {},
   "outputs": [
    {
     "data": {
      "image/png": "[encoded data removed]",
      "text/plain": [
       "<Figure size 432x288 with 1 Axes>"
      ]
     },
     "metadata": {},
     "output_type": "display_data"
    }
   ],
   "source": [
    "plt.scatter(distance_wd_km_6, np.abs(PMN_km_per_sec_6),c='black',edgecolors='none',s=20,alpha=0.5)\n",
    "plt.xlabel('Distance (km)')\n",
    "plt.savefig(out_dir+'dist_vs_abs_PMN_km.pdf')"
   ]
  },
  {
   "cell_type": "code",
   "execution_count": null,
   "metadata": {},
   "outputs": [],
   "source": []
  }
 ],
 "metadata": {
  "kernelspec": {
   "display_name": "Python 2",
   "language": "python",
   "name": "python2"
  },
  "language_info": {
   "codemirror_mode": {
    "name": "ipython",
    "version": 2
   },
   "file_extension": ".py",
   "mimetype": "text/x-python",
   "name": "python",
   "nbconvert_exporter": "python",
   "pygments_lexer": "ipython2",
   "version": "2.7.15"
  }
 },
 "nbformat": 4,
 "nbformat_minor": 2
}
